{
  "cells": [
    {
      "cell_type": "markdown",
      "metadata": {
        "id": "MpkYHwCqk7W-"
      },
      "source": [
        "![MuJoCo banner](https://raw.githubusercontent.com/google-deepmind/mujoco/main/banner.png)\n",
        "\n",
        "# <h1><center>Tutorial  <a href=\"https://colab.research.google.com/github/google-deepmind/mujoco/blob/main/python/tutorial.ipynb\"><img src=\"https://colab.research.google.com/assets/colab-badge.svg\" width=\"140\" align=\"center\"/></a></center></h1>\n",
        "\n",
        "このnotebookは， [**MuJoCo** physics](https://github.com/google-deepmind/mujoco#readme)の入門チュートリアルです．ネイティブのPythonバインディングを使用しています。\n",
        "\n",
        "**CPUのみのランタイムを使用している場合**は、メニューの \"Runtime > Change runtime type \"で切り替えることができます。\n",
        "\n",
        "\n",
        "\n",
        "\n",
        "\n",
        "\n",
        "\n",
        "\n"
      ]
    },
    {
      "cell_type": "markdown",
      "metadata": {
        "id": "xBSdkbmGN2K-"
      },
      "source": [
        "### 著作権について"
      ]
    },
    {
      "cell_type": "markdown",
      "metadata": {
        "id": "_UbO9uhtBSX5"
      },
      "source": [
        "> <p><small><small>Copyright 2022 DeepMind Technologies Limited.</small></p>\n",
        "> <p><small><small>Licensed under the Apache License, Version 2.0 (the \"License\"); you may not use this file except in compliance with the License. You may obtain a copy of the License at <a href=\"http://www.apache.org/licenses/LICENSE-2.0\">http://www.apache.org/licenses/LICENSE-2.0</a>.</small></small></p>\n",
        "> <p><small><small>Unless required by applicable law or agreed to in writing, software distributed under the License is distributed on an \"AS IS\" BASIS, WITHOUT WARRANTIES OR CONDITIONS OF ANY KIND, either express or implied. See the License for the specific language governing permissions and limitations under the License.</small></small></p>"
      ]
    },
    {
      "cell_type": "markdown",
      "metadata": {
        "id": "YvyGCsgSCxHQ"
      },
      "source": [
        "# Install MuJoCo"
      ]
    },
    {
      "cell_type": "code",
      "execution_count": null,
      "metadata": {
        "id": "Xqo7pyX-n72M"
      },
      "outputs": [],
      "source": [
        "!pip install mujoco"
      ]
    },
    {
      "cell_type": "code",
      "execution_count": 4,
      "metadata": {
        "cellView": "form",
        "id": "IbZxYDxzoz5R"
      },
      "outputs": [
        {
          "name": "stdout",
          "output_type": "stream",
          "text": [
            "mujocoのインストールが成功しているか確認します\n",
            "インストールは成功していました.\n"
          ]
        }
      ],
      "source": [
        "#@title インストールが成功したかどうかを確認する\n",
        "\n",
        "# from google.colab import files\n",
        "\n",
        "import distutils.util\n",
        "import os\n",
        "import subprocess\n",
        "if subprocess.run('nvidia-smi').returncode: #GPUが利用可能かどうかを確認します。subprocess.run('nvidia-smi').returncode は、nvidia-smiコマンドを実行し、その戻り値を取得しています。もしGPUが利用できない場合はエラーが発生します。\n",
        "  raise RuntimeError(\n",
        "      'Cannot communicate with GPU. '\n",
        "      'Make sure you are using a GPU Colab runtime. '\n",
        "      'Go to the Runtime menu and select Choose runtime type.')\n",
        "\n",
        "# # Add an ICD config so that glvnd can pick up the Nvidia EGL driver.\n",
        "# # This is usually installed as part of an Nvidia driver package, but the Colab\n",
        "# # kernel doesn't install its driver via APT, and as a result the ICD is missing.\n",
        "# # (https://github.com/NVIDIA/libglvnd/blob/master/src/EGL/icd_enumeration.md)\n",
        "# NVIDIA_ICD_CONFIG_PATH = '/usr/share/glvnd/egl_vendor.d/10_nvidia.json'\n",
        "# if not os.path.exists(NVIDIA_ICD_CONFIG_PATH):\n",
        "#   with open(NVIDIA_ICD_CONFIG_PATH, 'w') as f:\n",
        "#     f.write(\"\"\"{\n",
        "#     \"file_format_version\" : \"1.0.0\",\n",
        "#     \"ICD\" : {\n",
        "#         \"library_path\" : \"libEGL_nvidia.so.0\"\n",
        "#     }\n",
        "# }\n",
        "# \"\"\")\n",
        "\n",
        "# Configure MuJoCo to use the EGL rendering backend (requires GPU)\n",
        "# print('Setting environment variable to use GPU rendering:')\n",
        "# %env MUJOCO_GL=egl\n",
        "\n",
        "try:\n",
        "  print('mujocoのインストールが成功しているか確認します')\n",
        "  import mujoco\n",
        "  mujoco.MjModel.from_xml_string('<mujoco/>') #超単純なxmlを読み込ませ，エラーが出ないか確かめる\n",
        "except Exception as e:\n",
        "  raise e from RuntimeError(\n",
        "      'Something went wrong during installation. Check the shell output above '\n",
        "      'for more information.\\n'\n",
        "      'If using a hosted Colab runtime, make sure you enable GPU acceleration '\n",
        "      'by going to the Runtime menu and selecting \"Choose runtime type\".')\n",
        "\n",
        "print('インストールは成功していました.')"
      ]
    },
    {
      "cell_type": "code",
      "execution_count": null,
      "metadata": {
        "id": "T5f4w3Kq2X14"
      },
      "outputs": [],
      "source": [
        "#Import packages for plotting and creating graphics\n",
        "import time\n",
        "import itertools\n",
        "import numpy as np\n",
        "from typing import Callable, NamedTuple, Optional, Union, List\n",
        "\n",
        "# Graphics and plotting.\n",
        "print('Installing mediapy:')\n",
        "# !pip install -q mediapy\n",
        "import mediapy as media\n",
        "import matplotlib.pyplot as plt\n",
        "\n",
        "# More legible printing from numpy.\n",
        "np.set_printoptions(precision=3, suppress=True, linewidth=100)\n",
        "# コードの意味\n",
        "# np.set_printoptions: これはNumPyの関数であり、NumPyのデフォルトの出力オプションを変更します。\n",
        "# precision=3: 小数点以下の桁数を3桁に設定します。つまり、浮動小数点数は3桁まで表示されます。\n",
        "# suppress=True: 指数表記を抑制します。通常、非常に大きな数や非常に小さな数は指数表記で表示されますが、このオプションをTrueに設定することで、通常の小数形式で表示されます。\n",
        "# linewidth=100: 1行に表示される文字の最大数を100文字に設定します。これにより、行が長すぎて読みにくくなるのを防ぎます。\n",
        "# つまり、このコードは、NumPyを使用する際に出力される浮動小数点数のフォーマットを設定し、より読みやすい形式で表示するためのものです。"
      ]
    },
    {
      "cell_type": "markdown",
      "metadata": {
        "id": "t0CF6Gvkt_Cw"
      },
      "source": [
        "# MuJoCoの基本\n",
        "\n",
        "まず、簡単なモデルを定義し、ロードすることから始めます："
      ]
    },
    {
      "cell_type": "code",
      "execution_count": 6,
      "metadata": {
        "id": "3KJVqak6xdJa"
      },
      "outputs": [],
      "source": [
        "xml = \"\"\"\n",
        "<mujoco>\n",
        "  <worldbody>\n",
        "    <geom name=\"red_box\" type=\"box\" size=\".2 .2 .2\" rgba=\"1 0 0 1\"/>\n",
        "    <geom name=\"green_sphere\" pos=\".2 .2 .2\" size=\".1\" rgba=\"0 1 0 1\"/>\n",
        "  </worldbody>\n",
        "</mujoco>\n",
        "\"\"\"\n",
        "model = mujoco.MjModel.from_xml_string(xml)"
      ]
    },
    {
      "cell_type": "markdown",
      "metadata": {
        "id": "slhf39lGxvDI"
      },
      "source": [
        "以下はMuJoCo公式チュートリアルの一部の日本語訳です：\n",
        "\n",
        "\n",
        "`xml`文字列はMuJoCoの[ MJCF ](http://www.mujoco.org/book/modeling.html)形式で書かれており、これは[XML](https://en.wikipedia.org/wiki/XML#Key_terminology)ベースのモデリング言語です。\n",
        "  - 唯一必須の要素は `<mujoco>` です。最小の有効なMJCFモデルは `<mujoco/>` であり、完全に空のモデルです。\n",
        "  - すべての物理要素は常にトップレベルのボディであり、デカルト座標系におけるグローバルオリジンを構成する `<worldbody>` 内に存在します。\n",
        "  - 我々は `red_box` と `green_sphere` という名前の二つの形状を定義しています。\n",
        "  - **質問:** `red_box` には位置がありませんし、`green_sphere` にはタイプがありません。それはなぜですか？\n",
        "    - **回答:** MJCFの属性には *デフォルト値* があります。デフォルトの位置は `0 0 0` であり、デフォルトのジオムタイプは `sphere` です。MJCF言語の詳細はドキュメンテーションの[XMLリファレンス章](https://mujoco.readthedocs.io/en/latest/XMLreference.html)で説明されています。\n",
        "\n",
        "`from_xml_string()` メソッドはモデルコンパイラを呼び出し、バイナリの `mjModel` インスタンスを作成します。"
      ]
    },
    {
      "cell_type": "markdown",
      "metadata": {
        "id": "gf9h_wi9weet"
      },
      "source": [
        "## mjModel\n",
        "\n",
        "MuJoCoの `mjModel` は*モデルの記述*を含みます。つまり、*時間経過によって変化しない*すべての数量が含まれています。`mjModel`の完全な説明はヘッダファイル [`mjmodel.h`](https://github.com/google-deepmind/mujoco/blob/main/include/mujoco/mjmodel.h) の最後にあります。ヘッダファイルには各フィールドを説明する短い有用なインラインコメントが含まれていることに注意してください。\n",
        "\n",
        "`mjModel`で見つかる数量の例としては、`ngeom`（シーン内のジオムの数）やそれぞれの色を示す `geom_rgba` があります。"
      ]
    },
    {
      "cell_type": "code",
      "execution_count": 7,
      "metadata": {
        "id": "F40Pe6DY3Q0g"
      },
      "outputs": [
        {
          "data": {
            "text/plain": [
              "2"
            ]
          },
          "execution_count": 7,
          "metadata": {},
          "output_type": "execute_result"
        }
      ],
      "source": [
        "model.ngeom"
      ]
    },
    {
      "cell_type": "code",
      "execution_count": 8,
      "metadata": {
        "id": "MOIJG9pzx8cA"
      },
      "outputs": [
        {
          "data": {
            "text/plain": [
              "array([[1., 0., 0., 1.],\n",
              "       [0., 1., 0., 1.]], dtype=float32)"
            ]
          },
          "execution_count": 8,
          "metadata": {},
          "output_type": "execute_result"
        }
      ],
      "source": [
        "model.geom_rgba"
      ]
    },
    {
      "cell_type": "markdown",
      "metadata": {
        "id": "bzcLjdY23Kvp"
      },
      "source": [
        "## Named access (指名アクセス?)\n",
        "\n",
        "MuJoCoのPythonバインディングは、名前を使用した便利な[アクセサ](https://mujoco.readthedocs.io/en/latest/python.html#named-access)を提供します。名前文字列なしで `model.geom()` アクセサを呼び出すと、有効な名前が何かを教えてくれる便利なエラーが生成されます。"
      ]
    },
    {
      "cell_type": "code",
      "execution_count": 9,
      "metadata": {
        "id": "9AuTwbLFyJxQ"
      },
      "outputs": [
        {
          "name": "stdout",
          "output_type": "stream",
          "text": [
            "\"Invalid name ''. Valid names: ['green_sphere', 'red_box']\"\n"
          ]
        }
      ],
      "source": [
        "try:\n",
        "  model.geom()\n",
        "except KeyError as e:\n",
        "  print(e)"
      ]
    },
    {
      "cell_type": "markdown",
      "metadata": {
        "id": "qkfLK3h2zrqr"
      },
      "source": [
        "特定のプロパティを指定せずに名前付きアクセサを呼び出すと、すべての有効なプロパティが表示されます  \n",
        "(つまり，ただ名前を指定してmodel.geomを実行すると，どんな機能があるかを一覧表示してくれる？)"
      ]
    },
    {
      "cell_type": "code",
      "execution_count": 10,
      "metadata": {
        "id": "9X95TlWnyEEw"
      },
      "outputs": [
        {
          "data": {
            "text/plain": [
              "<_MjModelGeomViews\n",
              "  bodyid: array([0])\n",
              "  conaffinity: array([1])\n",
              "  condim: array([3])\n",
              "  contype: array([1])\n",
              "  dataid: array([-1])\n",
              "  friction: array([1.e+00, 5.e-03, 1.e-04])\n",
              "  gap: array([0.])\n",
              "  group: array([0])\n",
              "  id: 1\n",
              "  margin: array([0.])\n",
              "  matid: array([-1])\n",
              "  name: 'green_sphere'\n",
              "  pos: array([0.2, 0.2, 0.2])\n",
              "  priority: array([0])\n",
              "  quat: array([1., 0., 0., 0.])\n",
              "  rbound: array([0.1])\n",
              "  rgba: array([0., 1., 0., 1.], dtype=float32)\n",
              "  sameframe: array([0], dtype=uint8)\n",
              "  size: array([0.1, 0. , 0. ])\n",
              "  solimp: array([9.0e-01, 9.5e-01, 1.0e-03, 5.0e-01, 2.0e+00])\n",
              "  solmix: array([1.])\n",
              "  solref: array([0.02, 1.  ])\n",
              "  type: array([2])\n",
              "  user: array([], dtype=float64)\n",
              ">"
            ]
          },
          "execution_count": 10,
          "metadata": {},
          "output_type": "execute_result"
        }
      ],
      "source": [
        "model.geom('green_sphere')"
      ]
    },
    {
      "cell_type": "markdown",
      "metadata": {
        "id": "mS9qDLevKsJq"
      },
      "source": [
        "それでは `green_sphere`'の色情報であるrgba値を見ていきましょう:\n",
        "（さっき一覧表示した中のrgbaオプション（プロパティ？）を使ってみるという場面）"
      ]
    },
    {
      "cell_type": "code",
      "execution_count": 11,
      "metadata": {
        "id": "xsBlJAV7zpHb"
      },
      "outputs": [
        {
          "data": {
            "text/plain": [
              "array([0., 1., 0., 1.], dtype=float32)"
            ]
          },
          "execution_count": 11,
          "metadata": {},
          "output_type": "execute_result"
        }
      ],
      "source": [
        "model.geom('green_sphere').rgba"
      ]
    },
    {
      "cell_type": "markdown",
      "metadata": {
        "id": "8a8hswjjKyIa"
      },
      "source": [
        "以下の機能は、MuJoCoの[`mj_name2id`](https://mujoco.readthedocs.io/en/latest/APIreference.html?highlight=mj_name2id#mj-name2id)関数の便利なショートカットです："
      ]
    },
    {
      "cell_type": "code",
      "execution_count": 12,
      "metadata": {
        "id": "Ng92hNUoKnVq"
      },
      "outputs": [
        {
          "data": {
            "text/plain": [
              "array([0., 1., 0., 1.], dtype=float32)"
            ]
          },
          "execution_count": 12,
          "metadata": {},
          "output_type": "execute_result"
        }
      ],
      "source": [
        "id = mujoco.mj_name2id(model, mujoco.mjtObj.mjOBJ_GEOM, 'green_sphere')\n",
        "model.geom_rgba[id, :]"
      ]
    },
    {
      "cell_type": "markdown",
      "metadata": {
        "id": "5WL_SaJPLl3r"
      },
      "source": [
        "同様に、読み取り専用の `id` と `name` プロパティは、idから名前への変換やその逆を行うのに使用できます：\n",
        "（mujocoで物体を指定する場合，その物体を定義するときにつけた名前でも指定できるし，idでも指定できる．名前とidを相互変換できる機能がある）"
      ]
    },
    {
      "cell_type": "code",
      "execution_count": 13,
      "metadata": {
        "id": "2CbGSmRZeE5p"
      },
      "outputs": [
        {
          "name": "stdout",
          "output_type": "stream",
          "text": [
            "id of \"green_sphere\":  1\n",
            "name of geom 1:  green_sphere\n",
            "name of body 0:  world\n"
          ]
        }
      ],
      "source": [
        "print('id of \"green_sphere\": ', model.geom('green_sphere').id)\n",
        "print('name of geom 1: ', model.geom(1).name)\n",
        "print('name of body 0: ', model.body(0).name)"
      ]
    },
    {
      "cell_type": "markdown",
      "metadata": {
        "id": "3RIizubaL_du"
      },
      "source": [
        "0番目のボディは常に `world` です。これは名前を変更できません。\n",
        "\n",
        "`id` および `name` 属性はPythonの内包表記で便利です：\n",
        "（内包表記で，一文でmodel内のgeomの名前を一覧表示するプログラムの紹介）"
      ]
    },
    {
      "cell_type": "code",
      "execution_count": 15,
      "metadata": {
        "id": "m3MtIE5F1K7s"
      },
      "outputs": [
        {
          "data": {
            "text/plain": [
              "['red_box', 'green_sphere']"
            ]
          },
          "execution_count": 15,
          "metadata": {},
          "output_type": "execute_result"
        }
      ],
      "source": [
        "[model.geom(i).name for i in range(model.ngeom)]"
      ]
    },
    {
      "cell_type": "markdown",
      "metadata": {
        "id": "t5hY0fyXFLcf"
      },
      "source": [
        "## `mjData`\n",
        "`mjData` は*状態*とそれに依存する量を含んでいます。状態は時間、[一般化座標](https://en.wikipedia.org/wiki/Generalized_coordinates)、一般化速度で構成されています。それぞれ `data.time`、`data.qpos`、および `data.qvel` です。新しい `mjData` を作成するには、`mjModel` があれば十分です。"
      ]
    },
    {
      "cell_type": "code",
      "execution_count": 16,
      "metadata": {
        "id": "FV2Hy6m948nr"
      },
      "outputs": [],
      "source": [
        "data = mujoco.MjData(model)"
      ]
    },
    {
      "cell_type": "markdown",
      "metadata": {
        "id": "-KmNuvlJ46u0"
      },
      "source": [
        "`mjData` には状態の*関数*も含まれており、例えばワールドフレーム内のオブジェクトの直交座標が含まれます。我々の二つの形状の(x, y, z)位置は `data.geom_xpos` に格納されています："
      ]
    },
    {
      "cell_type": "code",
      "execution_count": 17,
      "metadata": {
        "id": "CPwDcAQ0-uUE"
      },
      "outputs": [
        {
          "name": "stdout",
          "output_type": "stream",
          "text": [
            "[[0. 0. 0.]\n",
            " [0. 0. 0.]]\n"
          ]
        }
      ],
      "source": [
        "print(data.geom_xpos)"
      ]
    },
    {
      "cell_type": "markdown",
      "metadata": {
        "id": "Sjst5xGXX3sr"
      },
      "source": [
        "待ってください。なぜ私たちの二つの形状が両方とも原点にあるのですか？緑色の球体をオフセットしなかったのではないですか？答えは、`mjData`内の派生量は明示的に伝播する必要があるということです（[以下を参照](#scrollTo=QY1gpms1HXeN)）。私たちの場合、最小限に必要な関数は[`mj_kinematics`](https://mujoco.readthedocs.io/en/latest/APIreference.html#mj-kinematics)です。これはすべてのオブジェクトのグローバルな直交座標を計算します．カメラやライトは除きます。\n",
        "（赤い立方体と緑の玉がありましたが，なぜ上では両方とも座標が0,0,0なのか？それは，～～～（まだよくわかってない））"
      ]
    },
    {
      "cell_type": "code",
      "execution_count": 18,
      "metadata": {
        "id": "tfe0YeZRYNTr"
      },
      "outputs": [
        {
          "name": "stdout",
          "output_type": "stream",
          "text": [
            "raw access:\n",
            " [[0.  0.  0. ]\n",
            " [0.2 0.2 0.2]]\n",
            "\n",
            "named access:\n",
            " [0.2 0.2 0.2]\n"
          ]
        }
      ],
      "source": [
        "mujoco.mj_kinematics(model, data)\n",
        "print('raw access:\\n', data.geom_xpos)\n",
        "\n",
        "# MjData also supports named access:\n",
        "print('\\nnamed access:\\n', data.geom('green_sphere').xpos)"
      ]
    },
    {
      "cell_type": "markdown",
      "metadata": {
        "id": "eU7uWNsTwmcZ"
      },
      "source": [
        "# 基本的なレンダリング、シミュレーション、アニメーション\n",
        "\n",
        "レンダリングを行うには、`Renderer` オブジェクトをインスタンス化し、その `render` メソッドを呼び出す必要があります。\n",
        "\n",
        "また、Colabのセクションを独立させるために、モデルを再読み込みします。"
      ]
    },
    {
      "cell_type": "code",
      "execution_count": null,
      "metadata": {
        "id": "xK3c0-UDxMrN"
      },
      "outputs": [],
      "source": [
        "xml = \"\"\"\n",
        "<mujoco>\n",
        "  <worldbody>\n",
        "    <geom name=\"red_box\" type=\"box\" size=\".2 .2 .2\" rgba=\"1 0 0 1\"/>\n",
        "    <geom name=\"green_sphere\" pos=\".2 .2 .2\" size=\".1\" rgba=\"0 1 0 1\"/>\n",
        "  </worldbody>\n",
        "</mujoco>\n",
        "\"\"\"\n",
        "# Make model and data\n",
        "model = mujoco.MjModel.from_xml_string(xml)\n",
        "data = mujoco.MjData(model)\n",
        "\n",
        "# Make renderer, render and show the pixels\n",
        "renderer = mujoco.Renderer(model)\n",
        "media.show_image(renderer.render())"
      ]
    },
    {
      "cell_type": "markdown",
      "metadata": {
        "id": "ZkFSHeYGxlT5"
      },
      "source": [
        "うーん、なぜ黒いピクセルが表示されるのでしょうか？\n",
        "\n",
        "**回答:** 先ほどと同じ理由で、まずは `mjData` 内の値を伝播させる必要があります。今回は [`mj_forward`](https://mujoco.readthedocs.io/en/latest/APIreference.html#mj-forward) を呼び出します。これは加速度の計算までのパイプライン全体を呼び出します。つまり、$\\dot x = f(x)$ を計算します。ここで $x$ は状態を表します。この関数は実際には必要以上のことをしますが、計算時間を節約することに興味がない限り、`mj_forward` を呼び出すのが良い習慣です。そうすれば、何か重要な部分を見逃していないかがわかります。\n",
        "\n",
        "また、レンダラーが持っているビジュアルシーンを記述する `mjvScene` を更新する必要があります。後で物理モデルの一部ではないビジュアルオブジェクトを含む場合があることを見ていきます。"
      ]
    },
    {
      "cell_type": "code",
      "execution_count": 3,
      "metadata": {
        "id": "pvh47r97huS4"
      },
      "outputs": [
        {
          "data": {
            "text/html": [
              "<table class=\"show_images\" style=\"border-spacing:0px;\"><tr><td style=\"padding:1px;\"><img width=\"320\" height=\"240\" style=\"image-rendering:auto; object-fit:cover;\" src=\"data:image/png;base64,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\"/></td></tr></table>"
            ],
            "text/plain": [
              "<IPython.core.display.HTML object>"
            ]
          },
          "metadata": {},
          "output_type": "display_data"
        }
      ],
      "source": [
        "mujoco.mj_forward(model, data)\n",
        "renderer.update_scene(data)\n",
        "\n",
        "media.show_image(renderer.render())"
      ]
    },
    {
      "cell_type": "markdown",
      "metadata": {
        "id": "6oDW1dOUifw6"
      },
      "source": [
        "これはうまくいきましたが、この画像は少し暗いですね。では、ライトを追加して再レンダリングしましょう。"
      ]
    },
    {
      "cell_type": "code",
      "execution_count": 2,
      "metadata": {
        "id": "iqzJj2NIr_2V"
      },
      "outputs": [
        {
          "data": {
            "text/html": [
              "<table class=\"show_images\" style=\"border-spacing:0px;\"><tr><td style=\"padding:1px;\"><img width=\"320\" height=\"240\" style=\"image-rendering:auto; object-fit:cover;\" src=\"data:image/png;base64,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\"/></td></tr></table>"
            ],
            "text/plain": [
              "<IPython.core.display.HTML object>"
            ]
          },
          "metadata": {},
          "output_type": "display_data"
        }
      ],
      "source": [
        "import mujoco\n",
        "import mediapy as media\n",
        "import matplotlib.pyplot as plt\n",
        "\n",
        "xml = \"\"\"\n",
        "<mujoco>\n",
        "  <worldbody>\n",
        "    <light name=\"top\" pos=\"0 0 1\"/>\n",
        "    <geom name=\"red_box\" type=\"box\" size=\".2 .2 .2\" rgba=\"1 0 0 1\"/>\n",
        "    <geom name=\"green_sphere\" pos=\".2 .2 .2\" size=\".1\" rgba=\"0 1 0 1\"/>\n",
        "  </worldbody>\n",
        "</mujoco>\n",
        "\"\"\"\n",
        "model = mujoco.MjModel.from_xml_string(xml)\n",
        "data = mujoco.MjData(model)\n",
        "renderer = mujoco.Renderer(model)\n",
        "\n",
        "mujoco.mj_forward(model, data)\n",
        "renderer.update_scene(data)\n",
        "\n",
        "media.show_image(renderer.render())"
      ]
    },
    {
      "cell_type": "markdown",
      "metadata": {
        "id": "HS4K38Eirww9"
      },
      "source": [
        "とても良くなりました！\n",
        "\n",
        "`mjModel` インスタンス内のすべての値は書き込み可能です。一般的にはXML内の値を変更する方が推奨されますが、無効なモデルになる可能性があるため、注意が必要です。ただし、一部の値は安全に書き込むことができます。例えば、色です："
      ]
    },
    {
      "cell_type": "code",
      "execution_count": 1,
      "metadata": {
        "id": "GBNcQVYJrt2h"
      },
      "outputs": [
        {
          "ename": "NameError",
          "evalue": "name 'np' is not defined",
          "output_type": "error",
          "traceback": [
            "\u001b[1;31m---------------------------------------------------------------------------\u001b[0m",
            "\u001b[1;31mNameError\u001b[0m                                 Traceback (most recent call last)",
            "\u001b[1;32mc:\\Users\\atusi\\Downloads\\tutorial.ipynb セル 39\u001b[0m line \u001b[0;36m2\n\u001b[0;32m      <a href='vscode-notebook-cell:/c%3A/Users/atusi/Downloads/tutorial.ipynb#X53sZmlsZQ%3D%3D?line=0'>1</a>\u001b[0m \u001b[39m# Run this cell multiple times for different colors\u001b[39;00m\n\u001b[1;32m----> <a href='vscode-notebook-cell:/c%3A/Users/atusi/Downloads/tutorial.ipynb#X53sZmlsZQ%3D%3D?line=1'>2</a>\u001b[0m model\u001b[39m.\u001b[39mgeom(\u001b[39m'\u001b[39m\u001b[39mred_box\u001b[39m\u001b[39m'\u001b[39m)\u001b[39m.\u001b[39mrgba[:\u001b[39m3\u001b[39m] \u001b[39m=\u001b[39m np\u001b[39m.\u001b[39mrandom\u001b[39m.\u001b[39mrand(\u001b[39m3\u001b[39m)\n\u001b[0;32m      <a href='vscode-notebook-cell:/c%3A/Users/atusi/Downloads/tutorial.ipynb#X53sZmlsZQ%3D%3D?line=2'>3</a>\u001b[0m renderer\u001b[39m.\u001b[39mupdate_scene(data)\n\u001b[0;32m      <a href='vscode-notebook-cell:/c%3A/Users/atusi/Downloads/tutorial.ipynb#X53sZmlsZQ%3D%3D?line=3'>4</a>\u001b[0m media\u001b[39m.\u001b[39mshow_image(renderer\u001b[39m.\u001b[39mrender())\n",
            "\u001b[1;31mNameError\u001b[0m: name 'np' is not defined"
          ]
        }
      ],
      "source": [
        "# Run this cell multiple times for different colors\n",
        "model.geom('red_box').rgba[:3] = np.random.rand(3)\n",
        "renderer.update_scene(data)\n",
        "media.show_image(renderer.render())"
      ]
    },
    {
      "cell_type": "markdown",
      "metadata": {
        "id": "-P95E-QHizQq"
      },
      "source": [
        "# シミュレーション\n",
        "\n",
        "さて、シミュレーションを行ってビデオを作成しましょう。MuJoCoの主要な高レベル関数である `mj_step` を使用します。これは状態を1ステップ進めます $x_{t+h} = f(x_t)$。\n",
        "\n",
        "以下のコードブロックでは、`mj_step` を呼び出した後に毎回レンダリングは行いません。これはデフォルトのタイムステップが2msであり、60fpsのビデオを作成したいためです。500fpsではないためです。"
      ]
    },
    {
      "cell_type": "code",
      "execution_count": null,
      "metadata": {
        "id": "NdVnHOYisiKl"
      },
      "outputs": [],
      "source": [
        "duration = 3.8  # (seconds)\n",
        "framerate = 60  # (Hz)\n",
        "\n",
        "# Simulate and display video.\n",
        "frames = []\n",
        "mujoco.mj_resetData(model, data)  # Reset state and time.\n",
        "while data.time < duration:\n",
        "  mujoco.mj_step(model, data)\n",
        "  if len(frames) < data.time * framerate:\n",
        "    renderer.update_scene(data)\n",
        "    pixels = renderer.render()\n",
        "    frames.append(pixels)\n",
        "media.show_video(frames, fps=framerate)"
      ]
    },
    {
      "cell_type": "markdown",
      "metadata": {
        "id": "tYN4sL9RnsCU"
      },
      "source": [
        "うーん、ビデオは再生されていますが、何も動いていませんね。なぜでしょうか？\n",
        "\n",
        "これはこのモデルには[自由度（degrees of freedom）](https://www.google.com/url?sa=D&q=https%3A%2F%2Fen.wikipedia.org%2Fwiki%2FDegrees_of_freedom_(mechanics))（DoFs）がないためです。動くもの（および慣性を持つもの）は*ボディ*と呼ばれます。私たちは*ボディ*に*ジョイント*を追加して、それらが親に対してどのように動くかを指定します。新しいボディを作成し、その中に私たちの形状を含め、ヒンジジョイントを追加して再レンダリングし、可視化オプションオブジェクト `MjvOption` を使用してジョイント軸を可視化しましょう。"
      ]
    },
    {
      "cell_type": "code",
      "execution_count": null,
      "metadata": {
        "id": "LbWf84VYst5m"
      },
      "outputs": [],
      "source": [
        "xml = \"\"\"\n",
        "<mujoco>\n",
        "  <worldbody>\n",
        "    <light name=\"top\" pos=\"0 0 1\"/>\n",
        "    <body name=\"box_and_sphere\" euler=\"0 0 -30\">\n",
        "      <joint name=\"swing\" type=\"hinge\" axis=\"1 -1 0\" pos=\"-.2 -.2 -.2\"/>\n",
        "      <geom name=\"red_box\" type=\"box\" size=\".2 .2 .2\" rgba=\"1 0 0 1\"/>\n",
        "      <geom name=\"green_sphere\" pos=\".2 .2 .2\" size=\".1\" rgba=\"0 1 0 1\"/>\n",
        "    </body>\n",
        "  </worldbody>\n",
        "</mujoco>\n",
        "\"\"\"\n",
        "model = mujoco.MjModel.from_xml_string(xml)\n",
        "data = mujoco.MjData(model)\n",
        "renderer = mujoco.Renderer(model)\n",
        "\n",
        "# enable joint visualization option:\n",
        "scene_option = mujoco.MjvOption()\n",
        "scene_option.flags[mujoco.mjtVisFlag.mjVIS_JOINT] = True\n",
        "\n",
        "duration = 3.8  # (seconds)\n",
        "framerate = 60  # (Hz)\n",
        "\n",
        "frames = []\n",
        "mujoco.mj_resetData(model, data)\n",
        "while data.time < duration:\n",
        "  mujoco.mj_step(model, data)\n",
        "  if len(frames) < data.time * framerate:\n",
        "    renderer.update_scene(data, scene_option=scene_option)\n",
        "    pixels = renderer.render()\n",
        "    frames.append(pixels)\n",
        "\n",
        "# Simulate and display video.\n",
        "media.show_video(frames, fps=framerate)"
      ]
    },
    {
      "cell_type": "markdown",
      "metadata": {
        "id": "Ymv-tvWCpl6V"
      },
      "source": [
        "注意してください、`box_and_sphere` ボディをZ軸（垂直軸）を中心に30°回転させました。これは、要素の姿勢が常にそれらの*親ボディ*に対して行われることを強調するためです。そのため、私たちの二つの形状もこの変換によって回転しました。\n",
        "\n",
        "物理オプションは `mjModel.opt` にあります。例えば、タイムステップは以下の通りです："
      ]
    },
    {
      "cell_type": "code",
      "execution_count": null,
      "metadata": {
        "id": "5yvAJokcpyX_"
      },
      "outputs": [],
      "source": [
        "model.opt.timestep"
      ]
    },
    {
      "cell_type": "markdown",
      "metadata": {
        "id": "SdkwLeGUp9B2"
      },
      "source": [
        "重力を反転させて再度レンダリングしましょう："
      ]
    },
    {
      "cell_type": "code",
      "execution_count": null,
      "metadata": {
        "id": "ocjPQG8Dp2F-"
      },
      "outputs": [],
      "source": [
        "print('default gravity', model.opt.gravity)\n",
        "model.opt.gravity = (0, 0, 10)\n",
        "print('flipped gravity', model.opt.gravity)\n",
        "\n",
        "frames = []\n",
        "mujoco.mj_resetData(model, data)\n",
        "while data.time < duration:\n",
        "  mujoco.mj_step(model, data)\n",
        "  if len(frames) < data.time * framerate:\n",
        "    renderer.update_scene(data, scene_option=scene_option)\n",
        "    pixels = renderer.render()\n",
        "    frames.append(pixels)\n",
        "\n",
        "media.show_video(frames, fps=60)"
      ]
    },
    {
      "cell_type": "markdown",
      "metadata": {
        "id": "FsxDDgXBqg_J"
      },
      "source": [
        "これはXMLを使用しても同様に行うことができます。トップレベルの `<option>` 要素を使用します：\n",
        "\n",
        "```xml\n",
        "<mujoco>\n",
        "  <option gravity=\"0 0 10\"/>\n",
        "  ...\n",
        "</mujoco>\n",
        "```"
      ]
    },
    {
      "cell_type": "markdown",
      "metadata": {
        "id": "QY1gpms1HXeN"
      },
      "source": [
        "### 自由度の理解\n",
        "\n",
        "実世界では、すべての剛体オブジェクトは6つの自由度を持っています：3つの平行移動と3つの回転です。実世界のジョイントは制約として機能し、ジョイントで接続されたボディ間の相対的な自由度を削除します。一部の物理シミュレーションソフトウェアは、これを「カーテシアン」または「減算」表現として使用しますが、これは効率的ではありません。MuJoCoは、「ラグランジアン」、「一般化」または「加算」表現として知られる表現を使用します。この表現では、オブジェクトは明示的にジョイントを使用して追加しない限り、自由度を持ちません。\n",
        "\n",
        "私たちのモデルは、単一のヒンジジョイントを持っており、1つの自由度を持っています。全体の状態は、このジョイントの角度と角速度で定義されます。これらがシステムの一般化された位置と速度です。"
      ]
    },
    {
      "cell_type": "code",
      "execution_count": null,
      "metadata": {
        "id": "wEdfGEfSKAOC"
      },
      "outputs": [],
      "source": [
        "print('Total number of DoFs in the model:', model.nv)\n",
        "print('Generalized positions:', data.qpos)\n",
        "print('Generalized velocities:', data.qvel)"
      ]
    },
    {
      "cell_type": "markdown",
      "metadata": {
        "id": "Z8E-P5xONUSn"
      },
      "source": [
        "MuJoCoが一般化座標を使用する理由は、関数を呼び出す（例: [`mj_forward`](https://mujoco.readthedocs.io/en/latest/APIreference.html#mj-forward)）必要があるのは、オブジェクトのグローバルな姿勢をレンダリングしたり読み取ったりする前に、データを準備する必要があるからです - カーテシアン座標は一般化座標から*派生*し、明示的に計算する必要があります。"
      ]
    },
    {
      "cell_type": "markdown",
      "metadata": {
        "id": "SHppAOjvSupc"
      },
      "source": [
        "# 例: 自由なボディをシミュレートして自己反転する \"tippe-top\"\n",
        "\n",
        "自由なボディは、6つの自由度、つまり3つの移動と3つの回転を持つ[自由ジョイント](https://www.google.com/url?sa=D&q=https%3A%2F%2Fmujoco.readthedocs.io%2Fen%2Flatest%2FXMLreference.html%3Fhighlight%3Dfreejoint%23body-freejoint)を持つボディです。私たちは `box_and_sphere` ボディに自由なジョイントを与えて落ちる様子を見ることもできますが、もう少し面白いものを見てみましょう。\"tippe top\"は、自分自身を反転させる回転するおもちゃです（[動画](https://www.youtube.com/watch?v=kbYpVrdcszQ)、[Wikipedia](https://en.wikipedia.org/wiki/Tippe_top)）。これを以下のようにモデル化します："
      ]
    },
    {
      "cell_type": "code",
      "execution_count": null,
      "metadata": {
        "id": "xasXQpVMjIwA"
      },
      "outputs": [],
      "source": [
        "tippe_top = \"\"\"\n",
        "<mujoco model=\"tippe top\">\n",
        "  <option integrator=\"RK4\"/>\n",
        "\n",
        "  <asset>\n",
        "    <texture name=\"grid\" type=\"2d\" builtin=\"checker\" rgb1=\".1 .2 .3\"\n",
        "     rgb2=\".2 .3 .4\" width=\"300\" height=\"300\"/>\n",
        "    <material name=\"grid\" texture=\"grid\" texrepeat=\"8 8\" reflectance=\".2\"/>\n",
        "  </asset>\n",
        "\n",
        "  <worldbody>\n",
        "    <geom size=\".2 .2 .01\" type=\"plane\" material=\"grid\"/>\n",
        "    <light pos=\"0 0 .6\"/>\n",
        "    <camera name=\"closeup\" pos=\"0 -.1 .07\" xyaxes=\"1 0 0 0 1 2\"/>\n",
        "    <body name=\"top\" pos=\"0 0 .02\">\n",
        "      <freejoint/>\n",
        "      <geom name=\"ball\" type=\"sphere\" size=\".02\" />\n",
        "      <geom name=\"stem\" type=\"cylinder\" pos=\"0 0 .02\" size=\"0.004 .008\"/>\n",
        "      <geom name=\"ballast\" type=\"box\" size=\".023 .023 0.005\"  pos=\"0 0 -.015\"\n",
        "       contype=\"0\" conaffinity=\"0\" group=\"3\"/>\n",
        "    </body>\n",
        "  </worldbody>\n",
        "\n",
        "  <keyframe>\n",
        "    <key name=\"spinning\" qpos=\"0 0 0.02 1 0 0 0\" qvel=\"0 0 0 0 1 200\" />\n",
        "  </keyframe>\n",
        "</mujoco>\n",
        "\"\"\"\n",
        "model = mujoco.MjModel.from_xml_string(tippe_top)\n",
        "renderer = mujoco.Renderer(model)\n",
        "data = mujoco.MjData(model)\n",
        "mujoco.mj_forward(model, data)\n",
        "renderer.update_scene(data, camera=\"closeup\")\n",
        "media.show_image(renderer.render())"
      ]
    },
    {
      "cell_type": "markdown",
      "metadata": {
        "id": "bvHlr6maJYIG"
      },
      "source": [
        "このモデル定義のいくつかの新機能に注意してください：\n",
        "1. 6自由度の自由ジョイントが `<freejoint/>` 句で追加されています。\n",
        "2. 4次の[ルンゲ・クッタ法](https://en.wikipedia.org/wiki/Runge%E2%80%93Kutta_methods)が演算に使用されるように、積分器を設定するために `<option/>` 句を使用しています。ルンゲ・クッタ法はデフォルトのオイラー積分器よりも収束率が高く、多くの場合、与えられたタイムステップサイズでの精度が向上します。\n",
        "3. フロアのグリッド素材を `<asset/>` 句内で定義し、それを \"floor\" ジオムで参照しています。\n",
        "4. `ballast` という名前の見えない非衝突ボックスジオムを使用して、トップの重心を下げています。低い重心を持つことは（直感に反して）反転動作が発生するために必要です。\n",
        "5. 最初の回転状態を*キーフレーム*として保存しています。これはZ軸周りに高い回転速度を持っていますが、完全にワールドに向き合っていないため、反転に必要な対称性の破れを導入します。\n",
        "6. モデル内で `<camera>` を定義し、それを使用して `update_scene()` の `camera` 引数からレンダリングします。\n",
        "\n",
        "状態を調べてみましょう："
      ]
    },
    {
      "cell_type": "code",
      "execution_count": null,
      "metadata": {
        "id": "o4S9nYhHOKmb"
      },
      "outputs": [],
      "source": [
        "print('positions', data.qpos)\n",
        "print('velocities', data.qvel)"
      ]
    },
    {
      "cell_type": "markdown",
      "metadata": {
        "id": "71UgzBAqWdtZ"
      },
      "source": [
        "速度は解釈しやすいですね、6つのゼロがあります、それぞれが1つの自由度に対応しています。では、長さ7の位置はどうでしょうか？最初の2cmの高さが見えます。その後の4つの数字は3Dの向きを示しており、*ユニット四元数*で定義されています。3Dの向きは**4**つの数字で表され、角速度は**3**つの数字です。詳細については、ウィキペディアの[四元数と空間回転](https://en.wikipedia.org/wiki/Quaternions_and_spatial_rotation)の記事を参照してください。\n",
        "\n",
        "さて、ビデオを作成しましょう："
      ]
    },
    {
      "cell_type": "code",
      "execution_count": null,
      "metadata": {
        "id": "5P4HkhKNGQvs"
      },
      "outputs": [],
      "source": [
        "duration = 7    # (seconds)\n",
        "framerate = 60  # (Hz)\n",
        "\n",
        "# Simulate and display video.\n",
        "frames = []\n",
        "mujoco.mj_resetDataKeyframe(model, data, 0)  # Reset the state to keyframe 0\n",
        "while data.time < duration:\n",
        "  mujoco.mj_step(model, data)\n",
        "  if len(frames) < data.time * framerate:\n",
        "    renderer.update_scene(data, \"closeup\")\n",
        "    pixels = renderer.render()\n",
        "    frames.append(pixels)\n",
        "\n",
        "media.show_video(frames, fps=framerate)"
      ]
    },
    {
      "cell_type": "markdown",
      "metadata": {
        "id": "rRuFKD2ubPgu"
      },
      "source": [
        "### `mjData` からの値の計測\n",
        "先述の通り、`mjData` 構造体にはシミュレーションによって生成される動的な変数や中間結果が含まれており、これらは各タイムステップで*変化することが期待されています*。以下では、2000のタイムステップのシミュレーションを行い、トップの角速度とステムの高さを時間の関数としてプロットします。"
      ]
    },
    {
      "cell_type": "code",
      "execution_count": null,
      "metadata": {
        "id": "1XXB6asJoZ2N"
      },
      "outputs": [],
      "source": [
        "timevals = []\n",
        "angular_velocity = []\n",
        "stem_height = []\n",
        "\n",
        "# Simulate and save data\n",
        "mujoco.mj_resetDataKeyframe(model, data, 0)\n",
        "while data.time < duration:\n",
        "  mujoco.mj_step(model, data)\n",
        "  timevals.append(data.time)\n",
        "  angular_velocity.append(data.qvel[3:6].copy())\n",
        "  stem_height.append(data.geom_xpos[2,2]);\n",
        "\n",
        "dpi = 120\n",
        "width = 600\n",
        "height = 800\n",
        "figsize = (width / dpi, height / dpi)\n",
        "_, ax = plt.subplots(2, 1, figsize=figsize, dpi=dpi, sharex=True)\n",
        "\n",
        "ax[0].plot(timevals, angular_velocity)\n",
        "ax[0].set_title('angular velocity')\n",
        "ax[0].set_ylabel('radians / second')\n",
        "\n",
        "ax[1].plot(timevals, stem_height)\n",
        "ax[1].set_xlabel('time (seconds)')\n",
        "ax[1].set_ylabel('meters')\n",
        "_ = ax[1].set_title('stem height')"
      ]
    },
    {
      "cell_type": "markdown",
      "metadata": {
        "id": "u_zN8vATwcGy"
      },
      "source": [
        "# Example: A chaotic pendulum"
      ]
    },
    {
      "cell_type": "markdown",
      "metadata": {
        "id": "g1MKUEL_eSCM"
      },
      "source": [
        "Below is a model of a chaotic pendulum, similar to [this one](https://www.exploratorium.edu/exhibits/chaotic-pendulum) in the San Francisco Exploratorium."
      ]
    },
    {
      "cell_type": "code",
      "execution_count": null,
      "metadata": {
        "id": "3jHYTV-bwfrS"
      },
      "outputs": [],
      "source": [
        "chaotic_pendulum = \"\"\"\n",
        "<mujoco>\n",
        "  <option timestep=\".001\">\n",
        "    <flag energy=\"enable\" contact=\"disable\"/>\n",
        "  </option>\n",
        "\n",
        "  <default>\n",
        "    <joint type=\"hinge\" axis=\"0 -1 0\"/>\n",
        "    <geom type=\"capsule\" size=\".02\"/>\n",
        "  </default>\n",
        "\n",
        "  <worldbody>\n",
        "    <light pos=\"0 -.4 1\"/>\n",
        "    <camera name=\"fixed\" pos=\"0 -1 0\" xyaxes=\"1 0 0 0 0 1\"/>\n",
        "    <body name=\"0\" pos=\"0 0 .2\">\n",
        "      <joint name=\"root\"/>\n",
        "      <geom fromto=\"-.2 0 0 .2 0 0\" rgba=\"1 1 0 1\"/>\n",
        "      <geom fromto=\"0 0 0 0 0 -.25\" rgba=\"1 1 0 1\"/>\n",
        "      <body name=\"1\" pos=\"-.2 0 0\">\n",
        "        <joint/>\n",
        "        <geom fromto=\"0 0 0 0 0 -.2\" rgba=\"1 0 0 1\"/>\n",
        "      </body>\n",
        "      <body name=\"2\" pos=\".2 0 0\">\n",
        "        <joint/>\n",
        "        <geom fromto=\"0 0 0 0 0 -.2\" rgba=\"0 1 0 1\"/>\n",
        "      </body>\n",
        "      <body name=\"3\" pos=\"0 0 -.25\">\n",
        "        <joint/>\n",
        "        <geom fromto=\"0 0 0 0 0 -.2\" rgba=\"0 0 1 1\"/>\n",
        "      </body>\n",
        "    </body>\n",
        "  </worldbody>\n",
        "</mujoco>\n",
        "\"\"\"\n",
        "model = mujoco.MjModel.from_xml_string(chaotic_pendulum)\n",
        "renderer = mujoco.Renderer(model, 480, 640)\n",
        "data = mujoco.MjData(model)\n",
        "mujoco.mj_forward(model, data)\n",
        "renderer.update_scene(data, camera=\"fixed\")\n",
        "media.show_image(renderer.render())"
      ]
    },
    {
      "cell_type": "markdown",
      "metadata": {
        "id": "EKZrTBSS5f49"
      },
      "source": [
        "## Timing\n",
        "Let's see a video of it in action while we time the components:"
      ]
    },
    {
      "cell_type": "code",
      "execution_count": null,
      "metadata": {
        "id": "-kNWvE9dNwYW"
      },
      "outputs": [],
      "source": [
        "# setup\n",
        "n_seconds = 6\n",
        "framerate = 30  # Hz\n",
        "n_frames = int(n_seconds * framerate)\n",
        "frames = []\n",
        "renderer = mujoco.Renderer(model, 240, 320)\n",
        "\n",
        "\n",
        "# set initial state\n",
        "mujoco.mj_resetData(model, data)\n",
        "data.joint('root').qvel = 10\n",
        "\n",
        "\n",
        "# simulate and record frames\n",
        "frame = 0\n",
        "sim_time = 0\n",
        "render_time = 0\n",
        "n_steps = 0\n",
        "for i in range(n_frames):\n",
        "  while data.time * framerate < i:\n",
        "    tic = time.time()\n",
        "    mujoco.mj_step(model, data)\n",
        "    sim_time += time.time() - tic\n",
        "    n_steps += 1\n",
        "  tic = time.time()\n",
        "  renderer.update_scene(data, \"fixed\")\n",
        "  frame = renderer.render()\n",
        "  render_time += time.time() - tic\n",
        "  frames.append(frame)\n",
        "\n",
        "# print timing and play video\n",
        "step_time = 1e6*sim_time/n_steps\n",
        "step_fps = n_steps/sim_time\n",
        "print(f'simulation: {step_time:5.3g} μs/step  ({step_fps:5.0f}Hz)')\n",
        "frame_time = 1e6*render_time/n_frames\n",
        "frame_fps = n_frames/render_time\n",
        "print(f'rendering:  {frame_time:5.3g} μs/frame ({frame_fps:5.0f}Hz)')\n",
        "print('\\n')\n",
        "\n",
        "# show video\n",
        "media.show_video(frames, fps=framerate)"
      ]
    },
    {
      "cell_type": "markdown",
      "metadata": {
        "id": "Iqi_m8HT-X5k"
      },
      "source": [
        "Note that rendering is **much** slower than the simulated physics.\n",
        "\n",
        "## Chaos\n",
        "This is a [chaotic](https://en.wikipedia.org/wiki/Chaos_theory) system (small pertubations in initial conditions accumulate quickly):"
      ]
    },
    {
      "cell_type": "code",
      "execution_count": null,
      "metadata": {
        "id": "Pa_19EfvOzzg"
      },
      "outputs": [],
      "source": [
        "PERTURBATION = 1e-7\n",
        "SIM_DURATION = 10 # seconds\n",
        "NUM_REPEATS = 8\n",
        "\n",
        "# preallocate\n",
        "n_steps = int(SIM_DURATION / model.opt.timestep)\n",
        "sim_time = np.zeros(n_steps)\n",
        "angle = np.zeros(n_steps)\n",
        "energy = np.zeros(n_steps)\n",
        "\n",
        "# prepare plotting axes\n",
        "_, ax = plt.subplots(2, 1, figsize=(8, 6), sharex=True)\n",
        "\n",
        "# simulate NUM_REPEATS times with slightly different initial conditions\n",
        "for _ in range(NUM_REPEATS):\n",
        "  # initialize\n",
        "  mujoco.mj_resetData(model, data)\n",
        "  data.qvel[0] = 10 # root joint velocity\n",
        "  # perturb initial velocities\n",
        "  data.qvel[:] += PERTURBATION * np.random.randn(model.nv)\n",
        "\n",
        "  # simulate\n",
        "  for i in range(n_steps):\n",
        "    mujoco.mj_step(model, data)\n",
        "    sim_time[i] = data.time\n",
        "    angle[i] = data.joint('root').qpos\n",
        "    energy[i] = data.energy[0] + data.energy[1]\n",
        "\n",
        "  # plot\n",
        "  ax[0].plot(sim_time, angle)\n",
        "  ax[1].plot(sim_time, energy)\n",
        "\n",
        "# finalize plot\n",
        "ax[0].set_title('root angle')\n",
        "ax[0].set_ylabel('radian')\n",
        "ax[1].set_title('total energy')\n",
        "ax[1].set_ylabel('Joule')\n",
        "ax[1].set_xlabel('second')\n",
        "plt.tight_layout()"
      ]
    },
    {
      "cell_type": "markdown",
      "metadata": {
        "id": "daSIA_ewFGxV"
      },
      "source": [
        "## Timestep and accuracy\n",
        "**Question:** Why is the energy varying at all? There is no friction or damping, this system should conserve energy.\n",
        "\n",
        "**Answer:** Because of the discretization of time.\n",
        "\n",
        "If we decrease the timestep we'll get better accuracy and better energy conservation:"
      ]
    },
    {
      "cell_type": "code",
      "execution_count": null,
      "metadata": {
        "id": "4z-7KN_fFme-"
      },
      "outputs": [],
      "source": [
        "SIM_DURATION = 10 # (seconds)\n",
        "TIMESTEPS = np.power(10, np.linspace(-2, -4, 5))\n",
        "\n",
        "# prepare plotting axes\n",
        "_, ax = plt.subplots(1, 1)\n",
        "\n",
        "for dt in TIMESTEPS:\n",
        "   # set timestep, print\n",
        "  model.opt.timestep = dt\n",
        "\n",
        "  # allocate\n",
        "  n_steps = int(SIM_DURATION / model.opt.timestep)\n",
        "  sim_time = np.zeros(n_steps)\n",
        "  energy = np.zeros(n_steps)\n",
        "\n",
        "  # initialize\n",
        "  mujoco.mj_resetData(model, data)\n",
        "  data.qvel[0] = 9 # root joint velocity\n",
        "\n",
        "  # simulate\n",
        "  print('{} steps at dt = {:2.2g}ms'.format(n_steps, 1000*dt))\n",
        "  for i in range(n_steps):\n",
        "    mujoco.mj_step(model, data)\n",
        "    sim_time[i] = data.time\n",
        "    energy[i] = data.energy[0] + data.energy[1]\n",
        "\n",
        "  # plot\n",
        "  ax.plot(sim_time, energy, label='timestep = {:2.2g}ms'.format(1000*dt))\n",
        "\n",
        "# finalize plot\n",
        "ax.set_title('energy')\n",
        "ax.set_ylabel('Joule')\n",
        "ax.set_xlabel('second')\n",
        "ax.legend(frameon=True);\n",
        "plt.tight_layout()"
      ]
    },
    {
      "cell_type": "markdown",
      "metadata": {
        "id": "jsVkUm7QKb9I"
      },
      "source": [
        "## Timestep and divergence\n",
        "When we increase the time step, the simulation quickly diverges:"
      ]
    },
    {
      "cell_type": "code",
      "execution_count": null,
      "metadata": {
        "id": "FbdUA4zDPbDP"
      },
      "outputs": [],
      "source": [
        "SIM_DURATION = 10 # (seconds)\n",
        "TIMESTEPS = np.power(10, np.linspace(-2, -1.5, 7))\n",
        "\n",
        "# get plotting axes\n",
        "ax = plt.gca()\n",
        "\n",
        "for dt in TIMESTEPS:\n",
        "  # set timestep\n",
        "  model.opt.timestep = dt\n",
        "\n",
        "  # allocate\n",
        "  n_steps = int(SIM_DURATION / model.opt.timestep)\n",
        "  sim_time = np.zeros(n_steps)\n",
        "  energy = np.zeros(n_steps) * np.nan\n",
        "  speed = np.zeros(n_steps) * np.nan\n",
        "\n",
        "  # initialize\n",
        "  mujoco.mj_resetData(model, data)\n",
        "  data.qvel[0] = 11 # set root joint velocity\n",
        "\n",
        "  # simulate\n",
        "  print('simulating {} steps at dt = {:2.2g}ms'.format(n_steps, 1000*dt))\n",
        "  for i in range(n_steps):\n",
        "    mujoco.mj_step(model, data)\n",
        "    if data.warning.number.any():\n",
        "      warning_index = np.nonzero(data.warning.number)[0]\n",
        "      warning = mujoco.mjtWarning(warning_index).name\n",
        "      print(f'stopped due to divergence ({warning}) at timestep {i}.\\n')\n",
        "      break\n",
        "    sim_time[i] = data.time\n",
        "    energy[i] = sum(abs(data.qvel))\n",
        "    speed[i] = np.linalg.norm(data.qvel)\n",
        "\n",
        "  # plot\n",
        "  ax.plot(sim_time, energy, label='timestep = {:2.2g}ms'.format(1000*dt))\n",
        "  ax.set_yscale('log')\n",
        "\n",
        "\n",
        "# finalize plot\n",
        "ax.set_ybound(1, 1e3)\n",
        "ax.set_title('energy')\n",
        "ax.set_ylabel('Joule')\n",
        "ax.set_xlabel('second')\n",
        "ax.legend(frameon=True, loc='lower right');\n",
        "plt.tight_layout()\n"
      ]
    },
    {
      "cell_type": "markdown",
      "metadata": {
        "id": "FITYfGyy3XPL"
      },
      "source": [
        "# Contacts\n",
        "\n",
        "Let's go back to our box and sphere example and give it a free joint:"
      ]
    },
    {
      "cell_type": "code",
      "execution_count": null,
      "metadata": {
        "id": "2n1VNVv_FkbB"
      },
      "outputs": [],
      "source": [
        "free_body_MJCF = \"\"\"\n",
        "<mujoco>\n",
        "  <asset>\n",
        "    <texture name=\"grid\" type=\"2d\" builtin=\"checker\" rgb1=\".1 .2 .3\"\n",
        "    rgb2=\".2 .3 .4\" width=\"300\" height=\"300\" mark=\"edge\" markrgb=\".2 .3 .4\"/>\n",
        "    <material name=\"grid\" texture=\"grid\" texrepeat=\"2 2\" texuniform=\"true\"\n",
        "    reflectance=\".2\"/>\n",
        "  </asset>\n",
        "\n",
        "  <worldbody>\n",
        "    <light pos=\"0 0 1\" mode=\"trackcom\"/>\n",
        "    <geom name=\"ground\" type=\"plane\" pos=\"0 0 -.5\" size=\"2 2 .1\" material=\"grid\" solimp=\".99 .99 .01\" solref=\".001 1\"/>\n",
        "    <body name=\"box_and_sphere\" pos=\"0 0 0\">\n",
        "      <freejoint/>\n",
        "      <geom name=\"red_box\" type=\"box\" size=\".1 .1 .1\" rgba=\"1 0 0 1\" solimp=\".99 .99 .01\"  solref=\".001 1\"/>\n",
        "      <geom name=\"green_sphere\" size=\".06\" pos=\".1 .1 .1\" rgba=\"0 1 0 1\"/>\n",
        "      <camera name=\"fixed\" pos=\"0 -.6 .3\" xyaxes=\"1 0 0 0 1 2\"/>\n",
        "      <camera name=\"track\" pos=\"0 -.6 .3\" xyaxes=\"1 0 0 0 1 2\" mode=\"track\"/>\n",
        "    </body>\n",
        "  </worldbody>\n",
        "</mujoco>\n",
        "\"\"\"\n",
        "model = mujoco.MjModel.from_xml_string(free_body_MJCF)\n",
        "renderer = mujoco.Renderer(model, 400, 600)\n",
        "data = mujoco.MjData(model)\n",
        "mujoco.mj_forward(model, data)\n",
        "renderer.update_scene(data, \"fixed\")\n",
        "media.show_image(renderer.render())"
      ]
    },
    {
      "cell_type": "markdown",
      "metadata": {
        "id": "Z2amdQCn8REu"
      },
      "source": [
        "Let render this body rolling on the floor, in slow-motion, while visualizing contact points and forces:"
      ]
    },
    {
      "cell_type": "code",
      "execution_count": null,
      "metadata": {
        "id": "HlRhFs_d3WLP"
      },
      "outputs": [],
      "source": [
        "n_frames = 200\n",
        "height = 240\n",
        "width = 320\n",
        "frames = []\n",
        "renderer = mujoco.Renderer(model, height, width)\n",
        "\n",
        "# visualize contact frames and forces, make body transparent\n",
        "options = mujoco.MjvOption()\n",
        "mujoco.mjv_defaultOption(options)\n",
        "options.flags[mujoco.mjtVisFlag.mjVIS_CONTACTPOINT] = True\n",
        "options.flags[mujoco.mjtVisFlag.mjVIS_CONTACTFORCE] = True\n",
        "options.flags[mujoco.mjtVisFlag.mjVIS_TRANSPARENT] = True\n",
        "\n",
        "# tweak scales of contact visualization elements\n",
        "model.vis.scale.contactwidth = 0.1\n",
        "model.vis.scale.contactheight = 0.03\n",
        "model.vis.scale.forcewidth = 0.05\n",
        "model.vis.map.force = 0.3\n",
        "\n",
        "# random initial rotational velocity:\n",
        "mujoco.mj_resetData(model, data)\n",
        "data.qvel[3:6] = 5*np.random.randn(3)\n",
        "\n",
        "# simulate and render\n",
        "for i in range(n_frames):\n",
        "  while data.time < i/120.0: #1/4x real time\n",
        "    mujoco.mj_step(model, data)\n",
        "  renderer.update_scene(data, \"track\", options)\n",
        "  frame = renderer.render()\n",
        "  frames.append(frame)\n",
        "\n",
        "# show video\n",
        "media.show_video(frames, fps=30)"
      ]
    },
    {
      "cell_type": "markdown",
      "metadata": {
        "id": "_181TbtVSMBl"
      },
      "source": [
        "## Analysis of contact forces\n",
        "\n",
        "Let's rerun the above simulation (with a different random initial condition) and\n",
        "plot some values related to the contacts"
      ]
    },
    {
      "cell_type": "code",
      "execution_count": null,
      "metadata": {
        "id": "BMqyWeHki8Eg"
      },
      "outputs": [],
      "source": [
        "n_steps = 499\n",
        "\n",
        "# allocate\n",
        "sim_time = np.zeros(n_steps)\n",
        "ncon = np.zeros(n_steps)\n",
        "force = np.zeros((n_steps,3))\n",
        "velocity = np.zeros((n_steps, model.nv))\n",
        "penetration = np.zeros(n_steps)\n",
        "acceleration = np.zeros((n_steps, model.nv))\n",
        "forcetorque = np.zeros(6)\n",
        "\n",
        "# random initial rotational velocity:\n",
        "mujoco.mj_resetData(model, data)\n",
        "data.qvel[3:6] = 2*np.random.randn(3)\n",
        "\n",
        "# simulate and save data\n",
        "for i in range(n_steps):\n",
        "  mujoco.mj_step(model, data)\n",
        "  sim_time[i] = data.time\n",
        "  ncon[i] = data.ncon\n",
        "  velocity[i] = data.qvel[:]\n",
        "  acceleration[i] = data.qacc[:]\n",
        "  # iterate over active contacts, save force and distance\n",
        "  for j,c in enumerate(data.contact):\n",
        "    mujoco.mj_contactForce(model, data, j, forcetorque)\n",
        "    force[i] += forcetorque[0:3]\n",
        "    penetration[i] = min(penetration[i], c.dist)\n",
        "  # we could also do\n",
        "  # force[i] += data.qfrc_constraint[0:3]\n",
        "  # do you see why?\n",
        "\n",
        "# plot\n",
        "_, ax = plt.subplots(3, 2, sharex=True, figsize=(10, 10))\n",
        "\n",
        "lines = ax[0,0].plot(sim_time, force)\n",
        "ax[0,0].set_title('contact force')\n",
        "ax[0,0].set_ylabel('Newton')\n",
        "ax[0,0].legend(iter(lines), ('normal z', 'friction x', 'friction y'));\n",
        "\n",
        "ax[1,0].plot(sim_time, acceleration)\n",
        "ax[1,0].set_title('acceleration')\n",
        "ax[1,0].set_ylabel('(meter,radian)/s/s')\n",
        "\n",
        "ax[2,0].plot(sim_time, velocity)\n",
        "ax[2,0].set_title('velocity')\n",
        "ax[2,0].set_ylabel('(meter,radian)/s')\n",
        "ax[2,0].set_xlabel('second')\n",
        "\n",
        "ax[0,1].plot(sim_time, ncon)\n",
        "ax[0,1].set_title('number of contacts')\n",
        "ax[0,1].set_yticks(range(6))\n",
        "\n",
        "ax[1,1].plot(sim_time, force[:,0])\n",
        "ax[1,1].set_yscale('log')\n",
        "ax[1,1].set_title('normal (z) force - log scale')\n",
        "ax[1,1].set_ylabel('Newton')\n",
        "z_gravity = -model.opt.gravity[2]\n",
        "mg = model.body(\"box_and_sphere\").mass[0] * z_gravity\n",
        "mg_line = ax[1,1].plot(sim_time, np.ones(n_steps)*mg, label='m*g', linewidth=1)\n",
        "ax[1,1].legend()\n",
        "\n",
        "ax[2,1].plot(sim_time, 1000*penetration)\n",
        "ax[2,1].set_title('penetration depth')\n",
        "ax[2,1].set_ylabel('millimeter')\n",
        "ax[2,1].set_xlabel('second')\n",
        "\n",
        "plt.tight_layout()"
      ]
    },
    {
      "cell_type": "markdown",
      "metadata": {
        "id": "zV5PkYzFXu42"
      },
      "source": [
        "## Friction\n",
        "\n",
        "Let's see the effect of changing friction values"
      ]
    },
    {
      "cell_type": "code",
      "execution_count": null,
      "metadata": {
        "id": "2R_gKoYyXwda"
      },
      "outputs": [],
      "source": [
        "MJCF = \"\"\"\n",
        "<mujoco>\n",
        "  <asset>\n",
        "    <texture name=\"grid\" type=\"2d\" builtin=\"checker\" rgb1=\".1 .2 .3\"\n",
        "     rgb2=\".2 .3 .4\" width=\"300\" height=\"300\" mark=\"none\"/>\n",
        "    <material name=\"grid\" texture=\"grid\" texrepeat=\"6 6\"\n",
        "     texuniform=\"true\" reflectance=\".2\"/>\n",
        "     <material name=\"wall\" rgba='.5 .5 .5 1'/>\n",
        "  </asset>\n",
        "\n",
        "  <default>\n",
        "    <geom type=\"box\" size=\".05 .05 .05\" />\n",
        "    <joint type=\"free\"/>\n",
        "  </default>\n",
        "\n",
        "  <worldbody>\n",
        "    <light name=\"light\" pos=\"-.2 0 1\"/>\n",
        "    <geom name=\"ground\" type=\"plane\" size=\".5 .5 10\" material=\"grid\"\n",
        "     zaxis=\"-.3 0 1\" friction=\".1\"/>\n",
        "    <camera name=\"y\" pos=\"-.1 -.6 .3\" xyaxes=\"1 0 0 0 1 2\"/>\n",
        "    <body pos=\"0 0 .1\">\n",
        "      <joint/>\n",
        "      <geom/>\n",
        "    </body>\n",
        "    <body pos=\"0 .2 .1\">\n",
        "      <joint/>\n",
        "      <geom friction=\".33\"/>\n",
        "    </body>\n",
        "  </worldbody>\n",
        "\n",
        "</mujoco>\n",
        "\"\"\"\n",
        "n_frames = 60\n",
        "height = 300\n",
        "width = 300\n",
        "frames = []\n",
        "\n",
        "# load\n",
        "model = mujoco.MjModel.from_xml_string(MJCF)\n",
        "data = mujoco.MjData(model)\n",
        "renderer = mujoco.Renderer(model, height, width)\n",
        "\n",
        "# simulate and render\n",
        "mujoco.mj_resetData(model, data)\n",
        "for i in range(n_frames):\n",
        "  while data.time < i/30.0:\n",
        "    mujoco.mj_step(model, data)\n",
        "  renderer.update_scene(data, \"y\")\n",
        "  frame = renderer.render()\n",
        "  frames.append(frame)\n",
        "media.show_video(frames, fps=30)"
      ]
    },
    {
      "cell_type": "markdown",
      "metadata": {
        "id": "ArmmaPqGP6W7"
      },
      "source": [
        "# Tendons, actuators and sensors"
      ]
    },
    {
      "cell_type": "code",
      "execution_count": null,
      "metadata": {
        "id": "VJz84c97c8Df"
      },
      "outputs": [],
      "source": [
        "MJCF = \"\"\"\n",
        "<mujoco>\n",
        "  <asset>\n",
        "    <texture name=\"grid\" type=\"2d\" builtin=\"checker\" rgb1=\".1 .2 .3\"\n",
        "     rgb2=\".2 .3 .4\" width=\"300\" height=\"300\" mark=\"none\"/>\n",
        "    <material name=\"grid\" texture=\"grid\" texrepeat=\"1 1\"\n",
        "     texuniform=\"true\" reflectance=\".2\"/>\n",
        "  </asset>\n",
        "\n",
        "  <worldbody>\n",
        "    <light name=\"light\" pos=\"0 0 1\"/>\n",
        "    <geom name=\"floor\" type=\"plane\" pos=\"0 0 -.5\" size=\"2 2 .1\" material=\"grid\"/>\n",
        "    <site name=\"anchor\" pos=\"0 0 .3\" size=\".01\"/>\n",
        "    <camera name=\"fixed\" pos=\"0 -1.3 .5\" xyaxes=\"1 0 0 0 1 2\"/>\n",
        "\n",
        "    <geom name=\"pole\" type=\"cylinder\" fromto=\".3 0 -.5 .3 0 -.1\" size=\".04\"/>\n",
        "    <body name=\"bat\" pos=\".3 0 -.1\">\n",
        "      <joint name=\"swing\" type=\"hinge\" damping=\"1\" axis=\"0 0 1\"/>\n",
        "      <geom name=\"bat\" type=\"capsule\" fromto=\"0 0 .04 0 -.3 .04\"\n",
        "       size=\".04\" rgba=\"0 0 1 1\"/>\n",
        "    </body>\n",
        "\n",
        "    <body name=\"box_and_sphere\" pos=\"0 0 0\">\n",
        "      <joint name=\"free\" type=\"free\"/>\n",
        "      <geom name=\"red_box\" type=\"box\" size=\".1 .1 .1\" rgba=\"1 0 0 1\"/>\n",
        "      <geom name=\"green_sphere\"  size=\".06\" pos=\".1 .1 .1\" rgba=\"0 1 0 1\"/>\n",
        "      <site name=\"hook\" pos=\"-.1 -.1 -.1\" size=\".01\"/>\n",
        "      <site name=\"IMU\"/>\n",
        "    </body>\n",
        "  </worldbody>\n",
        "\n",
        "  <tendon>\n",
        "    <spatial name=\"wire\" limited=\"true\" range=\"0 0.35\" width=\"0.003\">\n",
        "      <site site=\"anchor\"/>\n",
        "      <site site=\"hook\"/>\n",
        "    </spatial>\n",
        "  </tendon>\n",
        "\n",
        "  <actuator>\n",
        "    <motor name=\"my_motor\" joint=\"swing\" gear=\"1\"/>\n",
        "  </actuator>\n",
        "\n",
        "  <sensor>\n",
        "    <accelerometer name=\"accelerometer\" site=\"IMU\"/>\n",
        "  </sensor>\n",
        "</mujoco>\n",
        "\"\"\"\n",
        "model = mujoco.MjModel.from_xml_string(MJCF)\n",
        "renderer = mujoco.Renderer(model, 480, 480)\n",
        "data = mujoco.MjData(model)\n",
        "mujoco.mj_forward(model, data)\n",
        "renderer.update_scene(data, \"fixed\")\n",
        "media.show_image(renderer.render())\n"
      ]
    },
    {
      "cell_type": "markdown",
      "metadata": {
        "id": "u8z2vrOr_RVD"
      },
      "source": [
        "actuated bat and passive \"piñata\":"
      ]
    },
    {
      "cell_type": "code",
      "execution_count": null,
      "metadata": {
        "id": "z-zoBCuBv2Xi"
      },
      "outputs": [],
      "source": [
        "n_frames = 180\n",
        "height = 240\n",
        "width = 320\n",
        "frames = []\n",
        "fps = 60.0\n",
        "times = []\n",
        "sensordata = []\n",
        "\n",
        "renderer = mujoco.Renderer(model, height, width)\n",
        "\n",
        "# constant actuator signal\n",
        "mujoco.mj_resetData(model, data)\n",
        "data.ctrl = 20\n",
        "\n",
        "# simulate and render\n",
        "for i in range(n_frames):\n",
        "  while data.time < i/fps:\n",
        "    mujoco.mj_step(model, data)\n",
        "    times.append(data.time)\n",
        "    sensordata.append(data.sensor('accelerometer').data.copy())\n",
        "  renderer.update_scene(data, \"fixed\")\n",
        "  frame = renderer.render()\n",
        "  frames.append(frame)\n",
        "\n",
        "media.show_video(frames, fps=fps)"
      ]
    },
    {
      "cell_type": "markdown",
      "metadata": {
        "id": "gwHMy_iRA7Jh"
      },
      "source": [
        "Let's plot the values measured by our accelerometer sensor:"
      ]
    },
    {
      "cell_type": "code",
      "execution_count": null,
      "metadata": {
        "id": "uy4wSEMAAJgn"
      },
      "outputs": [],
      "source": [
        "ax = plt.gca()\n",
        "\n",
        "ax.plot(np.asarray(times), np.asarray(sensordata), label='timestep = {:2.2g}ms'.format(1000*dt))\n",
        "\n",
        "# finalize plot\n",
        "ax.set_title('Accelerometer values')\n",
        "ax.set_ylabel('meter/second^2')\n",
        "ax.set_xlabel('second')\n",
        "ax.legend(frameon=True, loc='lower right');\n",
        "plt.tight_layout()"
      ]
    },
    {
      "cell_type": "markdown",
      "metadata": {
        "id": "0YKSTtJ_BQ7x"
      },
      "source": [
        "Note how the moments when the body is hit by the bat are clearly visible in the accelerometer measurements."
      ]
    },
    {
      "cell_type": "markdown",
      "metadata": {
        "id": "1kOs1wTc7uCZ"
      },
      "source": [
        "# Advanced rendering\n",
        "\n",
        "Like joint visualization, additional rendering options are exposed as parameters to the `render` method.\n",
        "\n",
        "Let's bring back our first model:"
      ]
    },
    {
      "cell_type": "code",
      "execution_count": null,
      "metadata": {
        "id": "mTDgsk2xcgwH"
      },
      "outputs": [],
      "source": [
        "xml = \"\"\"\n",
        "<mujoco>\n",
        "  <worldbody>\n",
        "    <light name=\"top\" pos=\"0 0 1\"/>\n",
        "    <body name=\"box_and_sphere\" euler=\"0 0 -30\">\n",
        "      <joint name=\"swing\" type=\"hinge\" axis=\"1 -1 0\" pos=\"-.2 -.2 -.2\"/>\n",
        "      <geom name=\"red_box\" type=\"box\" size=\".2 .2 .2\" rgba=\"1 0 0 1\"/>\n",
        "      <geom name=\"green_sphere\" pos=\".2 .2 .2\" size=\".1\" rgba=\"0 1 0 1\"/>\n",
        "    </body>\n",
        "  </worldbody>\n",
        "</mujoco>\n",
        "\"\"\"\n",
        "model = mujoco.MjModel.from_xml_string(xml)\n",
        "renderer = mujoco.Renderer(model)\n",
        "data = mujoco.MjData(model)\n",
        "\n",
        "mujoco.mj_forward(model, data)\n",
        "renderer.update_scene(data)\n",
        "media.show_image(renderer.render())"
      ]
    },
    {
      "cell_type": "code",
      "execution_count": null,
      "metadata": {
        "id": "VePXamL_6XUc"
      },
      "outputs": [],
      "source": [
        "#@title Enable transparency and frame visualization\n",
        "\n",
        "scene_option.frame = mujoco.mjtFrame.mjFRAME_GEOM\n",
        "scene_option.flags[mujoco.mjtVisFlag.mjVIS_TRANSPARENT] = True\n",
        "renderer.update_scene(data, scene_option=scene_option)\n",
        "frame = renderer.render()\n",
        "media.show_image(frame)"
      ]
    },
    {
      "cell_type": "code",
      "execution_count": null,
      "metadata": {
        "id": "PVcpcvww9lZ8"
      },
      "outputs": [],
      "source": [
        "#@title Depth rendering\n",
        "\n",
        "# update renderer to render depth\n",
        "renderer.enable_depth_rendering()\n",
        "\n",
        "# reset the scene\n",
        "renderer.update_scene(data)\n",
        "\n",
        "# depth is a float array, in meters.\n",
        "depth = renderer.render()\n",
        "\n",
        "# Shift nearest values to the origin.\n",
        "depth -= depth.min()\n",
        "# Scale by 2 mean distances of near rays.\n",
        "depth /= 2*depth[depth <= 1].mean()\n",
        "# Scale to [0, 255]\n",
        "pixels = 255*np.clip(depth, 0, 1)\n",
        "\n",
        "media.show_image(pixels.astype(np.uint8))\n",
        "\n",
        "renderer.disable_depth_rendering()"
      ]
    },
    {
      "cell_type": "code",
      "execution_count": null,
      "metadata": {
        "id": "PNwiIrgpx7T8"
      },
      "outputs": [],
      "source": [
        "#@title Segmentation rendering\n",
        "\n",
        "# update renderer to render segmentation\n",
        "renderer.enable_segmentation_rendering()\n",
        "\n",
        "# reset the scene\n",
        "renderer.update_scene(data)\n",
        "\n",
        "seg = renderer.render()\n",
        "\n",
        "# Display the contents of the first channel, which contains object\n",
        "# IDs. The second channel, seg[:, :, 1], contains object types.\n",
        "geom_ids = seg[:, :, 0]\n",
        "# Infinity is mapped to -1\n",
        "geom_ids = geom_ids.astype(np.float64) + 1\n",
        "# Scale to [0, 1]\n",
        "geom_ids = geom_ids / geom_ids.max()\n",
        "pixels = 255*geom_ids\n",
        "media.show_image(pixels.astype(np.uint8))\n",
        "\n",
        "renderer.disable_segmentation_rendering()"
      ]
    },
    {
      "cell_type": "markdown",
      "metadata": {
        "id": "wo72mo0mGIXr"
      },
      "source": [
        "## The camera matrix\n",
        "\n",
        "For a description of the camera matrix see the article [Camera matrix](https://en.wikipedia.org/wiki/Camera_matrix) on Wikipedia."
      ]
    },
    {
      "cell_type": "code",
      "execution_count": null,
      "metadata": {
        "id": "sDYwClpxaxab"
      },
      "outputs": [],
      "source": [
        "def compute_camera_matrix(renderer, data):\n",
        "  \"\"\"Returns the 3x4 camera matrix.\"\"\"\n",
        "  # If the camera is a 'free' camera, we get its position and orientation\n",
        "  # from the scene data structure. It is a stereo camera, so we average over\n",
        "  # the left and right channels. Note: we call `self.update()` in order to\n",
        "  # ensure that the contents of `scene.camera` are correct.\n",
        "  renderer.update_scene(data)\n",
        "  pos = np.mean([camera.pos for camera in renderer.scene.camera], axis=0)\n",
        "  z = -np.mean([camera.forward for camera in renderer.scene.camera], axis=0)\n",
        "  y = np.mean([camera.up for camera in renderer.scene.camera], axis=0)\n",
        "  rot = np.vstack((np.cross(y, z), y, z))\n",
        "  fov = model.vis.global_.fovy\n",
        "\n",
        "  # Translation matrix (4x4).\n",
        "  translation = np.eye(4)\n",
        "  translation[0:3, 3] = -pos\n",
        "\n",
        "  # Rotation matrix (4x4).\n",
        "  rotation = np.eye(4)\n",
        "  rotation[0:3, 0:3] = rot\n",
        "\n",
        "  # Focal transformation matrix (3x4).\n",
        "  focal_scaling = (1./np.tan(np.deg2rad(fov)/2)) * renderer.height / 2.0\n",
        "  focal = np.diag([-focal_scaling, focal_scaling, 1.0, 0])[0:3, :]\n",
        "\n",
        "  # Image matrix (3x3).\n",
        "  image = np.eye(3)\n",
        "  image[0, 2] = (renderer.width - 1) / 2.0\n",
        "  image[1, 2] = (renderer.height - 1) / 2.0\n",
        "  return image @ focal @ rotation @ translation"
      ]
    },
    {
      "cell_type": "markdown",
      "metadata": {
        "id": "Bs89vS0wLoU0"
      },
      "source": [
        "Let's use the camera matrix to project from world to camera coordinates:"
      ]
    },
    {
      "cell_type": "code",
      "execution_count": null,
      "metadata": {
        "id": "My0N4_7PDJ_q"
      },
      "outputs": [],
      "source": [
        "# reset the scene\n",
        "renderer.update_scene(data)\n",
        "\n",
        "\n",
        "# Get the world coordinates of the box corners\n",
        "box_pos = data.geom_xpos[model.geom('red_box').id]\n",
        "box_mat = data.geom_xmat[model.geom('red_box').id].reshape(3, 3)\n",
        "box_size = model.geom_size[model.geom('red_box').id]\n",
        "offsets = np.array([-1, 1]) * box_size[:, None]\n",
        "xyz_local = np.stack(list(itertools.product(*offsets))).T\n",
        "xyz_global = box_pos[:, None] + box_mat @ xyz_local\n",
        "\n",
        "# Camera matrices multiply homogenous [x, y, z, 1] vectors.\n",
        "corners_homogeneous = np.ones((4, xyz_global.shape[1]), dtype=float)\n",
        "corners_homogeneous[:3, :] = xyz_global\n",
        "\n",
        "# Get the camera matrix.\n",
        "m = compute_camera_matrix(renderer, data)\n",
        "\n",
        "# Project world coordinates into pixel space. See:\n",
        "# https://en.wikipedia.org/wiki/3D_projection#Mathematical_formula\n",
        "xs, ys, s = m @ corners_homogeneous\n",
        "# x and y are in the pixel coordinate system.\n",
        "x = xs / s\n",
        "y = ys / s\n",
        "\n",
        "# Render the camera view and overlay the projected corner coordinates.\n",
        "pixels = renderer.render()\n",
        "fig, ax = plt.subplots(1, 1)\n",
        "ax.imshow(pixels)\n",
        "ax.plot(x, y, '+', c='w')\n",
        "ax.set_axis_off()"
      ]
    },
    {
      "cell_type": "markdown",
      "metadata": {
        "id": "AGm5-e0sHEAF"
      },
      "source": [
        "## Modifying the scene\n",
        "\n",
        "Let's add some arbitrary geometry to the `mjvScene`."
      ]
    },
    {
      "cell_type": "code",
      "execution_count": null,
      "metadata": {
        "id": "Z6NDYJ8IOVt7"
      },
      "outputs": [],
      "source": [
        "def get_geom_speed(model, data, geom_name):\n",
        "  \"\"\"Returns the speed of a geom.\"\"\"\n",
        "  geom_vel = np.zeros(6)\n",
        "  geom_type = mujoco.mjtObj.mjOBJ_GEOM\n",
        "  geom_id = data.geom(geom_name).id\n",
        "  mujoco.mj_objectVelocity(model, data, geom_type, geom_id, geom_vel, 0)\n",
        "  return np.linalg.norm(geom_vel)\n",
        "\n",
        "def add_visual_capsule(scene, point1, point2, radius, rgba):\n",
        "  \"\"\"Adds one capsule to an mjvScene.\"\"\"\n",
        "  if scene.ngeom >= scene.maxgeom:\n",
        "    return\n",
        "  scene.ngeom += 1  # increment ngeom\n",
        "  # initialise a new capsule, add it to the scene using mjv_makeConnector\n",
        "  mujoco.mjv_initGeom(scene.geoms[scene.ngeom-1],\n",
        "                      mujoco.mjtGeom.mjGEOM_CAPSULE, np.zeros(3),\n",
        "                      np.zeros(3), np.zeros(9), rgba.astype(np.float32))\n",
        "  mujoco.mjv_makeConnector(scene.geoms[scene.ngeom-1],\n",
        "                           mujoco.mjtGeom.mjGEOM_CAPSULE, radius,\n",
        "                           point1[0], point1[1], point1[2],\n",
        "                           point2[0], point2[1], point2[2])\n",
        "\n",
        " # traces of time, position and speed\n",
        "times = []\n",
        "positions = []\n",
        "speeds = []\n",
        "offset = model.jnt_axis[0]/8  # offset along the joint axis\n",
        "\n",
        "def modify_scene(scn):\n",
        "  \"\"\"Draw position trace, speed modifies width and colors.\"\"\"\n",
        "  if len(positions) > 1:\n",
        "    for i in range(len(positions)-1):\n",
        "      rgba=np.array((np.clip(speeds[i]/10, 0, 1),\n",
        "                     np.clip(1-speeds[i]/10, 0, 1),\n",
        "                     .5, 1.))\n",
        "      radius=.003*(1+speeds[i])\n",
        "      point1 = positions[i] + offset*times[i]\n",
        "      point2 = positions[i+1] + offset*times[i+1]\n",
        "      add_visual_capsule(scn, point1, point2, radius, rgba)\n",
        "\n",
        "duration = 6    # (seconds)\n",
        "framerate = 30  # (Hz)\n",
        "\n",
        "# Simulate and display video.\n",
        "frames = []\n",
        "\n",
        "# Reset state and time.\n",
        "mujoco.mj_resetData(model, data)\n",
        "mujoco.mj_forward(model, data)\n",
        "\n",
        "while data.time < duration:\n",
        "  # append data to the traces\n",
        "  positions.append(data.geom_xpos[data.geom(\"green_sphere\").id].copy())\n",
        "  times.append(data.time)\n",
        "  speeds.append(get_geom_speed(model, data, \"green_sphere\"))\n",
        "  mujoco.mj_step(model, data)\n",
        "  if len(frames) < data.time * framerate:\n",
        "    renderer.update_scene(data)\n",
        "    modify_scene(renderer.scene)\n",
        "    pixels = renderer.render()\n",
        "    frames.append(pixels)\n",
        "media.show_video(frames, fps=framerate)"
      ]
    }
  ],
  "metadata": {
    "accelerator": "GPU",
    "colab": {
      "collapsed_sections": [
        "-re3Szx-1Ias"
      ],
      "gpuClass": "premium",
      "gpuType": "T4",
      "private_outputs": true,
      "provenance": [],
      "toc_visible": true
    },
    "kernelspec": {
      "display_name": "Python 3",
      "name": "python3"
    },
    "language_info": {
      "codemirror_mode": {
        "name": "ipython",
        "version": 3
      },
      "file_extension": ".py",
      "mimetype": "text/x-python",
      "name": "python",
      "nbconvert_exporter": "python",
      "pygments_lexer": "ipython3",
      "version": "3.9.16"
    }
  },
  "nbformat": 4,
  "nbformat_minor": 0
}
