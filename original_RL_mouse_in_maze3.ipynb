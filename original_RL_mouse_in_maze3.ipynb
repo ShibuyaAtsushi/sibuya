{
 "cells": [
  {
   "cell_type": "markdown",
   "metadata": {},
   "source": [
    "# core"
   ]
  },
  {
   "cell_type": "code",
   "execution_count": 1,
   "metadata": {},
   "outputs": [],
   "source": [
    "\"\"\"\n",
    "core.py\n",
    "環境とエージェントの抽象クラス\n",
    "\"\"\"\n",
    "import numpy as np\n",
    "\n",
    "\n",
    "class coreEnv:\n",
    "    \"\"\" 環境の抽象クラス \"\"\"\n",
    "    def __init__(self):\n",
    "        \"\"\" 初期処理 \"\"\"\n",
    "        # 引数の設定は適時編集\n",
    "        self.n_act = 2  # <--- 行動数を設定\n",
    "        self.done = False\n",
    "        # ------------------------- 編集ここから\n",
    "        # ------------------------- ここまで\n",
    "\n",
    "    def reset(self):\n",
    "        \"\"\" 状態を初期化 \"\"\"\n",
    "        self.done = False\n",
    "        # ------------------------- 編集ここから\n",
    "        obs = np.array([0, 0, 0, 0])  # ndarray\n",
    "        # ------------------------- ここまで\n",
    "        return obs\n",
    "\n",
    "    def step(self, act):\n",
    "        \"\"\" 状態を更新 \"\"\"\n",
    "        # 最終状態の次の状態はリセット\n",
    "        if self.done is True:\n",
    "            obs = self.reset()\n",
    "            return None, None, obs\n",
    "        # ------------------------- 編集ここから\n",
    "        rwd = 1.0                   # float\n",
    "        done = True                 # bool\n",
    "        # ------------------------- ここまで\n",
    "        self.done = done\n",
    "        # ------------------------- 編集ここから\n",
    "        # self.done を使った処理\n",
    "        obs = np.array([0, 0, 0, 0])  # ndarray\n",
    "        # ------------------------- ここまで\n",
    "        return rwd, done, obs\n",
    "\n",
    "    def render(self):\n",
    "        \"\"\" 状態に対応した画像を作成 \"\"\"\n",
    "        # ------------------------- 編集ここから\n",
    "        # img: 3d ndarray\n",
    "        img = np.zeros((100, 200, 3), dtype=np.uint8)\n",
    "        # ------------------------- ここまで\n",
    "        return img\n",
    "\n",
    "\n",
    "class coreAgt:\n",
    "    \"\"\" エージェントの抽象クラス \"\"\"\n",
    "    def __init__(self):\n",
    "        \"\"\" 初期処理 \"\"\"\n",
    "        # 引数の設定は適時編集\n",
    "        self.epsilon = 0.4\n",
    "        # ------------------------- 編集ここから\n",
    "        # ------------------------- ここまで\n",
    "\n",
    "    def select_action(self, obs):\n",
    "        \"\"\" 観測に対して行動を出力 \"\"\"\n",
    "        # ------------------------- 編集ここから\n",
    "        act = 0  # int\n",
    "        # ------------------------- ここまで\n",
    "        return act\n",
    "\n",
    "    def learn(self, obs, act, rwd, done, next_obs):\n",
    "        \"\"\" 学習 \"\"\"\n",
    "        if rwd is None:\n",
    "            return\n",
    "        # ------------------------- 編集ここから\n",
    "        # ------------------------- ここまで\n",
    "\n",
    "    def get_Q(self, obs):\n",
    "        \"\"\" 観測に対するQ値を出力 \"\"\"\n",
    "        # ------------------------- 編集ここから\n",
    "        Q = np.ndarray([0, 0])  # ndarray\n",
    "        # ------------------------- ここまで\n",
    "        return Q\n",
    "\n",
    "    def save_weights(self, filepath):\n",
    "        \"\"\" 方策のパラメータの保存 \"\"\"\n",
    "        # ------------------------- 編集ここから\n",
    "        # ------------------------- ここまで\n",
    "\n",
    "    def load_weights(self, filepath):\n",
    "        \"\"\" 方策のパラメータの読み込み \"\"\"\n",
    "        # ------------------------- 編集ここから\n",
    "        # ------------------------- ここまで\n"
   ]
  },
  {
   "cell_type": "markdown",
   "metadata": {},
   "source": [
    "### env_myenv"
   ]
  },
  {
   "cell_type": "code",
   "execution_count": 2,
   "metadata": {},
   "outputs": [],
   "source": [
    "# # import cv2\n",
    "# import numpy as np\n",
    "# # import core\n",
    "# import mujoco\n",
    "# # from tqdm import trange\n",
    "\n",
    "# xml_path = './xml_models/micromouse.xml'\n",
    "# times = []\n",
    "# left_motor_kakusokudo = []\n",
    "# right_motor_kakusokudo = []\n",
    "# sensor_LF = []\n",
    "# sensor_LS = []\n",
    "# sensor_RF = []\n",
    "# sensor_RS = []\n",
    "\n",
    "\n",
    "\n",
    "# class MyEnv(coreEnv):\n",
    "\n",
    "#     def __init__(self): #引数で受け取るとかは特にないからこんな感じ　各インスタンス変数に値を入れていく\n",
    "#         self.n_act = 5\n",
    "#         self.done = False #最初だからFalse\n",
    "#         self.state = None #状態表示用変数\n",
    "#         self.m = mujoco.MjModel.from_xml_path(xml_path)#modelを読み込んで用意\n",
    "#         self.d = mujoco.MjData(self.m) #モデルのデータを用意\n",
    "\n",
    "#     def reset(self):\n",
    "#         \"\"\" 状態を初期化 \"\"\"\n",
    "#         self.done = False\n",
    "#         # ------------------------- 編集ここから\n",
    "#         self.state = 'start'\n",
    "#         mujoco.mj_resetData(self.m, self.d)\n",
    "#         obs = np.array([0, 0, 0, 0])  # ndarray\n",
    "#         # ------------------------- ここまで\n",
    "#         return obs\n",
    "    \n",
    "#     def step(self, act):\n",
    "#         \"\"\" 状態を更新 \"\"\"\n",
    "#         # 最終状態の次の状態はリセット\n",
    "#         if self.done is True:\n",
    "#             obs = self.reset()\n",
    "#             return None, None, obs\n",
    "#         # ------------------------- 編集ここから\n",
    "#         self.d.ctrl = act\n",
    "#         mujoco.mj_step(self.m, self.d)\n",
    "#         mujoco.mj_kinematics(self.m, self.d)\n",
    "#         goal_pos = self.d.geom('goal').xpos\n",
    "#         mm_pos = self.d.geom('mein_body').xpos\n",
    "#         self.goal_range = np.sqrt((goal_pos[0] - mm_pos[0])**2+(goal_pos[1] - mm_pos[1])**2)\n",
    "\n",
    "#         rwd = -self.goal_range      # float  goalとの距離がそのまま罰になる\n",
    "#         done = False                 # bool\n",
    "\n",
    "#         if self.goal_range < 0.06: #ゴールに十分近かったら報酬を与えて，終了判定\n",
    "#             rwd = 300\n",
    "#             done = True\n",
    "\n",
    "#         # ------------------------- ここまで\n",
    "#         self.done = done\n",
    "#         # ------------------------- 編集ここから\n",
    "#         # self.done を使った処理\n",
    "#         ob1 = self.d.sensordata[0].copy() #sensor_LF\n",
    "#         ob2 = self.d.sensordata[1].copy() #sensor_LS\n",
    "#         ob3 = self.d.sensordata[2].copy() #sensor_RF\n",
    "#         ob4 = self.d.sensordata[3].copy() #sensor_RS\n",
    "#         obs = np.array([ob1, ob2, ob3, ob4])  # ndarray\n",
    "#         # ------------------------- ここまで\n",
    "#         return rwd, done, obs\n",
    "    \n",
    "#     def render(self):\n",
    "#         \"\"\" 状態に対応した画像を作成 \"\"\"\n",
    "#         # ------------------------- 編集ここから\n",
    "#         # img: 3d ndarray\n",
    "#         self.viewer.sync() # mj_stepで進めたシミュレーションを，描画に反映する　　物理状態の変更を反映する\n",
    "#         # ------------------------- ここまで\n",
    "#         return"
   ]
  },
  {
   "cell_type": "code",
   "execution_count": null,
   "metadata": {},
   "outputs": [],
   "source": []
  },
  {
   "cell_type": "markdown",
   "metadata": {},
   "source": [
    "# agt_TableQ"
   ]
  },
  {
   "cell_type": "code",
   "execution_count": 3,
   "metadata": {},
   "outputs": [],
   "source": [
    "\"\"\"\n",
    "agt_tableQ.py\n",
    "Qテーブルを使ったQ学習アルゴリズム\n",
    "\"\"\"\n",
    "import sys\n",
    "import pickle\n",
    "import numpy as np\n",
    "\n",
    "# 自作モジュール\n",
    "# import core\n",
    "\n",
    "\n",
    "class TableQAgt(coreAgt):\n",
    "    \"\"\" Qテーブルを使ったQ学習エージェントクラス \"\"\"\n",
    "    def __init__(           # 引数とデフォルト値の設定 (A)\n",
    "            self,\n",
    "            n_act=4,            # int: 行動の種類数\n",
    "            init_val_Q=0,       # float: Q値の初期値\n",
    "            epsilon=0.1,        # float: 乱雑度\n",
    "            alpha=0.1,          # float: 学習率\n",
    "            gamma=0.9,          # float: 割引率\n",
    "            max_memory=10000,     # int: 記憶する最大の観測数\n",
    "            filepath=None,      # str: 保存用ファイル名\n",
    "            ):\n",
    "        \"\"\" 初期処理 \"\"\"\n",
    "        # 引数の設定は適時編集\n",
    "        self.epsilon = epsilon\n",
    "        # ------------------------- 編集ここから\n",
    "        self.n_act = n_act\n",
    "        # エージェントのハイパーパラメータ (B)\n",
    "        self.init_val_Q = init_val_Q\n",
    "        self.gamma = gamma\n",
    "        self.alpha = alpha\n",
    "\n",
    "        # 保存ファイル名 (C)\n",
    "        self.filepath = filepath\n",
    "\n",
    "        # Qテーブル関連 (D)\n",
    "        self.Q = {}     # Qテーブルの辞書を用意\n",
    "        self.len_Q = 0  # Qテーブルに登録した観測の数記録変数　最初だから０\n",
    "        self.max_memory = max_memory #記録する最大の観測数\n",
    "        # ------------------------- ここまで\n",
    "\n",
    "    def select_action(self, obs):\n",
    "        \"\"\" 観測に対して行動を出力 \"\"\"\n",
    "        # ------------------------- 編集ここから\n",
    "        # obsを文字列に変換 (A)　辞書でやってるから，ndarray型を変える必要があるので文字列に変換しといてる\n",
    "        obs = str(obs)\n",
    "\n",
    "        # obs が登録されていなかったら初期値を与えて登録 (B) #登録されていたら何もしない\n",
    "        self._check_and_add_observation(obs)\n",
    "\n",
    "        # 確率的に処理を分岐 (C)\n",
    "        if np.random.rand() < self.epsilon:\n",
    "            # epsilon の確率(D)\n",
    "            act_select = np.random.randint(0, self.n_act)  # ランダム行動選択\n",
    "        else:\n",
    "            # 1-epsilon の確率(E)\n",
    "            max_Q_action = np.where(self.Q[obs] == np.max(self.Q[obs]))[0]\n",
    "            random_choice_max_Q_action = np.random.choice(max_Q_action)\n",
    "            act_select = random_choice_max_Q_action\n",
    "\n",
    "        # ------------------------- ここまで\n",
    "        return act_select\n",
    "\n",
    "    def _check_and_add_observation(self, obs):\n",
    "        \"\"\" obs が登録されていなかったら初期値を与えて登録 \"\"\"\n",
    "        if obs not in self.Q:  # (A) セルフQにその辞書のキーがなかったら，\n",
    "            self.Q[obs] = [self.init_val_Q] * self.n_act  # (B)　obsをキーとして，Qの初期値をact個用意して追加\n",
    "            self.len_Q += 1  # (C)　追加したので，Qの大きさの変数を１増やす\n",
    "            if self.len_Q > self.max_memory:  # (D)　Qの大きさがマックスを超えたら\n",
    "                print(f'観測の登録数が上限 ' +\n",
    "                      f'{self.max_memory:d} に達しました。')\n",
    "                sys.exit() #プログラムは即座に終了\n",
    "            if (self.len_Q < 100 and self.len_Q % 10 == 0) or \\\n",
    "                    (self.len_Q % 100 == 0):  # (E) 100以下で１０で割り切れる場合　または　１００で割り切れる場合\n",
    "                print(f'the number of obs in Q-table' +\n",
    "                      f' --- {self.len_Q:d}') #表示する\n",
    "\n",
    "    def learn(self, obs, act, rwd, done, next_obs):\n",
    "        \"\"\" 学習 \"\"\"\n",
    "        if rwd is None:  # rwdがNoneだったら戻る(A)\n",
    "            return\n",
    "        # ------------------------- 編集ここから\n",
    "        # obs, next_obs を文字列に変換 (B)　今とその次のobsを使って学習を行うために必要\n",
    "        obs = str(obs)\n",
    "        next_obs = str(next_obs)\n",
    "\n",
    "        # next_obs が登録されていなかったら初期値を与えて登録 (C)\n",
    "        self._check_and_add_observation(next_obs)\n",
    "\n",
    "        # 学習のターゲットを作成 (D)\n",
    "        if done is True: #動的計画法の一番後ろだったら期待値は報酬そのものであるため\n",
    "            target = rwd\n",
    "        else: #動的計画法的に，まだエピソードが終わらない場合の期待値はその報酬とその次の状態の最大のＱ値をとる行動のＱ値であるため\n",
    "            target = rwd + self.gamma * max(self.Q[next_obs])\n",
    "\n",
    "        # Qをターゲットに近づける (E)\n",
    "        self.Q[obs][act] = (1 - self.alpha) * self.Q[obs][act] + self.alpha * target #平均の更新足　ここではQ値の更新則  すべての経験の平均の期待値がここに追加されるので，ちゃんと行動価値（その行動によって得た値の平均つまり期待値）の値になっている\n",
    "        # ------------------------- ここまで\n",
    "\n",
    "    def get_Q(self, obs):\n",
    "        \"\"\" 観測に対するQ値を出力 \"\"\"\n",
    "        # ------------------------- 編集ここから\n",
    "        obs = str(obs) #受け取ったobsを文字列に変換して，\n",
    "        if obs in self.Q:   # obsがQにある (A)場合はその値を取り出す（その状態での各行動のQ値がそれぞれ出る）\n",
    "            val = self.Q[obs]\n",
    "            Q = np.array(val) #nparray型に変換してから返す\n",
    "        else:               # obsがQにない (B)\n",
    "            Q = None #なければないで終わり\n",
    "        # ------------------------- ここまで\n",
    "        return Q\n",
    "\n",
    "    def save_weights(self, filepath=None):\n",
    "        \"\"\" 方策のパラメータの保存 \"\"\"\n",
    "        # ------------------------- 編集ここから\n",
    "        # Qテーブルの保存\n",
    "        if filepath is None:\n",
    "            filepath = self.filepath + '.pkl'\n",
    "        with open(filepath, mode='wb') as f:\n",
    "            pickle.dump(self.Q, f) #Q値を保存する　\n",
    "        # ------------------------- ここまで\n",
    "\n",
    "    def load_weights(self, filepath=None):\n",
    "        \"\"\" 方策のパラメータの読み込み \"\"\"\n",
    "        # ------------------------- 編集ここから\n",
    "        # Qテーブルの読み込み\n",
    "        if filepath is None:\n",
    "            filepath = self.filepath + '.pkl'\n",
    "        with open(filepath, mode='rb') as f:\n",
    "            self.Q = pickle.load(f) #ここでQ値を復元してる\n",
    "        # ------------------------- ここまで\n"
   ]
  },
  {
   "cell_type": "markdown",
   "metadata": {},
   "source": [
    "# MyEnv"
   ]
  },
  {
   "cell_type": "code",
   "execution_count": 4,
   "metadata": {},
   "outputs": [],
   "source": [
    "\"\"\"\n",
    "sibuyaatusiタスク\n",
    "\"\"\"\n",
    "\n",
    "import numpy as np  # ベクトル・行列演算ライブラリ (A)\n",
    "import mujoco\n",
    "from tqdm import trange\n",
    "import time\n",
    "# import mujoco_viewer\n",
    "\n",
    "NUM_DIZITIZED = 6\n",
    "MAX_STEP = 500000\n",
    "\n",
    "#センサ値\n",
    "sens_F = 0.2\n",
    "sens_S = 0.2\n",
    "\n",
    "\n",
    "class MyEnv(coreEnv):\n",
    "    \"\"\" コリドータスクの環境クラス \"\"\"\n",
    "    \n",
    "\n",
    "    def __init__(                   # (B)\n",
    "            self,\n",
    "            ):\n",
    "        \"\"\" 初期処理 \"\"\"\n",
    "        \n",
    "        # 引数の設定は適時編集\n",
    "        self.n_act = 9  # <--- 行動数を設定 (C)個数なので1から数える\n",
    "        self.done = False\n",
    "        # ------------------------- 編集ここから\n",
    "        \"\"\" インスタンス生成時の処理 \"\"\"\n",
    "        # タスクパラメータ (D)\n",
    "        # self.model = mujoco.MjModel.from_xml_path('.\\micromouse_straight_new.xml')#modelを読み込んで用意 インスタンスに用意しておく\n",
    "        self.model = mujoco.MjModel.from_xml_path('.\\mouse_in_maze_for_3.xml')#modelを読み込んで用意 インスタンスに用意しておく\n",
    "        self.data = mujoco.MjData(self.model) #モデルのデータを用意\n",
    "        self.viewer = mujoco.viewer.launch_passive(self.model,self.data) #mujoco描画起動\n",
    "        # self.viewer = mujoco_viewer.MujocoViewer(self.model, self.data)\n",
    "        self.init_pos = self.data.qpos #ロボットの初期位置座標取得\n",
    "        self.init_vel = self.data.qvel #ロボットの初期速度取得\n",
    "        self.stepcount = 0\n",
    "        self.wheel_left_id = mujoco.mj_name2id(self.model, 3,'left wheel joint')\n",
    "        self.wheel_right_id = mujoco.mj_name2id(self.model, 3,'right wheel joint')\n",
    "        self.wheel_ang_left = self.data.qpos[7]\n",
    "        self.wheel_ang_right = self.data.qpos[8]\n",
    "        print(\"ID!:\",self.wheel_left_id)\n",
    "\n",
    "        # ------------------------- ここまで\n",
    "\n",
    "    def reset(self):\n",
    "        \"\"\" 状態を初期化 \"\"\"\n",
    "        self.done = False  # (A)\n",
    "        # ------------------------- 編集ここから\n",
    "        # ロボットの位置を開始位置へ戻す (C)####################################################################################################env.model.geom_pos\n",
    "        # self.data.qpos = self.init_pos\n",
    "        # self.data.qvel = self.init_vel #的な感じにして，初期の位置を与えることで初期位置に戻せるようにする　初期値を記述する　pauseしてからprint dataで取れそう？\n",
    "        self.stepcount = 0\n",
    "        mujoco.mj_resetData(self.model, self.data)\n",
    "\n",
    "        # 初期の観測値を用意 (E)\n",
    "        obs = self._make_obs()\n",
    "        # ------------------------- ここまで\n",
    "        return obs\n",
    "    \n",
    "    # def discretize(value):\n",
    "    # # 0から0.18の範囲を10段階に分割\n",
    "    #     if value == -1:\n",
    "    #         value = 0.18\n",
    "    #     discrete_value = int(value / 0.018)\n",
    "    #     return min(discrete_value, 9)  # 最大値が10段階目になるように調整 9以上にならないようにしている\n",
    "\n",
    "    # def discretize_values(self, ob1, ob2, ob3, ob4):\n",
    "    #     # 各値を離散化\n",
    "    #     discrete_ob1 = self.discretize(ob1)\n",
    "    #     discrete_ob2 = self.discretize(ob2)\n",
    "    #     discrete_ob3 = self.discretize(ob3)\n",
    "    #     discrete_ob4 = self.discretize(ob4)\n",
    "    #     sum = discrete_ob1*1000 + discrete_ob2*100 + discrete_ob3*10 + discrete_ob4*1\n",
    "\n",
    "    #     return sum\n",
    "\n",
    "    # 離散化\n",
    "    def bins(self, clip_min, clip_max, num):\n",
    "        return np.linspace(clip_min, clip_max, num + 1)[1:-1]\n",
    "\n",
    "    def _make_obs(self): #クラスの内部でしか使わない，内部用メソッドであるため_をつけている\n",
    "        \"\"\" 状態から観測を作成(状態（観測）の離散化を行って観測とする) \"\"\"\n",
    "        # 最終状態判定がTrueだったら 9999 を出力 (A)\n",
    "        if self.done is True:\n",
    "            obs = np.array([9] * 4)\n",
    "            return obs #どうせこの後はリセットするし，あまり意味はないかも\n",
    "        \n",
    "        # 4つのセンサの値を受け取り，それを離散化して0~9で表したのち，4桁の整数１つとして観測を表す\n",
    "        ob1 = self.data.sensordata[0].copy() #sensor_LF\n",
    "        ob2 = self.data.sensordata[1].copy() #sensor_LS\n",
    "        ob3 = self.data.sensordata[2].copy() #sensor_RS\n",
    "        ob4 = self.data.sensordata[3].copy() #sensor_RF\n",
    "        if ob1 == -1:\n",
    "            ob1 = sens_F\n",
    "        if ob2 == -1:\n",
    "            ob2 = sens_S\n",
    "        if ob3 == -1:\n",
    "            ob3 = sens_S\n",
    "        if ob4 == -1:\n",
    "            ob4 = sens_F\n",
    "        # quat = self.data.xquat[1]\n",
    "        # rounded_quat = round(quat, 2)\n",
    "        # self.rounded_quat_array = np.array(rounded_quat)\n",
    "\n",
    "        # goal_quat = [0, 0.7, 0, 0]\n",
    "        # self.goal_quat_array = np.array(goal_quat)\n",
    "\n",
    "        # obs = self.rounded_quat_array - self.goal_quat_array\n",
    "\n",
    "\n",
    "        obs=np.digitize(ob1, bins=self.bins(0.0, sens_F, NUM_DIZITIZED))*1000 + \\\n",
    "            np.digitize(ob2, bins=self.bins(0.0, sens_S, NUM_DIZITIZED))*100 + \\\n",
    "            np.digitize(ob3, bins=self.bins(0.0, sens_S, NUM_DIZITIZED))*10 + \\\n",
    "            np.digitize(ob4, bins=self.bins(0.0, sens_F, NUM_DIZITIZED))*1\n",
    "        \n",
    "        # print(obs)\n",
    "        return obs\n",
    "\n",
    "    def step(self, act_select):\n",
    "        whatdone = False\n",
    "        \"\"\" 状態を更新 \"\"\"\n",
    "        # 最終状態の次の状態はリセット(A)\n",
    "        if self.done is True:\n",
    "            obs = self.reset()\n",
    "            return 0, None, obs\n",
    "        \n",
    "        # step数が基準を超えたら\n",
    "        if self.stepcount == MAX_STEP:\n",
    "            obs = self.reset()\n",
    "            rwd = 1\n",
    "            return rwd, None, obs\n",
    "        \n",
    "        \n",
    "        if act_select == 0:\n",
    "            act = [0.1, 0.1]\n",
    "            \n",
    "        # elif act_select == 1:\n",
    "        #     act = [0.0, 0.16]\n",
    "            \n",
    "        # elif act_select == 2:\n",
    "        #     act = [0.16, 0.0]\n",
    "            \n",
    "        # elif act_select == 3:\n",
    "        #     act = [0.0, 0.0]\n",
    "            \n",
    "        # elif act_select == 4:\n",
    "        #     act = [-0.16, -0.0]\n",
    "        \n",
    "        # elif act_select == 5:\n",
    "        #     act = [-0.0, -0.16]\n",
    "            \n",
    "        elif act_select == 1:\n",
    "            act = [-0.1, -0.1]\n",
    "            \n",
    "        elif act_select == 2:\n",
    "            act = [-0.16, 0.16]\n",
    "            \n",
    "        elif act_select == 3:\n",
    "            act = [0.16, -0.16]\n",
    "        # elif act_select == 4:\n",
    "        #     act = [0, 0] #行動選択を具体的なモータ出力に変換している(モータを動かす組み合わせを選ぶ)\n",
    "        else:\n",
    "            print(\"ありえない行動選択をしているこれはバグに違いない\")\n",
    "\n",
    "        # print(\"選んだ行動\",act_select)\n",
    "        \n",
    "        self.data.ctrl = act.copy() #行動選択のactをctrlにコピーすることで，モータを回す\n",
    "        # before_goal_range = np.sqrt((before_goal_pos[0] - before_mm_pos[0])**2+(before_goal_pos[1] - before_mm_pos[1])**2) #三平方の定理\n",
    "        self.prev_wheel_ang_left = self.data.qpos[7]\n",
    "        self.prev_wheel_ang_right = self.data.qpos[8]\n",
    "        for mjst in range(250):\n",
    "            mujoco.mj_step(self.model, self.data) #3000step進める####決めた行動を行った後3000mjstep後の，環境の様子を強化学習の1stepと判断したいため#######################################################################################################\n",
    "            self.hit_wall_f = self.data.sensordata[4].copy() #フォースセンサの値取得\n",
    "            self.hit_wall_b = self.data.sensordata[5].copy() #フォースセンサの値取得\n",
    "            if self.hit_wall_f > 0 or self.hit_wall_b > 0:\n",
    "                rwd = (self.stepcount/MAX_STEP) - 10\n",
    "                whatdone = True\n",
    "                self.done = whatdone  # (E) #確定したdone情報を，インスタンス変数のdoneに保存\n",
    "                obs = self._make_obs()  # 行動後のobsを作成(F) ここではセンサ値を取得する　next_obsに対応している値で，行動後の観測値である．ぶつかったときのobs\n",
    "                self.viewer.sync() #mujoco描画起動\n",
    "                # self.viewer.render()\n",
    "                return rwd, whatdone, obs #ぶつかったらアウト\n",
    "            \n",
    "            # self.viewer.render()\n",
    "            self.viewer.sync() #mujoco描画起動viewer\n",
    "                 # mj_stepで進めたシミュレーションを，描画に反映する　　物理状態の変更を反映する\n",
    "        self.wheel_ang_left = self.data.qpos[7]\n",
    "        self.wheel_ang_right = self.data.qpos[8]\n",
    "        self.stepcount += 1 #step数を測るためのインスタンス変数\n",
    "        # mujoco.mj_kinematics(self.model, self.data) #ネームアクセスするために必要\n",
    "        # goal_pos = self.data.geom('goal').xpos #ゴールの位置座標取得\n",
    "        robot_pos = self.data.geom('mein_body1').xpos #ロボットの位置座標取得\n",
    "        self.hit_wall_f = self.data.sensordata[4].copy() #フォースセンサの値取得\n",
    "        self.hit_wall_b = self.data.sensordata[5].copy() #フォースセンサの値取得\n",
    "        \n",
    "        \n",
    "        # if hit_wall_b != 0:\n",
    "        #     print(hit_wall_b)\n",
    "        # if hit_wall_f != 0:\n",
    "        #     print(hit_wall_f)\n",
    "\n",
    "        # goal_range = np.sqrt((goal_pos - robot_pos)**2)\n",
    "        # goal_range = np.sqrt((goal_pos[0] - robot_pos[0])**2+(goal_pos[1] - robot_pos[1])**2) #三平方の定理\n",
    "        # if goal_range < 0.16: #ゴールしたら\n",
    "        #     rwd = 2\n",
    "        #     print(\"goal!!\")\n",
    "        #     whatdone = True\n",
    "        \n",
    "        # elif\n",
    "        if whatdone != True:\n",
    "            leftwheel_ang = self.wheel_ang_left - self.prev_wheel_ang_left\n",
    "            rightwheel_ang = self.wheel_ang_right - self.prev_wheel_ang_right #前ー後 つまり進んでたら正になるし下がってたら負になる\n",
    "            if leftwheel_ang <= 0:\n",
    "                leftwheel_ang = leftwheel_ang*3\n",
    "            if rightwheel_ang <= 0:\n",
    "                rightwheel_ang = rightwheel_ang*3\n",
    "            rwd = (leftwheel_ang + rightwheel_ang)/8 # rwd = (1/(goal_range + 0.2))*0.005 #- np.sqrt(np.sum((self.rounded_quat_array - self.goal_quat_array)**2)) #とにかくずれがバツとなる\n",
    "            # print(rwd)\n",
    "            # ob1 = self.data.sensordata[0].copy() #sensor_LF\n",
    "            # LS = self.data.sensordata[1].copy() #sensor_LS\n",
    "            # # ob3 = self.data.sensordata[2].copy() #sensor_RF\n",
    "            # RS = self.data.sensordata[3].copy() #sensor_RS\n",
    "            # # if np.isnan(LS):\n",
    "            # #     LS = 0.15\n",
    "            # # if np.isnan(RS):\n",
    "            # #     RS = 0.15\n",
    "            # LS = np.floor(LS * 1000) / 1000\n",
    "            # RS = np.floor(RS * 1000) / 1000\n",
    "            # rwd = 0.1 - abs(LS-RS)*3\n",
    "            # print(rwd)\n",
    "            # rew_ob1 = self.data.sensordata[0].copy() #sensor_LF\n",
    "            # rew_ob2 = self.data.sensordata[1].copy() #sensor_LS\n",
    "            # rew_ob3 = self.data.sensordata[2].copy() #sensor_RS\n",
    "            # rew_ob4 = self.data.sensordata[3].copy() #sensor_RF\n",
    "\n",
    "            # sensor_reward1=np.digitize(rew_ob1, bins=self.bins(0.0, sens_F, NUM_DIZITIZED+6))-2 #0,1,2,3,4の5段階なので，近かったら報酬，離れていたら罰とする\n",
    "            # sensor_reward2=np.digitize(rew_ob2, bins=self.bins(0.0, sens_S, NUM_DIZITIZED+6))-2  #ここは0,1,2,3の4段階なので\n",
    "            # sensor_reward3=np.digitize(rew_ob3, bins=self.bins(0.0, sens_S, NUM_DIZITIZED+6))-2\n",
    "            # sensor_reward4=np.digitize(rew_ob4, bins=self.bins(0.0, sens_F, NUM_DIZITIZED+6))-2\n",
    "            # rwd -= (1/(rew_ob1 + rew_ob2 + rew_ob3 + rew_ob4))\n",
    "\n",
    "            # 状態から，壁パターンリストに変換\n",
    "            # rew_sensor_value=np.digitize(rew_ob1, bins=self.bins(0.0, sens_F, NUM_DIZITIZED))*1000 + \\\n",
    "            # np.digitize(rew_ob2, bins=self.bins(0.0, sens_S, NUM_DIZITIZED))*100 + \\\n",
    "            # np.digitize(rew_ob3, bins=self.bins(0.0, sens_S, NUM_DIZITIZED))*10 + \\\n",
    "            # np.digitize(rew_ob4, bins=self.bins(0.0, sens_F, NUM_DIZITIZED))*1\n",
    "            # rew_sensor_value=str(rew_sensor_value)\n",
    "            # if \"2\" not in rew_sensor_value:\n",
    "            #     decimal_output = int(rew_sensor_value, 2)\n",
    "            #     wall_pattern_list = [7,8,6,8,3,8,2,8,8,5,8,4,8,1,8,0]\n",
    "            #     wall_pattern = wall_pattern_list[decimal_output]\n",
    "            #     # rwd_wall = [[ 2, 2, 2,-1,-1,-1,-1, 0, 0],\\\n",
    "            #     #             [ 2,-1, 2,-1,-1,-1,-1, 0, 0],\\\n",
    "            #     #             [-1, 2, 2,-1,-1,-1,-1, 0, 0],\\\n",
    "            #     #             [-1,-1, 2,-1,-1,-1,-1, 0, 0],\\\n",
    "            #     #             [ 2, 2,-1,-1,-1,-1,-1, 0, 0],\\\n",
    "            #     #             [ 2,-1,-1,-1,-1,-1,-1, 0, 0],\\\n",
    "            #     #             [-1, 2,-1,-1,-1,-1,-1, 0, 0],\\\n",
    "            #     #             [-1,-1,-1, 0,-1,-1,-1, 0.2, 0],\\\n",
    "            #     #             [0, 0, 0, 0, 0, 0, 0, 0, 0]]\n",
    "            #     rwd_wall = [[ 2, 2, 2,-1,-1,-1,-1, 0.1, 0.1],\\\n",
    "            #                 [ 2,-1, 2,-1,-1,-1,-1, -1, 2],\\\n",
    "            #                 [-1, 2, 2,-1,-1,-1,-1, 2, 2],\\\n",
    "            #                 [-1,-1, 2,-1,-1,-1,-1, -1, 2],\\\n",
    "            #                 [ 2, 2,-1,-1,-1,-1,-1, 2, -1],\\\n",
    "            #                 [ 2,-1,-1,-1,-1,-1,-1, 0, 0],\\\n",
    "            #                 [-1, 2,-1,-1,-1,-1,-1, 2, 0],\\\n",
    "            #                 [-1,-1,-1, 0,-1,-1,-1, 0.5, 0],\\\n",
    "            #                 [0, 0, 0, 0, 0, 0, 0, 0, 0]]\n",
    "            #     rwd+=rwd_wall[wall_pattern][act_select]\n",
    "\n",
    "\n",
    "                # print(\"abs:\",rwd)\n",
    "            whatdone = False\n",
    "\n",
    "        # ------------------------- ここまで\n",
    "        self.done = whatdone  # (E) #確定したdone情報を，インスタンス変数のdoneに保存\n",
    "        # ------------------------- 編集ここから\n",
    "        obs = self._make_obs()  # 行動後のobsを作成(F) ここではセンサ値を取得する　next_obsに対応している値で，行動後の観測値である．\n",
    "        # ------------------------- ここまで\n",
    "        return rwd, whatdone, obs\n",
    "\n",
    "    def render(self):\n",
    "        \"\"\" 状態に対応した画像を作成 \"\"\" #工事中################＃＃＃＃＃＃＃＃＃＃＃＃＃＃＃＃＃＃＃＃＃＃＃＃＃＃＃＃＃＃＃＃＃＃＃＃＃＃＃＃＃＃＃＃＃＃＃＃＃\n",
    "        mujoco.viewer.launch_passive(self.model, self.data).sync() # mj_stepで進めたシミュレーションを，描画に反映する　　物理状態の変更を反映する\n",
    "\n"
   ]
  },
  {
   "cell_type": "code",
   "execution_count": 5,
   "metadata": {},
   "outputs": [],
   "source": [
    "\n",
    "# if __name__ == '__main__':\n",
    "#     # 操作方法の表示 (A)\n",
    "#     msg = (\n",
    "#         '\\n' +\n",
    "#         '---- 操作方法 -------------------------------------\\n'\n",
    "#         '[f] 右に進む\\n' +\n",
    "#         '[d] 拾う\\n' +\n",
    "#         '[q] 終了\\n' +\n",
    "#         'クリスタルを拾うと成功\\n' +\n",
    "#         '---------------------------------------------------'\n",
    "#     )\n",
    "#     print(msg)\n",
    "\n",
    "#     # 環境の準備 (B)\n",
    "#     env = MyEnv()\n",
    "\n",
    "#     # 環境のパラメータの与え方例\n",
    "#     \"\"\"\n",
    "#     env = CorridorEnv(\n",
    "#         field_length=6,\n",
    "#         crystal_candidate=(2, 3, 4, 5),\n",
    "#         rwd_fail=-1,\n",
    "#         rwd_move=0,\n",
    "#         rwd_crystal=10,\n",
    "#     )\n",
    "#     \"\"\"\n",
    "\n",
    "#     # 強化学習情報の初期化 (C)\n",
    "#     t = 0\n",
    "#     obs = env.reset()\n",
    "#     act = None\n",
    "#     rwd = None\n",
    "#     done = None\n",
    "\n",
    "#     # 開始の表示 (D)\n",
    "#     print('')\n",
    "#     print('あなたのプレイ開始')\n",
    "\n",
    "#     # 強化学習情報表示の関数定義 (E)\n",
    "#     def show_info(t, act, rwd, done, obs, isFirst=False):\n",
    "#         \"\"\" 強化学習情報の表示 \"\"\"\n",
    "#         if rwd is None:  # (F)\n",
    "#             if isFirst:\n",
    "#                 tt = t\n",
    "#             else:\n",
    "#                 tt = t + 1\n",
    "#             print('')\n",
    "#             print(f'x({tt:d})={str(obs):s}')\n",
    "#         else:  # (G)\n",
    "#             msg = (\n",
    "#                 f'a({t:d})={act:d}, ' +\n",
    "#                 f'r({t:d})={rwd: .2f}, ' +\n",
    "#                 f'done({t:d})={done:}, ' +\n",
    "#                 f'x({t + 1:d})={str(obs):s}'\n",
    "#             )\n",
    "#             print(msg)\n",
    "\n",
    "#     # 強化学習情報表示 (H)\n",
    "#     show_info(t, act, rwd, done, obs, isFirst=True)\n",
    "\n",
    "#     # シミュレーション (I)\n",
    "#     while True:\n",
    "#         # 画面表示 (J)\n",
    "#         image = env.render()\n",
    "#         cv2.imshow('you', image)\n",
    "\n",
    "#         # キーの受付と終了処理 (K)\n",
    "#         key = cv2.waitKey(0)\n",
    "#         if key == ord('q'):\n",
    "#             break\n",
    "\n",
    "#         # あなたの行動選択 (L)\n",
    "#         if key in [ord('d'), ord(' ')]:\n",
    "#             act = 0  # 拾う\n",
    "#         elif key == ord('f'):\n",
    "#             act = 1  # 進む\n",
    "#         else:\n",
    "#             continue\n",
    "\n",
    "#         # 環境の更新 (M)\n",
    "#         rwd, done, obs = env.step(act)\n",
    "\n",
    "#         # 強化学習情報表示 (N)\n",
    "#         show_info(t, act, rwd, done, obs)\n",
    "#         t += 1\n",
    "# 回転の運動方程式から考えて，力学が何が起きているか考える　摩擦適当じゃんそれはまずい．ご法度　"
   ]
  },
  {
   "cell_type": "markdown",
   "metadata": {},
   "source": [
    "# 実行部分（main?）"
   ]
  },
  {
   "cell_type": "code",
   "execution_count": 6,
   "metadata": {},
   "outputs": [
    {
     "name": "stdout",
     "output_type": "stream",
     "text": [
      "ID!: 1\n",
      "agt.len_Q(Qテーブルの数は) <class 'int'>\n",
      "644\n",
      "Qtableを読み込みました．追加学習します\n"
     ]
    },
    {
     "name": "stderr",
     "output_type": "stream",
     "text": [
      "  0%|          | 2/250000 [01:18<2476:34:31, 35.66s/it]"
     ]
    },
    {
     "name": "stdout",
     "output_type": "stream",
     "text": [
      "Qtable保存しました\n"
     ]
    },
    {
     "name": "stderr",
     "output_type": "stream",
     "text": [
      "  0%|          | 4/250000 [03:59<5039:20:40, 72.57s/it]"
     ]
    },
    {
     "name": "stdout",
     "output_type": "stream",
     "text": [
      "Qtable保存しました\n"
     ]
    },
    {
     "name": "stderr",
     "output_type": "stream",
     "text": [
      "  0%|          | 6/250000 [06:00<4899:16:50, 70.55s/it]"
     ]
    },
    {
     "name": "stdout",
     "output_type": "stream",
     "text": [
      "Qtable保存しました\n"
     ]
    },
    {
     "name": "stderr",
     "output_type": "stream",
     "text": [
      "  0%|          | 8/250000 [07:47<4232:28:13, 60.95s/it]"
     ]
    },
    {
     "name": "stdout",
     "output_type": "stream",
     "text": [
      "Qtable保存しました\n"
     ]
    },
    {
     "name": "stderr",
     "output_type": "stream",
     "text": [
      "  0%|          | 10/250000 [10:30<4939:39:33, 71.13s/it]"
     ]
    },
    {
     "name": "stdout",
     "output_type": "stream",
     "text": [
      "Qtable保存しました\n"
     ]
    },
    {
     "name": "stderr",
     "output_type": "stream",
     "text": [
      "  0%|          | 12/250000 [21:25<12806:06:43, 184.42s/it]"
     ]
    },
    {
     "name": "stdout",
     "output_type": "stream",
     "text": [
      "Qtable保存しました\n"
     ]
    },
    {
     "name": "stderr",
     "output_type": "stream",
     "text": [
      "  0%|          | 14/250000 [27:58<12128:30:37, 174.66s/it]"
     ]
    },
    {
     "name": "stdout",
     "output_type": "stream",
     "text": [
      "Qtable保存しました\n"
     ]
    },
    {
     "name": "stderr",
     "output_type": "stream",
     "text": [
      "  0%|          | 16/250000 [30:47<9220:36:34, 132.79s/it] "
     ]
    },
    {
     "name": "stdout",
     "output_type": "stream",
     "text": [
      "Qtable保存しました\n"
     ]
    },
    {
     "name": "stderr",
     "output_type": "stream",
     "text": [
      "  0%|          | 18/250000 [35:44<9287:55:53, 133.76s/it] "
     ]
    },
    {
     "name": "stdout",
     "output_type": "stream",
     "text": [
      "Qtable保存しました\n"
     ]
    },
    {
     "name": "stderr",
     "output_type": "stream",
     "text": [
      "  0%|          | 20/250000 [36:26<5336:23:29, 76.85s/it] "
     ]
    },
    {
     "name": "stdout",
     "output_type": "stream",
     "text": [
      "Qtable保存しました\n"
     ]
    },
    {
     "name": "stderr",
     "output_type": "stream",
     "text": [
      "  0%|          | 22/250000 [37:21<3611:44:46, 52.01s/it]"
     ]
    },
    {
     "name": "stdout",
     "output_type": "stream",
     "text": [
      "Qtable保存しました\n"
     ]
    },
    {
     "name": "stderr",
     "output_type": "stream",
     "text": [
      "  0%|          | 24/250000 [40:49<5682:52:42, 81.84s/it]"
     ]
    },
    {
     "name": "stdout",
     "output_type": "stream",
     "text": [
      "Qtable保存しました\n"
     ]
    },
    {
     "name": "stderr",
     "output_type": "stream",
     "text": [
      "  0%|          | 26/250000 [42:05<4182:43:39, 60.24s/it]"
     ]
    },
    {
     "name": "stdout",
     "output_type": "stream",
     "text": [
      "Qtable保存しました\n"
     ]
    },
    {
     "name": "stderr",
     "output_type": "stream",
     "text": [
      "  0%|          | 28/250000 [44:04<4195:12:39, 60.42s/it]"
     ]
    },
    {
     "name": "stdout",
     "output_type": "stream",
     "text": [
      "Qtable保存しました\n"
     ]
    },
    {
     "name": "stderr",
     "output_type": "stream",
     "text": [
      "  0%|          | 30/250000 [45:41<3985:01:42, 57.39s/it]"
     ]
    },
    {
     "name": "stdout",
     "output_type": "stream",
     "text": [
      "Qtable保存しました\n"
     ]
    },
    {
     "name": "stderr",
     "output_type": "stream",
     "text": [
      "  0%|          | 32/250000 [47:36<3954:12:02, 56.95s/it]"
     ]
    },
    {
     "name": "stdout",
     "output_type": "stream",
     "text": [
      "Qtable保存しました\n"
     ]
    },
    {
     "name": "stderr",
     "output_type": "stream",
     "text": [
      "  0%|          | 34/250000 [48:42<2984:49:00, 42.99s/it]"
     ]
    },
    {
     "name": "stdout",
     "output_type": "stream",
     "text": [
      "Qtable保存しました\n"
     ]
    },
    {
     "name": "stderr",
     "output_type": "stream",
     "text": [
      "  0%|          | 36/250000 [50:59<3805:42:51, 54.81s/it]"
     ]
    },
    {
     "name": "stdout",
     "output_type": "stream",
     "text": [
      "Qtable保存しました\n"
     ]
    },
    {
     "name": "stderr",
     "output_type": "stream",
     "text": [
      "  0%|          | 38/250000 [52:35<3453:57:11, 49.74s/it]"
     ]
    },
    {
     "name": "stdout",
     "output_type": "stream",
     "text": [
      "Qtable保存しました\n"
     ]
    },
    {
     "name": "stderr",
     "output_type": "stream",
     "text": [
      "  0%|          | 40/250000 [55:19<4109:37:42, 59.19s/it]"
     ]
    },
    {
     "name": "stdout",
     "output_type": "stream",
     "text": [
      "Qtable保存しました\n"
     ]
    },
    {
     "name": "stderr",
     "output_type": "stream",
     "text": [
      "  0%|          | 42/250000 [56:09<2908:19:47, 41.89s/it]"
     ]
    },
    {
     "name": "stdout",
     "output_type": "stream",
     "text": [
      "Qtable保存しました\n"
     ]
    },
    {
     "name": "stderr",
     "output_type": "stream",
     "text": [
      "  0%|          | 44/250000 [57:24<2632:12:42, 37.91s/it]"
     ]
    },
    {
     "name": "stdout",
     "output_type": "stream",
     "text": [
      "Qtable保存しました\n"
     ]
    },
    {
     "name": "stderr",
     "output_type": "stream",
     "text": [
      "  0%|          | 46/250000 [59:21<3130:47:22, 45.09s/it]"
     ]
    },
    {
     "name": "stdout",
     "output_type": "stream",
     "text": [
      "Qtable保存しました\n"
     ]
    },
    {
     "name": "stderr",
     "output_type": "stream",
     "text": [
      "  0%|          | 48/250000 [1:00:13<2471:42:29, 35.60s/it]"
     ]
    },
    {
     "name": "stdout",
     "output_type": "stream",
     "text": [
      "Qtable保存しました\n"
     ]
    },
    {
     "name": "stderr",
     "output_type": "stream",
     "text": [
      "  0%|          | 50/250000 [1:02:36<3809:24:39, 54.87s/it]"
     ]
    },
    {
     "name": "stdout",
     "output_type": "stream",
     "text": [
      "Qtable保存しました\n"
     ]
    },
    {
     "name": "stderr",
     "output_type": "stream",
     "text": [
      "  0%|          | 52/250000 [1:03:28<2954:30:47, 42.55s/it]"
     ]
    },
    {
     "name": "stdout",
     "output_type": "stream",
     "text": [
      "Qtable保存しました\n"
     ]
    },
    {
     "name": "stderr",
     "output_type": "stream",
     "text": [
      "  0%|          | 54/250000 [1:04:21<2459:18:01, 35.42s/it]"
     ]
    },
    {
     "name": "stdout",
     "output_type": "stream",
     "text": [
      "Qtable保存しました\n"
     ]
    },
    {
     "name": "stderr",
     "output_type": "stream",
     "text": [
      "  0%|          | 56/250000 [1:05:12<2079:38:15, 29.95s/it]"
     ]
    },
    {
     "name": "stdout",
     "output_type": "stream",
     "text": [
      "Qtable保存しました\n"
     ]
    },
    {
     "name": "stderr",
     "output_type": "stream",
     "text": [
      "  0%|          | 58/250000 [1:06:32<2520:57:50, 36.31s/it]"
     ]
    },
    {
     "name": "stdout",
     "output_type": "stream",
     "text": [
      "Qtable保存しました\n"
     ]
    },
    {
     "name": "stderr",
     "output_type": "stream",
     "text": [
      "  0%|          | 60/250000 [1:07:20<2080:36:55, 29.97s/it]"
     ]
    },
    {
     "name": "stdout",
     "output_type": "stream",
     "text": [
      "Qtable保存しました\n"
     ]
    },
    {
     "name": "stderr",
     "output_type": "stream",
     "text": [
      "  0%|          | 62/250000 [1:08:13<1917:34:20, 27.62s/it]"
     ]
    },
    {
     "name": "stdout",
     "output_type": "stream",
     "text": [
      "Qtable保存しました\n"
     ]
    },
    {
     "name": "stderr",
     "output_type": "stream",
     "text": [
      "  0%|          | 64/250000 [1:09:22<2267:51:37, 32.67s/it]"
     ]
    },
    {
     "name": "stdout",
     "output_type": "stream",
     "text": [
      "Qtable保存しました\n"
     ]
    },
    {
     "name": "stderr",
     "output_type": "stream",
     "text": [
      "  0%|          | 66/250000 [1:09:52<1643:50:12, 23.68s/it]"
     ]
    },
    {
     "name": "stdout",
     "output_type": "stream",
     "text": [
      "Qtable保存しました\n"
     ]
    },
    {
     "name": "stderr",
     "output_type": "stream",
     "text": [
      "  0%|          | 68/250000 [1:11:15<2036:57:10, 29.34s/it]"
     ]
    },
    {
     "name": "stdout",
     "output_type": "stream",
     "text": [
      "Qtable保存しました\n"
     ]
    },
    {
     "name": "stderr",
     "output_type": "stream",
     "text": [
      "  0%|          | 70/250000 [1:13:14<2838:01:40, 40.88s/it]"
     ]
    },
    {
     "name": "stdout",
     "output_type": "stream",
     "text": [
      "Qtable保存しました\n"
     ]
    },
    {
     "name": "stderr",
     "output_type": "stream",
     "text": [
      "  0%|          | 72/250000 [1:15:18<3850:18:26, 55.46s/it]"
     ]
    },
    {
     "name": "stdout",
     "output_type": "stream",
     "text": [
      "Qtable保存しました\n"
     ]
    },
    {
     "name": "stderr",
     "output_type": "stream",
     "text": [
      "  0%|          | 74/250000 [1:16:13<2918:16:52, 42.04s/it]"
     ]
    },
    {
     "name": "stdout",
     "output_type": "stream",
     "text": [
      "Qtable保存しました\n"
     ]
    },
    {
     "name": "stderr",
     "output_type": "stream",
     "text": [
      "  0%|          | 76/250000 [1:18:13<3663:35:09, 52.77s/it]"
     ]
    },
    {
     "name": "stdout",
     "output_type": "stream",
     "text": [
      "Qtable保存しました\n"
     ]
    },
    {
     "name": "stderr",
     "output_type": "stream",
     "text": [
      "  0%|          | 78/250000 [1:20:42<4274:55:13, 61.58s/it]"
     ]
    },
    {
     "name": "stdout",
     "output_type": "stream",
     "text": [
      "Qtable保存しました\n"
     ]
    },
    {
     "name": "stderr",
     "output_type": "stream",
     "text": [
      "  0%|          | 80/250000 [1:21:00<2419:08:32, 34.85s/it]"
     ]
    },
    {
     "name": "stdout",
     "output_type": "stream",
     "text": [
      "Qtable保存しました\n"
     ]
    },
    {
     "name": "stderr",
     "output_type": "stream",
     "text": [
      "  0%|          | 82/250000 [1:25:26<5303:10:16, 76.39s/it]"
     ]
    },
    {
     "name": "stdout",
     "output_type": "stream",
     "text": [
      "Qtable保存しました\n"
     ]
    },
    {
     "name": "stderr",
     "output_type": "stream",
     "text": [
      "  0%|          | 84/250000 [1:27:14<4471:47:45, 64.42s/it]"
     ]
    },
    {
     "name": "stdout",
     "output_type": "stream",
     "text": [
      "Qtable保存しました\n"
     ]
    },
    {
     "name": "stderr",
     "output_type": "stream",
     "text": [
      "  0%|          | 86/250000 [1:32:06<7689:46:20, 110.77s/it]"
     ]
    },
    {
     "name": "stdout",
     "output_type": "stream",
     "text": [
      "Qtable保存しました\n"
     ]
    },
    {
     "name": "stderr",
     "output_type": "stream",
     "text": [
      "  0%|          | 88/250000 [1:34:21<6281:35:27, 90.49s/it] "
     ]
    },
    {
     "name": "stdout",
     "output_type": "stream",
     "text": [
      "Qtable保存しました\n"
     ]
    },
    {
     "name": "stderr",
     "output_type": "stream",
     "text": [
      "  0%|          | 90/250000 [1:39:52<9093:30:52, 130.99s/it]"
     ]
    },
    {
     "name": "stdout",
     "output_type": "stream",
     "text": [
      "Qtable保存しました\n"
     ]
    },
    {
     "name": "stderr",
     "output_type": "stream",
     "text": [
      "  0%|          | 92/250000 [1:41:21<6106:24:29, 87.96s/it] "
     ]
    },
    {
     "name": "stdout",
     "output_type": "stream",
     "text": [
      "Qtable保存しました\n"
     ]
    },
    {
     "name": "stderr",
     "output_type": "stream",
     "text": [
      "  0%|          | 94/250000 [1:43:22<5381:42:27, 77.53s/it]"
     ]
    },
    {
     "name": "stdout",
     "output_type": "stream",
     "text": [
      "Qtable保存しました\n"
     ]
    },
    {
     "name": "stderr",
     "output_type": "stream",
     "text": [
      "  0%|          | 96/250000 [1:44:04<3417:18:52, 49.23s/it]"
     ]
    },
    {
     "name": "stdout",
     "output_type": "stream",
     "text": [
      "Qtable保存しました\n"
     ]
    },
    {
     "name": "stderr",
     "output_type": "stream",
     "text": [
      "  0%|          | 98/250000 [1:46:00<3514:35:24, 50.63s/it]"
     ]
    },
    {
     "name": "stdout",
     "output_type": "stream",
     "text": [
      "Qtable保存しました\n"
     ]
    },
    {
     "name": "stderr",
     "output_type": "stream",
     "text": [
      "  0%|          | 100/250000 [1:47:49<3761:18:55, 54.18s/it]"
     ]
    },
    {
     "name": "stdout",
     "output_type": "stream",
     "text": [
      "Qtable保存しました\n"
     ]
    },
    {
     "name": "stderr",
     "output_type": "stream",
     "text": [
      "  0%|          | 102/250000 [1:50:14<4322:15:23, 62.27s/it]"
     ]
    },
    {
     "name": "stdout",
     "output_type": "stream",
     "text": [
      "Qtable保存しました\n"
     ]
    },
    {
     "name": "stderr",
     "output_type": "stream",
     "text": [
      "  0%|          | 104/250000 [1:51:18<3176:02:08, 45.75s/it]"
     ]
    },
    {
     "name": "stdout",
     "output_type": "stream",
     "text": [
      "Qtable保存しました\n"
     ]
    },
    {
     "name": "stderr",
     "output_type": "stream",
     "text": [
      "  0%|          | 106/250000 [1:51:51<2140:55:30, 30.84s/it]"
     ]
    },
    {
     "name": "stdout",
     "output_type": "stream",
     "text": [
      "Qtable保存しました\n"
     ]
    },
    {
     "name": "stderr",
     "output_type": "stream",
     "text": [
      "  0%|          | 108/250000 [1:53:05<2283:32:49, 32.90s/it]"
     ]
    },
    {
     "name": "stdout",
     "output_type": "stream",
     "text": [
      "Qtable保存しました\n"
     ]
    },
    {
     "name": "stderr",
     "output_type": "stream",
     "text": [
      "  0%|          | 110/250000 [1:53:40<1750:32:04, 25.22s/it]"
     ]
    },
    {
     "name": "stdout",
     "output_type": "stream",
     "text": [
      "Qtable保存しました\n"
     ]
    },
    {
     "name": "stderr",
     "output_type": "stream",
     "text": [
      "  0%|          | 112/250000 [1:54:06<1354:22:08, 19.51s/it]"
     ]
    },
    {
     "name": "stdout",
     "output_type": "stream",
     "text": [
      "Qtable保存しました\n"
     ]
    },
    {
     "name": "stderr",
     "output_type": "stream",
     "text": [
      "  0%|          | 114/250000 [1:54:41<1317:48:54, 18.99s/it]"
     ]
    },
    {
     "name": "stdout",
     "output_type": "stream",
     "text": [
      "Qtable保存しました\n"
     ]
    },
    {
     "name": "stderr",
     "output_type": "stream",
     "text": [
      "  0%|          | 116/250000 [1:55:39<1743:41:59, 25.12s/it]"
     ]
    },
    {
     "name": "stdout",
     "output_type": "stream",
     "text": [
      "Qtable保存しました\n"
     ]
    },
    {
     "name": "stderr",
     "output_type": "stream",
     "text": [
      "  0%|          | 118/250000 [1:57:02<2171:03:21, 31.28s/it]"
     ]
    },
    {
     "name": "stdout",
     "output_type": "stream",
     "text": [
      "Qtable保存しました\n"
     ]
    },
    {
     "name": "stderr",
     "output_type": "stream",
     "text": [
      "  0%|          | 120/250000 [1:58:24<2569:42:01, 37.02s/it]"
     ]
    },
    {
     "name": "stdout",
     "output_type": "stream",
     "text": [
      "Qtable保存しました\n"
     ]
    },
    {
     "name": "stderr",
     "output_type": "stream",
     "text": [
      "  0%|          | 122/250000 [2:00:02<3162:26:46, 45.56s/it]"
     ]
    },
    {
     "name": "stdout",
     "output_type": "stream",
     "text": [
      "Qtable保存しました\n"
     ]
    },
    {
     "name": "stderr",
     "output_type": "stream",
     "text": [
      "  0%|          | 124/250000 [2:01:02<2531:00:29, 36.46s/it]"
     ]
    },
    {
     "name": "stdout",
     "output_type": "stream",
     "text": [
      "Qtable保存しました\n"
     ]
    },
    {
     "name": "stderr",
     "output_type": "stream",
     "text": [
      "  0%|          | 126/250000 [2:01:56<2266:42:37, 32.66s/it]"
     ]
    },
    {
     "name": "stdout",
     "output_type": "stream",
     "text": [
      "Qtable保存しました\n"
     ]
    },
    {
     "name": "stderr",
     "output_type": "stream",
     "text": [
      "  0%|          | 128/250000 [2:03:21<2585:43:26, 37.25s/it]"
     ]
    },
    {
     "name": "stdout",
     "output_type": "stream",
     "text": [
      "Qtable保存しました\n"
     ]
    },
    {
     "name": "stderr",
     "output_type": "stream",
     "text": [
      "  0%|          | 130/250000 [2:04:36<2639:45:35, 38.03s/it]"
     ]
    },
    {
     "name": "stdout",
     "output_type": "stream",
     "text": [
      "Qtable保存しました\n"
     ]
    },
    {
     "name": "stderr",
     "output_type": "stream",
     "text": [
      "  0%|          | 132/250000 [2:06:16<3316:53:05, 47.79s/it]"
     ]
    },
    {
     "name": "stdout",
     "output_type": "stream",
     "text": [
      "Qtable保存しました\n"
     ]
    },
    {
     "name": "stderr",
     "output_type": "stream",
     "text": [
      "  0%|          | 134/250000 [2:08:19<3845:01:40, 55.40s/it]"
     ]
    },
    {
     "name": "stdout",
     "output_type": "stream",
     "text": [
      "Qtable保存しました\n"
     ]
    },
    {
     "name": "stderr",
     "output_type": "stream",
     "text": [
      "  0%|          | 136/250000 [2:10:24<3951:40:57, 56.94s/it]"
     ]
    },
    {
     "name": "stdout",
     "output_type": "stream",
     "text": [
      "Qtable保存しました\n"
     ]
    },
    {
     "name": "stderr",
     "output_type": "stream",
     "text": [
      "  0%|          | 138/250000 [2:12:07<3671:03:56, 52.89s/it]"
     ]
    },
    {
     "name": "stdout",
     "output_type": "stream",
     "text": [
      "Qtable保存しました\n"
     ]
    },
    {
     "name": "stderr",
     "output_type": "stream",
     "text": [
      "  0%|          | 140/250000 [2:13:25<3110:39:55, 44.82s/it]"
     ]
    },
    {
     "name": "stdout",
     "output_type": "stream",
     "text": [
      "Qtable保存しました\n"
     ]
    },
    {
     "name": "stderr",
     "output_type": "stream",
     "text": [
      "  0%|          | 142/250000 [2:14:08<2261:45:20, 32.59s/it]"
     ]
    },
    {
     "name": "stdout",
     "output_type": "stream",
     "text": [
      "Qtable保存しました\n"
     ]
    },
    {
     "name": "stderr",
     "output_type": "stream",
     "text": [
      "  0%|          | 144/250000 [2:15:24<2613:57:53, 37.66s/it]"
     ]
    },
    {
     "name": "stdout",
     "output_type": "stream",
     "text": [
      "Qtable保存しました\n"
     ]
    },
    {
     "name": "stderr",
     "output_type": "stream",
     "text": [
      "  0%|          | 146/250000 [2:16:48<2800:20:01, 40.35s/it]"
     ]
    },
    {
     "name": "stdout",
     "output_type": "stream",
     "text": [
      "Qtable保存しました\n"
     ]
    },
    {
     "name": "stderr",
     "output_type": "stream",
     "text": [
      "  0%|          | 148/250000 [2:18:30<3132:23:51, 45.13s/it]"
     ]
    },
    {
     "name": "stdout",
     "output_type": "stream",
     "text": [
      "Qtable保存しました\n"
     ]
    },
    {
     "name": "stderr",
     "output_type": "stream",
     "text": [
      "  0%|          | 150/250000 [2:22:19<5838:49:23, 84.13s/it]"
     ]
    },
    {
     "name": "stdout",
     "output_type": "stream",
     "text": [
      "Qtable保存しました\n"
     ]
    },
    {
     "name": "stderr",
     "output_type": "stream",
     "text": [
      "  0%|          | 152/250000 [2:23:16<3804:15:42, 54.81s/it]"
     ]
    },
    {
     "name": "stdout",
     "output_type": "stream",
     "text": [
      "Qtable保存しました\n"
     ]
    },
    {
     "name": "stderr",
     "output_type": "stream",
     "text": [
      "  0%|          | 154/250000 [2:24:13<2803:39:11, 40.40s/it]"
     ]
    },
    {
     "name": "stdout",
     "output_type": "stream",
     "text": [
      "Qtable保存しました\n"
     ]
    },
    {
     "name": "stderr",
     "output_type": "stream",
     "text": [
      "  0%|          | 156/250000 [2:32:13<11310:27:22, 162.97s/it]"
     ]
    },
    {
     "name": "stdout",
     "output_type": "stream",
     "text": [
      "Qtable保存しました\n"
     ]
    },
    {
     "name": "stderr",
     "output_type": "stream",
     "text": [
      "  0%|          | 158/250000 [2:33:22<6739:24:27, 97.11s/it]  "
     ]
    },
    {
     "name": "stdout",
     "output_type": "stream",
     "text": [
      "Qtable保存しました\n"
     ]
    },
    {
     "name": "stderr",
     "output_type": "stream",
     "text": [
      "  0%|          | 160/250000 [2:35:18<5184:16:27, 74.70s/it]"
     ]
    },
    {
     "name": "stdout",
     "output_type": "stream",
     "text": [
      "Qtable保存しました\n"
     ]
    },
    {
     "name": "stderr",
     "output_type": "stream",
     "text": [
      "  0%|          | 162/250000 [2:36:49<4090:15:14, 58.94s/it]"
     ]
    },
    {
     "name": "stdout",
     "output_type": "stream",
     "text": [
      "Qtable保存しました\n"
     ]
    },
    {
     "name": "stderr",
     "output_type": "stream",
     "text": [
      "  0%|          | 164/250000 [2:38:17<3537:18:56, 50.97s/it]"
     ]
    },
    {
     "name": "stdout",
     "output_type": "stream",
     "text": [
      "Qtable保存しました\n"
     ]
    },
    {
     "name": "stderr",
     "output_type": "stream",
     "text": [
      "  0%|          | 166/250000 [2:39:14<2774:08:34, 39.97s/it]"
     ]
    },
    {
     "name": "stdout",
     "output_type": "stream",
     "text": [
      "Qtable保存しました\n"
     ]
    },
    {
     "name": "stderr",
     "output_type": "stream",
     "text": [
      "  0%|          | 168/250000 [2:40:16<2363:01:12, 34.05s/it]"
     ]
    },
    {
     "name": "stdout",
     "output_type": "stream",
     "text": [
      "Qtable保存しました\n"
     ]
    },
    {
     "name": "stderr",
     "output_type": "stream",
     "text": [
      "  0%|          | 170/250000 [2:45:59<6371:38:56, 91.81s/it] "
     ]
    },
    {
     "name": "stdout",
     "output_type": "stream",
     "text": [
      "Qtable保存しました\n"
     ]
    },
    {
     "name": "stderr",
     "output_type": "stream",
     "text": [
      "  0%|          | 172/250000 [2:49:30<6984:16:17, 100.64s/it]"
     ]
    },
    {
     "name": "stdout",
     "output_type": "stream",
     "text": [
      "Qtable保存しました\n"
     ]
    },
    {
     "name": "stderr",
     "output_type": "stream",
     "text": [
      "  0%|          | 174/250000 [2:51:56<6251:35:02, 90.09s/it] "
     ]
    },
    {
     "name": "stdout",
     "output_type": "stream",
     "text": [
      "Qtable保存しました\n"
     ]
    },
    {
     "name": "stderr",
     "output_type": "stream",
     "text": [
      "  0%|          | 176/250000 [2:55:34<7183:05:45, 103.51s/it]"
     ]
    },
    {
     "name": "stdout",
     "output_type": "stream",
     "text": [
      "Qtable保存しました\n"
     ]
    },
    {
     "name": "stderr",
     "output_type": "stream",
     "text": [
      "  0%|          | 178/250000 [3:01:01<9641:44:17, 138.94s/it]"
     ]
    },
    {
     "name": "stdout",
     "output_type": "stream",
     "text": [
      "Qtable保存しました\n"
     ]
    },
    {
     "name": "stderr",
     "output_type": "stream",
     "text": [
      "  0%|          | 180/250000 [3:03:03<6767:14:31, 97.52s/it] "
     ]
    },
    {
     "name": "stdout",
     "output_type": "stream",
     "text": [
      "Qtable保存しました\n"
     ]
    },
    {
     "name": "stderr",
     "output_type": "stream",
     "text": [
      "  0%|          | 182/250000 [3:05:34<6060:02:56, 87.33s/it]"
     ]
    },
    {
     "name": "stdout",
     "output_type": "stream",
     "text": [
      "Qtable保存しました\n"
     ]
    },
    {
     "name": "stderr",
     "output_type": "stream",
     "text": [
      "  0%|          | 184/250000 [3:07:24<4904:59:28, 70.68s/it]"
     ]
    },
    {
     "name": "stdout",
     "output_type": "stream",
     "text": [
      "Qtable保存しました\n"
     ]
    },
    {
     "name": "stderr",
     "output_type": "stream",
     "text": [
      "  0%|          | 186/250000 [3:10:56<6602:52:12, 95.15s/it]"
     ]
    },
    {
     "name": "stdout",
     "output_type": "stream",
     "text": [
      "Qtable保存しました\n"
     ]
    },
    {
     "name": "stderr",
     "output_type": "stream",
     "text": [
      "  0%|          | 188/250000 [3:11:51<4207:12:44, 60.63s/it]"
     ]
    },
    {
     "name": "stdout",
     "output_type": "stream",
     "text": [
      "Qtable保存しました\n"
     ]
    },
    {
     "name": "stderr",
     "output_type": "stream",
     "text": [
      "  0%|          | 190/250000 [3:16:14<7250:56:30, 104.49s/it]"
     ]
    },
    {
     "name": "stdout",
     "output_type": "stream",
     "text": [
      "Qtable保存しました\n"
     ]
    },
    {
     "name": "stderr",
     "output_type": "stream",
     "text": [
      "  0%|          | 192/250000 [3:17:18<4708:37:04, 67.86s/it] "
     ]
    },
    {
     "name": "stdout",
     "output_type": "stream",
     "text": [
      "Qtable保存しました\n"
     ]
    },
    {
     "name": "stderr",
     "output_type": "stream",
     "text": [
      "  0%|          | 194/250000 [3:18:35<3627:10:29, 52.27s/it]"
     ]
    },
    {
     "name": "stdout",
     "output_type": "stream",
     "text": [
      "Qtable保存しました\n"
     ]
    },
    {
     "name": "stderr",
     "output_type": "stream",
     "text": [
      "  0%|          | 196/250000 [3:22:49<6892:21:06, 99.33s/it]"
     ]
    },
    {
     "name": "stdout",
     "output_type": "stream",
     "text": [
      "Qtable保存しました\n"
     ]
    },
    {
     "name": "stderr",
     "output_type": "stream",
     "text": [
      "  0%|          | 198/250000 [3:24:46<5298:25:48, 76.36s/it]"
     ]
    },
    {
     "name": "stdout",
     "output_type": "stream",
     "text": [
      "Qtable保存しました\n"
     ]
    },
    {
     "name": "stderr",
     "output_type": "stream",
     "text": [
      "  0%|          | 200/250000 [3:28:39<7016:20:53, 101.12s/it]"
     ]
    },
    {
     "name": "stdout",
     "output_type": "stream",
     "text": [
      "Qtable保存しました\n"
     ]
    },
    {
     "name": "stderr",
     "output_type": "stream",
     "text": [
      "  0%|          | 202/250000 [3:33:20<8678:53:02, 125.08s/it]"
     ]
    },
    {
     "name": "stdout",
     "output_type": "stream",
     "text": [
      "Qtable保存しました\n"
     ]
    },
    {
     "name": "stderr",
     "output_type": "stream",
     "text": [
      "  0%|          | 204/250000 [3:38:32<9670:36:15, 139.37s/it]"
     ]
    },
    {
     "name": "stdout",
     "output_type": "stream",
     "text": [
      "Qtable保存しました\n"
     ]
    },
    {
     "name": "stderr",
     "output_type": "stream",
     "text": [
      "  0%|          | 206/250000 [3:41:18<7946:48:16, 114.53s/it]"
     ]
    },
    {
     "name": "stdout",
     "output_type": "stream",
     "text": [
      "Qtable保存しました\n"
     ]
    },
    {
     "name": "stderr",
     "output_type": "stream",
     "text": [
      "  0%|          | 208/250000 [3:42:57<5543:23:52, 79.89s/it] "
     ]
    },
    {
     "name": "stdout",
     "output_type": "stream",
     "text": [
      "Qtable保存しました\n"
     ]
    },
    {
     "name": "stderr",
     "output_type": "stream",
     "text": [
      "  0%|          | 210/250000 [3:43:19<3143:31:33, 45.30s/it]"
     ]
    },
    {
     "name": "stdout",
     "output_type": "stream",
     "text": [
      "Qtable保存しました\n"
     ]
    },
    {
     "name": "stderr",
     "output_type": "stream",
     "text": [
      "  0%|          | 212/250000 [3:43:25<1631:48:44, 23.52s/it]"
     ]
    },
    {
     "name": "stdout",
     "output_type": "stream",
     "text": [
      "Qtable保存しました\n"
     ]
    },
    {
     "name": "stderr",
     "output_type": "stream",
     "text": [
      "  0%|          | 214/250000 [3:44:28<2062:43:35, 29.73s/it]"
     ]
    },
    {
     "name": "stdout",
     "output_type": "stream",
     "text": [
      "Qtable保存しました\n"
     ]
    },
    {
     "name": "stderr",
     "output_type": "stream",
     "text": [
      "  0%|          | 216/250000 [3:47:54<4451:01:11, 64.15s/it]"
     ]
    },
    {
     "name": "stdout",
     "output_type": "stream",
     "text": [
      "Qtable保存しました\n"
     ]
    },
    {
     "name": "stderr",
     "output_type": "stream",
     "text": [
      "  0%|          | 218/250000 [3:50:55<5146:00:06, 74.17s/it]"
     ]
    },
    {
     "name": "stdout",
     "output_type": "stream",
     "text": [
      "Qtable保存しました\n"
     ]
    },
    {
     "name": "stderr",
     "output_type": "stream",
     "text": [
      "  0%|          | 220/250000 [3:53:03<4859:44:35, 70.04s/it]"
     ]
    },
    {
     "name": "stdout",
     "output_type": "stream",
     "text": [
      "Qtable保存しました\n"
     ]
    },
    {
     "name": "stderr",
     "output_type": "stream",
     "text": [
      "  0%|          | 222/250000 [3:55:30<5268:49:41, 75.94s/it]"
     ]
    },
    {
     "name": "stdout",
     "output_type": "stream",
     "text": [
      "Qtable保存しました\n"
     ]
    },
    {
     "name": "stderr",
     "output_type": "stream",
     "text": [
      "  0%|          | 224/250000 [3:57:44<5121:01:34, 73.81s/it]"
     ]
    },
    {
     "name": "stdout",
     "output_type": "stream",
     "text": [
      "Qtable保存しました\n"
     ]
    },
    {
     "name": "stderr",
     "output_type": "stream",
     "text": [
      "  0%|          | 226/250000 [4:00:53<6203:51:46, 89.42s/it]"
     ]
    },
    {
     "name": "stdout",
     "output_type": "stream",
     "text": [
      "Qtable保存しました\n"
     ]
    },
    {
     "name": "stderr",
     "output_type": "stream",
     "text": [
      "  0%|          | 228/250000 [4:03:24<5424:19:53, 78.18s/it]"
     ]
    },
    {
     "name": "stdout",
     "output_type": "stream",
     "text": [
      "Qtable保存しました\n"
     ]
    },
    {
     "name": "stderr",
     "output_type": "stream",
     "text": [
      "  0%|          | 230/250000 [4:08:54<8038:37:27, 115.86s/it]"
     ]
    },
    {
     "name": "stdout",
     "output_type": "stream",
     "text": [
      "Qtable保存しました\n"
     ]
    },
    {
     "name": "stderr",
     "output_type": "stream",
     "text": [
      "  0%|          | 232/250000 [4:11:10<6287:39:40, 90.63s/it] "
     ]
    },
    {
     "name": "stdout",
     "output_type": "stream",
     "text": [
      "Qtable保存しました\n"
     ]
    },
    {
     "name": "stderr",
     "output_type": "stream",
     "text": [
      "  0%|          | 234/250000 [4:15:17<7271:11:54, 104.80s/it]"
     ]
    },
    {
     "name": "stdout",
     "output_type": "stream",
     "text": [
      "Qtable保存しました\n"
     ]
    },
    {
     "name": "stderr",
     "output_type": "stream",
     "text": [
      "  0%|          | 236/250000 [4:16:21<4823:28:35, 69.52s/it] "
     ]
    },
    {
     "name": "stdout",
     "output_type": "stream",
     "text": [
      "Qtable保存しました\n"
     ]
    },
    {
     "name": "stderr",
     "output_type": "stream",
     "text": [
      "  0%|          | 238/250000 [4:19:23<5749:08:50, 82.87s/it]"
     ]
    },
    {
     "name": "stdout",
     "output_type": "stream",
     "text": [
      "Qtable保存しました\n"
     ]
    },
    {
     "name": "stderr",
     "output_type": "stream",
     "text": [
      "  0%|          | 240/250000 [4:22:44<5934:47:45, 85.54s/it] "
     ]
    },
    {
     "name": "stdout",
     "output_type": "stream",
     "text": [
      "Qtable保存しました\n"
     ]
    },
    {
     "name": "stderr",
     "output_type": "stream",
     "text": [
      "  0%|          | 242/250000 [4:25:26<6063:37:52, 87.40s/it]"
     ]
    },
    {
     "name": "stdout",
     "output_type": "stream",
     "text": [
      "Qtable保存しました\n"
     ]
    },
    {
     "name": "stderr",
     "output_type": "stream",
     "text": [
      "  0%|          | 244/250000 [4:26:03<3666:16:21, 52.85s/it]"
     ]
    },
    {
     "name": "stdout",
     "output_type": "stream",
     "text": [
      "Qtable保存しました\n"
     ]
    },
    {
     "name": "stderr",
     "output_type": "stream",
     "text": [
      "  0%|          | 246/250000 [4:27:04<2709:22:22, 39.05s/it]"
     ]
    },
    {
     "name": "stdout",
     "output_type": "stream",
     "text": [
      "Qtable保存しました\n"
     ]
    },
    {
     "name": "stderr",
     "output_type": "stream",
     "text": [
      "  0%|          | 248/250000 [4:28:51<3213:26:37, 46.32s/it]"
     ]
    },
    {
     "name": "stdout",
     "output_type": "stream",
     "text": [
      "Qtable保存しました\n"
     ]
    },
    {
     "name": "stderr",
     "output_type": "stream",
     "text": [
      "  0%|          | 249/250000 [4:30:25<4520:45:12, 65.16s/it]\n"
     ]
    },
    {
     "ename": "KeyboardInterrupt",
     "evalue": "",
     "output_type": "error",
     "traceback": [
      "\u001b[1;31m---------------------------------------------------------------------------\u001b[0m",
      "\u001b[1;31mKeyboardInterrupt\u001b[0m                         Traceback (most recent call last)",
      "Cell \u001b[1;32mIn[6], line 46\u001b[0m\n\u001b[0;32m     43\u001b[0m act \u001b[38;5;241m=\u001b[39m agt\u001b[38;5;241m.\u001b[39mselect_action(obs) \u001b[38;5;66;03m#obsにより，行動を決める　Qテーブルのそのマス目を用意して，たまにイプシロングリーディでランダム動作が起きる\u001b[39;00m\n\u001b[0;32m     44\u001b[0m \u001b[38;5;66;03m# print(\"Qtableは：\",str(obs),agt.Q[str(obs)])\u001b[39;00m\n\u001b[0;32m     45\u001b[0m \u001b[38;5;66;03m# print(env.wheel_ang_left)\u001b[39;00m\n\u001b[1;32m---> 46\u001b[0m rwd, done, next_obs \u001b[38;5;241m=\u001b[39m \u001b[43menv\u001b[49m\u001b[38;5;241;43m.\u001b[39;49m\u001b[43mstep\u001b[49m\u001b[43m(\u001b[49m\u001b[43mact\u001b[49m\u001b[43m)\u001b[49m\n\u001b[0;32m     47\u001b[0m \u001b[38;5;66;03m# env.viewer.render()\u001b[39;00m\n\u001b[0;32m     48\u001b[0m agt\u001b[38;5;241m.\u001b[39mlearn(obs, act, rwd, done, next_obs)\n",
      "Cell \u001b[1;32mIn[4], line 190\u001b[0m, in \u001b[0;36mMyEnv.step\u001b[1;34m(self, act_select)\u001b[0m\n\u001b[0;32m    187\u001b[0m         \u001b[38;5;28;01mreturn\u001b[39;00m rwd, whatdone, obs \u001b[38;5;66;03m#ぶつかったらアウト\u001b[39;00m\n\u001b[0;32m    189\u001b[0m     \u001b[38;5;66;03m# self.viewer.render()\u001b[39;00m\n\u001b[1;32m--> 190\u001b[0m     \u001b[38;5;28;43mself\u001b[39;49m\u001b[38;5;241;43m.\u001b[39;49m\u001b[43mviewer\u001b[49m\u001b[38;5;241;43m.\u001b[39;49m\u001b[43msync\u001b[49m\u001b[43m(\u001b[49m\u001b[43m)\u001b[49m \u001b[38;5;66;03m#mujoco描画起動viewer\u001b[39;00m\n\u001b[0;32m    191\u001b[0m          \u001b[38;5;66;03m# mj_stepで進めたシミュレーションを，描画に反映する　　物理状態の変更を反映する\u001b[39;00m\n\u001b[0;32m    192\u001b[0m \u001b[38;5;28mself\u001b[39m\u001b[38;5;241m.\u001b[39mwheel_ang_left \u001b[38;5;241m=\u001b[39m \u001b[38;5;28mself\u001b[39m\u001b[38;5;241m.\u001b[39mdata\u001b[38;5;241m.\u001b[39mqpos[\u001b[38;5;241m7\u001b[39m]\n",
      "File \u001b[1;32mc:\\Users\\atusi\\anaconda3\\envs\\colab_env\\lib\\site-packages\\mujoco\\viewer.py:117\u001b[0m, in \u001b[0;36mHandle.sync\u001b[1;34m(self)\u001b[0m\n\u001b[0;32m    115\u001b[0m sim \u001b[38;5;241m=\u001b[39m \u001b[38;5;28mself\u001b[39m\u001b[38;5;241m.\u001b[39m_sim()\n\u001b[0;32m    116\u001b[0m \u001b[38;5;28;01mif\u001b[39;00m sim \u001b[38;5;129;01mis\u001b[39;00m \u001b[38;5;129;01mnot\u001b[39;00m \u001b[38;5;28;01mNone\u001b[39;00m:\n\u001b[1;32m--> 117\u001b[0m   \u001b[43msim\u001b[49m\u001b[38;5;241;43m.\u001b[39;49m\u001b[43msync\u001b[49m\u001b[43m(\u001b[49m\u001b[43m)\u001b[49m\n",
      "\u001b[1;31mKeyboardInterrupt\u001b[0m: "
     ]
    }
   ],
   "source": [
    "from tqdm import trange\n",
    "import numpy as np\n",
    "import mujoco\n",
    "import mujoco.viewer\n",
    "import time\n",
    "import matplotlib.pyplot as plt\n",
    "# MAX_STEP = 50000\n",
    "NUM_EPISODE = 250000\n",
    "QTABLE_SAVE_MODE = True\n",
    "INCREMENTAL_LEARNING_MODE = True\n",
    "epi_reward_graph = []\n",
    "# timestep_count = []\n",
    "sumreward = 0\n",
    "stepsum = []\n",
    "\n",
    "\n",
    "env = MyEnv()\n",
    "agt = TableQAgt()\n",
    "\n",
    "if INCREMENTAL_LEARNING_MODE:\n",
    "        # 保存されたQテーブルを読み込む\n",
    "        with open('tuika_bunmawasi.pkl', 'rb') as f:\n",
    "            loaded_data = pickle.load(f)\n",
    "\n",
    "        # 読み込んだデータから必要な変数やリストを取り出す\n",
    "        agt.Q = loaded_data['agt.Q']\n",
    "        type(agt.Q)\n",
    "        agt.len_Q = loaded_data['agt.len_Q']\n",
    "        epi_reward_graph = loaded_data['epi_reward_graph']\n",
    "        stepsum = loaded_data['stepsum']\n",
    "        \n",
    "        print(\"agt.len_Q(Qテーブルの数は)\",type(agt.len_Q))\n",
    "        print(agt.len_Q)\n",
    "\n",
    "        print(\"Qtableを読み込みました．追加学習します\")\n",
    "\n",
    "# with mujoco.viewer.launch_passive(env.model,env.data) as viewer: #mujoco描画起動\n",
    "\n",
    "obs = env.reset() #エピソード初期の観測を取得\n",
    "for episode_num in trange(NUM_EPISODE):\n",
    "    for step_num in range (MAX_STEP):\n",
    "        # time.sleep(1)  # 1秒間停止\n",
    "        act = agt.select_action(obs) #obsにより，行動を決める　Qテーブルのそのマス目を用意して，たまにイプシロングリーディでランダム動作が起きる\n",
    "        # print(\"Qtableは：\",str(obs),agt.Q[str(obs)])\n",
    "        # print(env.wheel_ang_left)\n",
    "        rwd, done, next_obs = env.step(act)\n",
    "        # env.viewer.render()\n",
    "        agt.learn(obs, act, rwd, done, next_obs)\n",
    "        # time.sleep(2)\n",
    "        # print(agt.Q)\n",
    "        # print(obs)####################\n",
    "        obs = next_obs\n",
    "        sumreward += rwd\n",
    "        if done == True:\n",
    "            stepsum.append(env.stepcount)\n",
    "            obs = env.reset() #エピソード初期の観測を取得\n",
    "            break\n",
    "    epi_reward_graph.append(sumreward)\n",
    "    sumreward = 0\n",
    "\n",
    "    # print(episode_num % 10)\n",
    "    \n",
    "    \n",
    "    if episode_num % 2 == 1: #10エピソードごとにQテーブル保存\n",
    "        if QTABLE_SAVE_MODE:\n",
    "            # Qテーブルを保存する\n",
    "            # 保存したい変数やリストを辞書にまとめる\n",
    "            data_to_save = { #辞書でまとめてます\n",
    "                'agt.Q': agt.Q,\n",
    "                'agt.len_Q': agt.len_Q,\n",
    "                'epi_reward_graph': epi_reward_graph,\n",
    "                'stepsum': stepsum,\n",
    "                'episode_num': episode_num,\n",
    "                # 一応\n",
    "                # 'before_timestep_count': timestep_count,\n",
    "            }\n",
    "            with open('tuika_bunmawasi.pkl', 'wb') as f:\n",
    "                pickle.dump(data_to_save, f)\n",
    "            print(\"Qtable保存しました\")\n",
    "\n",
    "def generate_numbered_array(length):\n",
    "    return list(range(1, length+1))\n",
    "\n",
    "# 例: 長さ指定の配列を生成\n",
    "timestep_count = generate_numbered_array((episode_num+1))\n",
    "plt.xlabel(\"episode数\", fontname=\"MS Gothic\")\n",
    "plt.ylabel(\"reward\", fontname=\"MS Gothic\")\n",
    "plt.grid()\n",
    "plt.title(\"エピソードごとの報酬\", fontname=\"MS Gothic\")\n",
    "plt.plot(timestep_count, epi_reward_graph, linestyle='solid', label=\"reward\")\n",
    "plt.legend(prop={'family':'MS Gothic'})\n",
    "plt.show()\n",
    "plt.xlabel(\"episode数\", fontname=\"MS Gothic\")\n",
    "plt.ylabel(\"step数\", fontname=\"MS Gothic\")\n",
    "plt.grid()\n",
    "plt.title(\"エピソードごとの報酬\", fontname=\"MS Gothic\")\n",
    "plt.plot(timestep_count, stepsum, linestyle='solid', label=\"reward\")\n",
    "plt.legend(prop={'family':'MS Gothic'})\n",
    "plt.show()"
   ]
  },
  {
   "cell_type": "code",
   "execution_count": 10,
   "metadata": {},
   "outputs": [
    {
     "name": "stdout",
     "output_type": "stream",
     "text": [
      "Qtable保存しました\n"
     ]
    }
   ],
   "source": [
    "\n",
    "# Qテーブルを保存する\n",
    "# 保存したい変数やリストを辞書にまとめる\n",
    "data_to_save = { #辞書でまとめてます\n",
    "    'agt.Q': agt.Q,\n",
    "    'agt.len_Q': agt.len_Q,\n",
    "    'epi_reward_graph': epi_reward_graph,\n",
    "    'stepsum': stepsum,\n",
    "    'episode_num': episode_num,\n",
    "    # 一応\n",
    "    # 'before_timestep_count': timestep_count,\n",
    "}\n",
    "with open('tuika_bunmawasi.pkl', 'wb') as f:\n",
    "    pickle.dump(data_to_save, f)\n",
    "print(\"Qtable保存しました\")"
   ]
  },
  {
   "cell_type": "code",
   "execution_count": 8,
   "metadata": {},
   "outputs": [
    {
     "data": {
      "text/plain": [
       "{'0': [1.5951645509326364,\n",
       "  3.7530390072575432,\n",
       "  2.6473874735160043,\n",
       "  0.8322875946214842,\n",
       "  2.5644714110787676,\n",
       "  3.1485158639296875,\n",
       "  2.5973367603907977,\n",
       "  2.318995792537091,\n",
       "  5.931670754735961],\n",
       " '1001': [13.63779165894979,\n",
       "  4.584213103685313,\n",
       "  5.388757723551567,\n",
       "  7.7268039626571925,\n",
       "  6.197635695648571,\n",
       "  6.0153595825666955,\n",
       "  7.843715791786886,\n",
       "  7.702984437816716,\n",
       "  6.94883710785207],\n",
       " '1101': [2.2714807927299097,\n",
       "  0.9898681788870374,\n",
       "  9.8071423704031,\n",
       "  1.2511074626810794,\n",
       "  0.8109761176351808,\n",
       "  1.8265690157351608,\n",
       "  2.101914295382639,\n",
       "  0.9449504756345919,\n",
       "  4.494279666799914],\n",
       " '[9 9 9 9]': [0, 0, 0, 0, 0, 0, 0, 0, 0],\n",
       " '1011': [8.087811783568737,\n",
       "  11.892514287233157,\n",
       "  6.242054594800188,\n",
       "  7.7554141822006954,\n",
       "  6.828558816467581,\n",
       "  7.664157106880693,\n",
       "  5.564579559430021,\n",
       "  7.1968574725986425,\n",
       "  7.356128447423568],\n",
       " '1111': [7.66626755492487,\n",
       "  3.965091923492891,\n",
       "  5.034856046480403,\n",
       "  2.756535492458032,\n",
       "  3.2140011422666923,\n",
       "  3.989866195101211,\n",
       "  3.518109076929041,\n",
       "  3.6777002866638693,\n",
       "  3.670531245185481],\n",
       " '11': [1.9856301702305408,\n",
       "  3.900870984503171,\n",
       "  4.081486649698323,\n",
       "  2.378403789279413,\n",
       "  3.224994557742667,\n",
       "  3.47893415985134,\n",
       "  3.280663224369119,\n",
       "  9.475991587821888,\n",
       "  2.4712968721019815],\n",
       " '110': [1.7520170432519142,\n",
       "  5.86353710700493,\n",
       "  2.9720645545768862,\n",
       "  2.41372795095774,\n",
       "  2.444023816171853,\n",
       "  2.164272897200011,\n",
       "  2.4239272361280375,\n",
       "  2.4925580514055192,\n",
       "  2.4987669373894046],\n",
       " '10': [-1.3253669013302125,\n",
       "  2.120946444461941,\n",
       "  0.5314496494548727,\n",
       "  0.5485194026023112,\n",
       "  1.3849314948886589,\n",
       "  0.6644933639329005,\n",
       "  0.722335274353957,\n",
       "  0.28561623919918383,\n",
       "  0.6371236935200808],\n",
       " '1010': [0,\n",
       "  2.6852721918536084,\n",
       "  0,\n",
       "  1.0821090059407201,\n",
       "  -0.2201416256086818,\n",
       "  0.0,\n",
       "  2.0023240348596945,\n",
       "  0.7798918575891474,\n",
       "  1.341195184690386],\n",
       " '111': [2.668058165929738,\n",
       "  2.1978958039257788,\n",
       "  3.6812634242356923,\n",
       "  3.0263382517529034,\n",
       "  2.3042088052506853,\n",
       "  2.6826201533947773,\n",
       "  3.0027657799894256,\n",
       "  7.756500241517254,\n",
       "  3.0179624283625563],\n",
       " '1110': [0.8040137606849027,\n",
       "  5.171856048165753,\n",
       "  0.23260691932949668,\n",
       "  0.38180241374664725,\n",
       "  0.436130445511991,\n",
       "  0.5901092557936551,\n",
       "  0.4308239587165249,\n",
       "  0.36524200969802106,\n",
       "  0.6567027614781638],\n",
       " '1100': [0.9376262003787899,\n",
       "  0.6796382346097428,\n",
       "  0.5616012808344903,\n",
       "  1.3815094171974391,\n",
       "  1.3947558868765857,\n",
       "  4.846008309554371,\n",
       "  0.8258419496501326,\n",
       "  1.1147970641823375,\n",
       "  1.3137368686617914],\n",
       " '100': [0.8275302767440507,\n",
       "  1.9412724582247263,\n",
       "  0.9251633438899575,\n",
       "  1.933247952936224,\n",
       "  2.140299250404669,\n",
       "  1.9923359496665591,\n",
       "  3.102236527910121,\n",
       "  7.576540106421988,\n",
       "  2.7792781398864266],\n",
       " '1000': [0.3907681587667846,\n",
       "  3.761169150809416,\n",
       "  -0.014689688983796523,\n",
       "  0.39256780931659657,\n",
       "  1.0573084380958437,\n",
       "  0,\n",
       "  0,\n",
       "  1.1262903302713732,\n",
       "  0.20747265197910858],\n",
       " '1': [0,\n",
       "  0.6404676850265913,\n",
       "  3.5708349804285975,\n",
       "  0.38925327348381966,\n",
       "  0,\n",
       "  0.0,\n",
       "  0,\n",
       "  0,\n",
       "  0],\n",
       " '101': [0,\n",
       "  0.0,\n",
       "  0.2396471584872562,\n",
       "  0.37652835205209917,\n",
       "  0,\n",
       "  0,\n",
       "  0,\n",
       "  0.0,\n",
       "  4.505303740021203]}"
      ]
     },
     "execution_count": 8,
     "metadata": {},
     "output_type": "execute_result"
    }
   ],
   "source": [
    "agt.Q"
   ]
  },
  {
   "cell_type": "code",
   "execution_count": null,
   "metadata": {},
   "outputs": [
    {
     "name": "stdout",
     "output_type": "stream",
     "text": [
      "0000\n",
      "0001\n",
      "0002\n",
      "0003\n",
      "0010\n",
      "0011\n",
      "0012\n",
      "0013\n",
      "0020\n",
      "0021\n",
      "0022\n",
      "0023\n",
      "0030\n",
      "0031\n",
      "0032\n",
      "0033\n",
      "0100\n",
      "0101\n",
      "0102\n",
      "0103\n",
      "0110\n",
      "0111\n",
      "0112\n",
      "0113\n",
      "0120\n",
      "0121\n",
      "0122\n",
      "0123\n",
      "0130\n",
      "0131\n",
      "0132\n",
      "0133\n",
      "0200\n",
      "0201\n",
      "0202\n",
      "0203\n",
      "0210\n",
      "0211\n",
      "0212\n",
      "0213\n",
      "0220\n",
      "0221\n",
      "0222\n",
      "0223\n",
      "0230\n",
      "0231\n",
      "0232\n",
      "0233\n",
      "0300\n",
      "0301\n",
      "0302\n",
      "0303\n",
      "0310\n",
      "0311\n",
      "0312\n",
      "0313\n",
      "0320\n",
      "0321\n",
      "0322\n",
      "0323\n",
      "0330\n",
      "0331\n",
      "0332\n",
      "0333\n",
      "1000\n",
      "1001\n",
      "1002\n",
      "1003\n",
      "1010\n",
      "1011\n",
      "1012\n",
      "1013\n",
      "1020\n",
      "1021\n",
      "1022\n",
      "1023\n",
      "1030\n",
      "1031\n",
      "1032\n",
      "1033\n",
      "1100\n",
      "1101\n",
      "1102\n",
      "1103\n",
      "1110\n",
      "1111\n",
      "1112\n",
      "1113\n",
      "1120\n",
      "1121\n",
      "1122\n",
      "1123\n",
      "1130\n",
      "1131\n",
      "1132\n",
      "1133\n",
      "1200\n",
      "1201\n",
      "1202\n",
      "1203\n",
      "1210\n",
      "1211\n",
      "1212\n",
      "1213\n",
      "1220\n",
      "1221\n",
      "1222\n",
      "1223\n",
      "1230\n",
      "1231\n",
      "1232\n",
      "1233\n",
      "1300\n",
      "1301\n",
      "1302\n",
      "1303\n",
      "1310\n",
      "1311\n",
      "1312\n",
      "1313\n",
      "1320\n",
      "1321\n",
      "1322\n",
      "1323\n",
      "1330\n",
      "1331\n",
      "1332\n",
      "1333\n",
      "2000\n",
      "2001\n",
      "2002\n",
      "2003\n",
      "2010\n",
      "2011\n",
      "2012\n",
      "2013\n",
      "2020\n",
      "2021\n",
      "2022\n",
      "2023\n",
      "2030\n",
      "2031\n",
      "2032\n",
      "2033\n",
      "2100\n",
      "2101\n",
      "2102\n",
      "2103\n",
      "2110\n",
      "2111\n",
      "2112\n",
      "2113\n",
      "2120\n",
      "2121\n",
      "2122\n",
      "2123\n",
      "2130\n",
      "2131\n",
      "2132\n",
      "2133\n",
      "2200\n",
      "2201\n",
      "2202\n",
      "2203\n",
      "2210\n",
      "2211\n",
      "2212\n",
      "2213\n",
      "2220\n",
      "2221\n",
      "2222\n",
      "2223\n",
      "2230\n",
      "2231\n",
      "2232\n",
      "2233\n",
      "2300\n",
      "2301\n",
      "2302\n",
      "2303\n",
      "2310\n",
      "2311\n",
      "2312\n",
      "2313\n",
      "2320\n",
      "2321\n",
      "2322\n",
      "2323\n",
      "2330\n",
      "2331\n",
      "2332\n",
      "2333\n",
      "3000\n",
      "3001\n",
      "3002\n",
      "3003\n",
      "3010\n",
      "3011\n",
      "3012\n",
      "3013\n",
      "3020\n",
      "3021\n",
      "3022\n",
      "3023\n",
      "3030\n",
      "3031\n",
      "3032\n",
      "3033\n",
      "3100\n",
      "3101\n",
      "3102\n",
      "3103\n",
      "3110\n",
      "3111\n",
      "3112\n",
      "3113\n",
      "3120\n",
      "3121\n",
      "3122\n",
      "3123\n",
      "3130\n",
      "3131\n",
      "3132\n",
      "3133\n",
      "3200\n",
      "3201\n",
      "3202\n",
      "3203\n",
      "3210\n",
      "3211\n",
      "3212\n",
      "3213\n",
      "3220\n",
      "3221\n",
      "3222\n",
      "3223\n",
      "3230\n",
      "3231\n",
      "3232\n",
      "3233\n",
      "3300\n",
      "3301\n",
      "3302\n",
      "3303\n",
      "3310\n",
      "3311\n",
      "3312\n",
      "3313\n",
      "3320\n",
      "3321\n",
      "3322\n",
      "3323\n",
      "3330\n",
      "3331\n",
      "3332\n",
      "3333\n"
     ]
    }
   ],
   "source": [
    "def decimal_to_quaternary(decimal):\n",
    "    quaternary_number = \"\"\n",
    "    while decimal > 0:\n",
    "        remainder = decimal % 4\n",
    "        quaternary_number = str(remainder) + quaternary_number\n",
    "        decimal //= 4\n",
    "    return quaternary_number.zfill(4)\n",
    "\n",
    "def generate_quaternary_numbers():\n",
    "    for i in range(4 ** 4):\n",
    "        quaternary_number = decimal_to_quaternary(i)\n",
    "        print(quaternary_number)\n",
    "\n",
    "# プログラムの実行\n",
    "generate_quaternary_numbers()\n"
   ]
  },
  {
   "cell_type": "markdown",
   "metadata": {},
   "source": [
    "途中で学習止めた時用のグラフ出すコード"
   ]
  },
  {
   "cell_type": "code",
   "execution_count": null,
   "metadata": {},
   "outputs": [
    {
     "name": "stdout",
     "output_type": "stream",
     "text": [
      "0000\n",
      "0001\n",
      "0002\n",
      "0010\n",
      "0011\n",
      "0012\n",
      "0020\n",
      "0021\n",
      "0022\n",
      "0100\n",
      "0101\n",
      "0102\n",
      "0110\n",
      "0111\n",
      "0112\n",
      "0120\n",
      "0121\n",
      "0122\n",
      "0200\n",
      "0201\n",
      "0202\n",
      "0210\n",
      "0211\n",
      "0212\n",
      "0220\n",
      "0221\n",
      "0222\n",
      "1000\n",
      "1001\n",
      "1002\n",
      "1010\n",
      "1011\n",
      "1012\n",
      "1020\n",
      "1021\n",
      "1022\n",
      "1100\n",
      "1101\n",
      "1102\n",
      "1110\n",
      "1111\n",
      "1112\n",
      "1120\n",
      "1121\n",
      "1122\n",
      "1200\n",
      "1201\n",
      "1202\n",
      "1210\n",
      "1211\n",
      "1212\n",
      "1220\n",
      "1221\n",
      "1222\n",
      "2000\n",
      "2001\n",
      "2002\n",
      "2010\n",
      "2011\n",
      "2012\n",
      "2020\n",
      "2021\n",
      "2022\n",
      "2100\n",
      "2101\n",
      "2102\n",
      "2110\n",
      "2111\n",
      "2112\n",
      "2120\n",
      "2121\n",
      "2122\n",
      "2200\n",
      "2201\n",
      "2202\n",
      "2210\n",
      "2211\n",
      "2212\n",
      "2220\n",
      "2221\n",
      "2222\n"
     ]
    }
   ],
   "source": [
    "def decimal_to_ternary(decimal):\n",
    "    ternary_number = \"\"\n",
    "    while decimal > 0:\n",
    "        remainder = decimal % 3\n",
    "        ternary_number = str(remainder) + ternary_number\n",
    "        decimal //= 3\n",
    "    return ternary_number.zfill(4)\n",
    "\n",
    "def generate_ternary_numbers():\n",
    "    for i in range(3 ** 4):\n",
    "        ternary_number = decimal_to_ternary(i)\n",
    "        print(ternary_number)\n",
    "\n",
    "# プログラムの実行\n",
    "generate_ternary_numbers()\n"
   ]
  },
  {
   "cell_type": "code",
   "execution_count": null,
   "metadata": {},
   "outputs": [
    {
     "name": "stdout",
     "output_type": "stream",
     "text": [
      "0000\n",
      "0001\n",
      "0010\n",
      "0011\n",
      "0100\n",
      "0101\n",
      "0110\n",
      "0111\n",
      "1000\n",
      "1001\n",
      "1010\n",
      "1011\n",
      "1100\n",
      "1101\n",
      "1110\n",
      "1111\n"
     ]
    }
   ],
   "source": [
    "def decimal_to_binary(decimal):\n",
    "    binary_number = \"\"\n",
    "    while decimal > 0:\n",
    "        remainder = decimal % 2\n",
    "        binary_number = str(remainder) + binary_number\n",
    "        decimal //= 2\n",
    "    return binary_number.zfill(4)\n",
    "\n",
    "def generate_binary_numbers():\n",
    "    for i in range(2 ** 4):\n",
    "        binary_number = decimal_to_binary(i)\n",
    "        print(binary_number)\n",
    "\n",
    "# プログラムの実行\n",
    "generate_binary_numbers()\n"
   ]
  },
  {
   "cell_type": "code",
   "execution_count": 8,
   "metadata": {},
   "outputs": [
    {
     "name": "stdout",
     "output_type": "stream",
     "text": [
      "Qtable保存しました\n"
     ]
    }
   ],
   "source": [
    "# Qテーブルを保存する\n",
    "# 保存したい変数やリストを辞書にまとめる\n",
    "data_to_save = { #辞書でまとめてます\n",
    "    'agt.Q': agt.Q,\n",
    "    'agt.len_Q': agt.len_Q,\n",
    "    'before_epi_reward_graph': epi_reward_graph,\n",
    "    'before_epi_stepsum': stepsum,\n",
    "    'before_episode_num': episode_num,\n",
    "    # 一応\n",
    "    'before_timestep_count': timestep_count,\n",
    "}\n",
    "\n",
    "with open('zensinnomi_usiro_x3_test.pkl', 'wb') as f:\n",
    "    pickle.dump(data_to_save, f)\n",
    "print(\"Qtable保存しました\")"
   ]
  },
  {
   "cell_type": "code",
   "execution_count": 10,
   "metadata": {},
   "outputs": [
    {
     "name": "stdout",
     "output_type": "stream",
     "text": [
      "Qtable保存しました\n"
     ]
    }
   ],
   "source": [
    "# Qテーブルを保存する\n",
    "# 保存したい変数やリストを辞書にまとめる\n",
    "data_to_save = { #辞書でまとめてます\n",
    "    'agt.Q': agt.Q,\n",
    "    'agt.len_Q': agt.len_Q,\n",
    "    'epi_reward_graph': epi_reward_graph,\n",
    "    'stepsum': stepsum,\n",
    "    'before_episode_num': episode_num,\n",
    "    # 一応\n",
    "    'before_timestep_count': timestep_count,\n",
    "}\n",
    "\n",
    "with open('zensinnomi_usiro_x3_test_notbefore.pkl', 'wb') as f:\n",
    "    pickle.dump(data_to_save, f)\n",
    "print(\"Qtable保存しました\")"
   ]
  },
  {
   "cell_type": "code",
   "execution_count": 8,
   "metadata": {},
   "outputs": [
    {
     "name": "stdout",
     "output_type": "stream",
     "text": [
      "Qtableを読み込みました．今までの学習データを前に追加します\n"
     ]
    },
    {
     "data": {
      "image/png": "[encoded data removed]",
      "text/plain": [
       "<Figure size 640x480 with 1 Axes>"
      ]
     },
     "metadata": {},
     "output_type": "display_data"
    },
    {
     "data": {
      "image/png": "[encoded data removed]",
      "text/plain": [
       "<Figure size 640x480 with 1 Axes>"
      ]
     },
     "metadata": {},
     "output_type": "display_data"
    },
    {
     "data": {
      "image/png": "[encoded data removed]",
      "text/plain": [
       "<Figure size 640x480 with 1 Axes>"
      ]
     },
     "metadata": {},
     "output_type": "display_data"
    },
    {
     "data": {
      "image/png": "[encoded data removed]",
      "text/plain": [
       "<Figure size 640x480 with 1 Axes>"
      ]
     },
     "metadata": {},
     "output_type": "display_data"
    },
    {
     "data": {
      "image/png": "[encoded data removed]",
      "text/plain": [
       "<Figure size 640x480 with 1 Axes>"
      ]
     },
     "metadata": {},
     "output_type": "display_data"
    }
   ],
   "source": [
    "def generate_numbered_array(length):\n",
    "    return list(range(1, length))\n",
    "\n",
    "# 例: 長さ指定の配列を生成\n",
    "timestep_count = generate_numbered_array((episode_num+1))\n",
    "\n",
    "if INCREMENTAL_LEARNING_MODE:\n",
    "    # 保存されたQテーブルを読み込む\n",
    "    with open('zensinnomi_usiro_x3_atohagannbarudake.pkl', 'rb') as f:\n",
    "        loaded_data = pickle.load(f)\n",
    "    # 読み込んだデータから必要な変数やリストを取り出す\n",
    "    before_episode_num = loaded_data['before_episode_num']\n",
    "    print(\"Qtableを読み込みました．今までの学習データを前に追加します\")\n",
    "    \n",
    "    total_episode_num = episode_num + before_episode_num\n",
    "    total_episode_num = 2888\n",
    "    total_timestep_count = generate_numbered_array((total_episode_num+1))# +1?\n",
    "\n",
    "    # total_episode_num = before_episode_num + episode_num\n",
    "    timestep_count = total_timestep_count\n",
    "\n",
    "\n",
    "plt.xlabel(\"episode数\", fontname=\"MS Gothic\")\n",
    "plt.ylabel(\"reward\", fontname=\"MS Gothic\")\n",
    "plt.grid()\n",
    "plt.title(\"エピソードごとの報酬\", fontname=\"MS Gothic\")\n",
    "plt.plot(timestep_count, epi_reward_graph, linestyle='solid', label=\"reward\")\n",
    "plt.legend(prop={'family':'MS Gothic'})\n",
    "plt.show()\n",
    "\n",
    "plt.xlabel(\"episode数\", fontname=\"MS Gothic\")\n",
    "plt.ylabel(\"reward\", fontname=\"MS Gothic\")\n",
    "plt.grid()\n",
    "plt.title(\"エピソードごとの報酬\", fontname=\"MS Gothic\")\n",
    "\n",
    "# x軸の範囲を0から1200に設定\n",
    "# plt.xlim(0, 1200)\n",
    "\n",
    "# y軸の範囲を-50から100に設定\n",
    "# plt.ylim(-50, 100)\n",
    "\n",
    "plt.plot(timestep_count, epi_reward_graph, linestyle='solid', label=\"reward\")\n",
    "plt.legend(prop={'family':'MS Gothic'})\n",
    "plt.show()\n",
    "\n",
    "\n",
    "plt.xlabel(\"episode数\", fontname=\"MS Gothic\")\n",
    "plt.ylabel(\"step数\", fontname=\"MS Gothic\")\n",
    "plt.grid()\n",
    "plt.title(\"エピソードごとのstep数\", fontname=\"MS Gothic\")\n",
    "# x軸の範囲を0から1200に設定\n",
    "# plt.xlim(0, 1400)\n",
    "plt.plot(timestep_count, stepsum, linestyle='solid', label=\"step数\")\n",
    "plt.legend(prop={'family':'MS Gothic'})\n",
    "plt.show()\n",
    "\n",
    "\n",
    "# # Qテーブルを保存する\n",
    "# # 保存したい変数やリストを辞書にまとめる\n",
    "# data_to_save = { #辞書でまとめてます\n",
    "#     'agt.Q': agt.Q,\n",
    "#     'agt.len_Q': agt.len_Q,\n",
    "#     'before_epi_reward_graph': epi_reward_graph,\n",
    "#     'before_epi_stepsum': stepsum,\n",
    "#     'before_episode_num': episode_num,\n",
    "#     # 一応\n",
    "#     'before_timestep_count': timestep_count,\n",
    "# }\n",
    "\n",
    "# with open('zensinnomi_usiro_x3_test.pkl', 'wb') as f:\n",
    "#     pickle.dump(data_to_save, f)\n",
    "# print(\"Qtable保存しました\")\n",
    "\n",
    "# 移動平均を計算する関数\n",
    "def moving_average(data, window_size):\n",
    "    averages = []\n",
    "    for i in range(len(data) - window_size + 1):\n",
    "        window = data[i:i + window_size]\n",
    "        averages.append(sum(window) / window_size)\n",
    "    return averages\n",
    "\n",
    "# 移動平均を計算\n",
    "window_size = 100\n",
    "moving_avg = moving_average(epi_reward_graph, window_size)\n",
    "\n",
    "# 元のデータと移動平均をプロット\n",
    "plt.plot(epi_reward_graph, label='Original Data')\n",
    "plt.plot(range(window_size - 1, len(epi_reward_graph)), moving_avg, label='Moving Average', color='orange')\n",
    "plt.title(\"エピソードごとの報酬と移動平均(100ずつ)\", fontname=\"MS Gothic\")\n",
    "# plt.grid()\n",
    "# plt.legend(prop={'family':'MS Gothic'})\n",
    "# x軸の範囲を0から1200に設定\n",
    "# plt.xlim(0, 1400)\n",
    "\n",
    "# y軸の範囲を-50から100に設定\n",
    "# plt.ylim(-50, 40)\n",
    "plt.legend()\n",
    "plt.show()\n",
    "\n",
    "plt.plot(epi_reward_graph, label='Original Data')\n",
    "plt.plot(range(window_size - 1, len(epi_reward_graph)), moving_avg, label='Moving Average', color='orange')\n",
    "plt.title(\"エピソードごとの報酬と移動平均(100ずつ)\", fontname=\"MS Gothic\")\n",
    "# plt.grid()\n",
    "# plt.legend(prop={'family':'MS Gothic'})\n",
    "# x軸の範囲を0から1200に設定\n",
    "\n",
    "plt.legend()\n",
    "plt.show()\n",
    "\n"
   ]
  },
  {
   "cell_type": "code",
   "execution_count": 7,
   "metadata": {},
   "outputs": [
    {
     "data": {
      "image/png": "[encoded data removed]",
      "text/plain": [
       "<Figure size 640x480 with 1 Axes>"
      ]
     },
     "metadata": {},
     "output_type": "display_data"
    },
    {
     "data": {
      "image/png": "[encoded data removed]",
      "text/plain": [
       "<Figure size 640x480 with 1 Axes>"
      ]
     },
     "metadata": {},
     "output_type": "display_data"
    }
   ],
   "source": [
    "def generate_numbered_array(length):\n",
    "    return list(range(1, length))\n",
    "\n",
    "# 例: 長さ指定の配列を生成\n",
    "timestep_count = generate_numbered_array((episode_num+1))\n",
    "\n",
    "if INCREMENTAL_LEARNING_MODE:\n",
    "    # 保存されたQテーブルを読み込む\n",
    "    with open('zensinnomi_usiro_x3_test.pkl', 'rb') as f:\n",
    "        loaded_data = pickle.load(f)\n",
    "\n",
    "    # 読み込んだデータから必要な変数やリストを取り出す\n",
    "    agt.Q = loaded_data['agt.Q']\n",
    "    type(agt.Q)\n",
    "    agt.len_Q = loaded_data['agt.len_Q']\n",
    "    before_epi_reward_graph = loaded_data['before_epi_reward_graph']\n",
    "    before_stepsum = loaded_data['before_stepsum']\n",
    "    before_episode_num = loaded_data['before_episode_num']\n",
    "    print(\"agt.len_Q(Qテーブルの数は)\",type(agt.len_Q))\n",
    "    print(agt.len_Q)\n",
    "\n",
    "    print(\"Qtableを読み込みました．今までの学習データを前に追加します\")\n",
    "    \n",
    "    total_episode_num = len(episode_num) + len(before_episode_num)\n",
    "    total_timestep_count = generate_numbered_array((total_episode_num+1))# +1?\n",
    "    total_epi_reward_graph = before_epi_reward_graph + epi_reward_graph\n",
    "    total_stepsum = before_stepsum + stepsum\n",
    "\n",
    "    # total_episode_num = before_episode_num + episode_num\n",
    "\n",
    "    epi_reward_graph = total_epi_reward_graph\n",
    "    stepsum = total_stepsum\n",
    "    timestep_count = total_timestep_count\n",
    "\n",
    "\n",
    "plt.xlabel(\"episode数\", fontname=\"MS Gothic\")\n",
    "plt.ylabel(\"reward\", fontname=\"MS Gothic\")\n",
    "plt.grid()\n",
    "plt.title(\"エピソードごとの報酬\", fontname=\"MS Gothic\")\n",
    "plt.plot(timestep_count, epi_reward_graph, linestyle='solid', label=\"reward\")\n",
    "plt.legend(prop={'family':'MS Gothic'})\n",
    "plt.show()\n",
    "\n",
    "plt.xlabel(\"episode数\", fontname=\"MS Gothic\")\n",
    "plt.ylabel(\"step数\", fontname=\"MS Gothic\")\n",
    "plt.grid()\n",
    "plt.title(\"エピソードごとのstep数\", fontname=\"MS Gothic\")\n",
    "plt.plot(timestep_count, stepsum, linestyle='solid', label=\"step数\")\n",
    "plt.legend(prop={'family':'MS Gothic'})\n",
    "plt.show()\n",
    "\n",
    "\n",
    "# # Qテーブルを保存する\n",
    "# # 保存したい変数やリストを辞書にまとめる\n",
    "# data_to_save = { #辞書でまとめてます\n",
    "#     'agt.Q': agt.Q,\n",
    "#     'agt.len_Q': agt.len_Q,\n",
    "#     'before_epi_reward_graph': epi_reward_graph,\n",
    "#     'before_epi_stepsum': stepsum,\n",
    "#     'before_episode_num': episode_num,\n",
    "#     # 一応\n",
    "#     'before_timestep_count': timestep_count,\n",
    "# }\n",
    "\n",
    "# with open('zensinnomi_usiro_x3_test.pkl', 'wb') as f:\n",
    "#     pickle.dump(data_to_save, f)\n",
    "# print(\"Qtable保存しました\")\n"
   ]
  },
  {
   "cell_type": "code",
   "execution_count": null,
   "metadata": {},
   "outputs": [
    {
     "name": "stdout",
     "output_type": "stream",
     "text": [
      "\n",
      "Qtableは： 3232 [-0.0018317902756860383, -0.004220287971822212, -0.002526959236582997, -2.3073350184116115e-07]\n"
     ]
    }
   ],
   "source": [
    "print()\n",
    "print(\"Qtableは：\",str(obs),agt.Q[str(obs)])"
   ]
  },
  {
   "cell_type": "code",
   "execution_count": null,
   "metadata": {},
   "outputs": [
    {
     "name": "stdout",
     "output_type": "stream",
     "text": [
      "[ 9.99999060e-01  9.92104958e-24 -1.37118702e-03  4.89481227e-20]\n"
     ]
    }
   ],
   "source": [
    "print(env.data.xquat[1])"
   ]
  },
  {
   "cell_type": "code",
   "execution_count": null,
   "metadata": {},
   "outputs": [
    {
     "ename": "ValueError",
     "evalue": "x and y must have same first dimension, but have shapes (99,) and (100,)",
     "output_type": "error",
     "traceback": [
      "\u001b[1;31m---------------------------------------------------------------------------\u001b[0m",
      "\u001b[1;31mValueError\u001b[0m                                Traceback (most recent call last)",
      "\u001b[1;32mc:\\Users\\atusi\\OneDrive\\ドキュメント\\研究関連（修士）\\Github\\sibuya\\original_RL_mouse.ipynb セル 14\u001b[0m line \u001b[0;36m9\n\u001b[0;32m      <a href='vscode-notebook-cell:/c%3A/Users/atusi/OneDrive/%E3%83%89%E3%82%AD%E3%83%A5%E3%83%A1%E3%83%B3%E3%83%88/%E7%A0%94%E7%A9%B6%E9%96%A2%E9%80%A3%EF%BC%88%E4%BF%AE%E5%A3%AB%EF%BC%89/Github/sibuya/original_RL_mouse.ipynb#X16sZmlsZQ%3D%3D?line=6'>7</a>\u001b[0m plt\u001b[39m.\u001b[39mgrid()\n\u001b[0;32m      <a href='vscode-notebook-cell:/c%3A/Users/atusi/OneDrive/%E3%83%89%E3%82%AD%E3%83%A5%E3%83%A1%E3%83%B3%E3%83%88/%E7%A0%94%E7%A9%B6%E9%96%A2%E9%80%A3%EF%BC%88%E4%BF%AE%E5%A3%AB%EF%BC%89/Github/sibuya/original_RL_mouse.ipynb#X16sZmlsZQ%3D%3D?line=7'>8</a>\u001b[0m plt\u001b[39m.\u001b[39mtitle(\u001b[39m\"\u001b[39m\u001b[39m合計報酬推移\u001b[39m\u001b[39m\"\u001b[39m, fontname\u001b[39m=\u001b[39m\u001b[39m\"\u001b[39m\u001b[39mMS Gothic\u001b[39m\u001b[39m\"\u001b[39m)\n\u001b[1;32m----> <a href='vscode-notebook-cell:/c%3A/Users/atusi/OneDrive/%E3%83%89%E3%82%AD%E3%83%A5%E3%83%A1%E3%83%B3%E3%83%88/%E7%A0%94%E7%A9%B6%E9%96%A2%E9%80%A3%EF%BC%88%E4%BF%AE%E5%A3%AB%EF%BC%89/Github/sibuya/original_RL_mouse.ipynb#X16sZmlsZQ%3D%3D?line=8'>9</a>\u001b[0m plt\u001b[39m.\u001b[39;49mplot(timestep_count, epi_reward_graph, linestyle\u001b[39m=\u001b[39;49m\u001b[39m'\u001b[39;49m\u001b[39msolid\u001b[39;49m\u001b[39m'\u001b[39;49m, label\u001b[39m=\u001b[39;49m\u001b[39m\"\u001b[39;49m\u001b[39mreward\u001b[39;49m\u001b[39m\"\u001b[39;49m)\n\u001b[0;32m     <a href='vscode-notebook-cell:/c%3A/Users/atusi/OneDrive/%E3%83%89%E3%82%AD%E3%83%A5%E3%83%A1%E3%83%B3%E3%83%88/%E7%A0%94%E7%A9%B6%E9%96%A2%E9%80%A3%EF%BC%88%E4%BF%AE%E5%A3%AB%EF%BC%89/Github/sibuya/original_RL_mouse.ipynb#X16sZmlsZQ%3D%3D?line=9'>10</a>\u001b[0m plt\u001b[39m.\u001b[39mlegend(prop\u001b[39m=\u001b[39m{\u001b[39m'\u001b[39m\u001b[39mfamily\u001b[39m\u001b[39m'\u001b[39m:\u001b[39m'\u001b[39m\u001b[39mMS Gothic\u001b[39m\u001b[39m'\u001b[39m})\n\u001b[0;32m     <a href='vscode-notebook-cell:/c%3A/Users/atusi/OneDrive/%E3%83%89%E3%82%AD%E3%83%A5%E3%83%A1%E3%83%B3%E3%83%88/%E7%A0%94%E7%A9%B6%E9%96%A2%E9%80%A3%EF%BC%88%E4%BF%AE%E5%A3%AB%EF%BC%89/Github/sibuya/original_RL_mouse.ipynb#X16sZmlsZQ%3D%3D?line=10'>11</a>\u001b[0m plt\u001b[39m.\u001b[39mshow()\n",
      "File \u001b[1;32mc:\\Users\\atusi\\anaconda3\\envs\\colab_env\\lib\\site-packages\\matplotlib\\pyplot.py:2869\u001b[0m, in \u001b[0;36mplot\u001b[1;34m(scalex, scaley, data, *args, **kwargs)\u001b[0m\n\u001b[0;32m   2867\u001b[0m \u001b[39m@_copy_docstring_and_deprecators\u001b[39m(Axes\u001b[39m.\u001b[39mplot)\n\u001b[0;32m   2868\u001b[0m \u001b[39mdef\u001b[39;00m \u001b[39mplot\u001b[39m(\u001b[39m*\u001b[39margs, scalex\u001b[39m=\u001b[39m\u001b[39mTrue\u001b[39;00m, scaley\u001b[39m=\u001b[39m\u001b[39mTrue\u001b[39;00m, data\u001b[39m=\u001b[39m\u001b[39mNone\u001b[39;00m, \u001b[39m*\u001b[39m\u001b[39m*\u001b[39mkwargs):\n\u001b[1;32m-> 2869\u001b[0m     \u001b[39mreturn\u001b[39;00m gca()\u001b[39m.\u001b[39mplot(\n\u001b[0;32m   2870\u001b[0m         \u001b[39m*\u001b[39margs, scalex\u001b[39m=\u001b[39mscalex, scaley\u001b[39m=\u001b[39mscaley,\n\u001b[0;32m   2871\u001b[0m         \u001b[39m*\u001b[39m\u001b[39m*\u001b[39m({\u001b[39m\"\u001b[39m\u001b[39mdata\u001b[39m\u001b[39m\"\u001b[39m: data} \u001b[39mif\u001b[39;00m data \u001b[39mis\u001b[39;00m \u001b[39mnot\u001b[39;00m \u001b[39mNone\u001b[39;00m \u001b[39melse\u001b[39;00m {}), \u001b[39m*\u001b[39m\u001b[39m*\u001b[39mkwargs)\n",
      "File \u001b[1;32mc:\\Users\\atusi\\anaconda3\\envs\\colab_env\\lib\\site-packages\\matplotlib\\axes\\_axes.py:1688\u001b[0m, in \u001b[0;36mAxes.plot\u001b[1;34m(self, scalex, scaley, data, *args, **kwargs)\u001b[0m\n\u001b[0;32m   1445\u001b[0m \u001b[39m\u001b[39m\u001b[39m\"\"\"\u001b[39;00m\n\u001b[0;32m   1446\u001b[0m \u001b[39mPlot y versus x as lines and/or markers.\u001b[39;00m\n\u001b[0;32m   1447\u001b[0m \n\u001b[1;32m   (...)\u001b[0m\n\u001b[0;32m   1685\u001b[0m \u001b[39m(``'green'``) or hex strings (``'#008000'``).\u001b[39;00m\n\u001b[0;32m   1686\u001b[0m \u001b[39m\"\"\"\u001b[39;00m\n\u001b[0;32m   1687\u001b[0m kwargs \u001b[39m=\u001b[39m cbook\u001b[39m.\u001b[39mnormalize_kwargs(kwargs, mlines\u001b[39m.\u001b[39mLine2D)\n\u001b[1;32m-> 1688\u001b[0m lines \u001b[39m=\u001b[39m [\u001b[39m*\u001b[39m\u001b[39mself\u001b[39m\u001b[39m.\u001b[39m_get_lines(\u001b[39m*\u001b[39margs, data\u001b[39m=\u001b[39mdata, \u001b[39m*\u001b[39m\u001b[39m*\u001b[39mkwargs)]\n\u001b[0;32m   1689\u001b[0m \u001b[39mfor\u001b[39;00m line \u001b[39min\u001b[39;00m lines:\n\u001b[0;32m   1690\u001b[0m     \u001b[39mself\u001b[39m\u001b[39m.\u001b[39madd_line(line)\n",
      "File \u001b[1;32mc:\\Users\\atusi\\anaconda3\\envs\\colab_env\\lib\\site-packages\\matplotlib\\axes\\_base.py:311\u001b[0m, in \u001b[0;36m_process_plot_var_args.__call__\u001b[1;34m(self, data, *args, **kwargs)\u001b[0m\n\u001b[0;32m    309\u001b[0m     this \u001b[39m+\u001b[39m\u001b[39m=\u001b[39m args[\u001b[39m0\u001b[39m],\n\u001b[0;32m    310\u001b[0m     args \u001b[39m=\u001b[39m args[\u001b[39m1\u001b[39m:]\n\u001b[1;32m--> 311\u001b[0m \u001b[39myield from\u001b[39;00m \u001b[39mself\u001b[39;49m\u001b[39m.\u001b[39;49m_plot_args(\n\u001b[0;32m    312\u001b[0m     this, kwargs, ambiguous_fmt_datakey\u001b[39m=\u001b[39;49mambiguous_fmt_datakey)\n",
      "File \u001b[1;32mc:\\Users\\atusi\\anaconda3\\envs\\colab_env\\lib\\site-packages\\matplotlib\\axes\\_base.py:504\u001b[0m, in \u001b[0;36m_process_plot_var_args._plot_args\u001b[1;34m(self, tup, kwargs, return_kwargs, ambiguous_fmt_datakey)\u001b[0m\n\u001b[0;32m    501\u001b[0m     \u001b[39mself\u001b[39m\u001b[39m.\u001b[39maxes\u001b[39m.\u001b[39myaxis\u001b[39m.\u001b[39mupdate_units(y)\n\u001b[0;32m    503\u001b[0m \u001b[39mif\u001b[39;00m x\u001b[39m.\u001b[39mshape[\u001b[39m0\u001b[39m] \u001b[39m!=\u001b[39m y\u001b[39m.\u001b[39mshape[\u001b[39m0\u001b[39m]:\n\u001b[1;32m--> 504\u001b[0m     \u001b[39mraise\u001b[39;00m \u001b[39mValueError\u001b[39;00m(\u001b[39mf\u001b[39m\u001b[39m\"\u001b[39m\u001b[39mx and y must have same first dimension, but \u001b[39m\u001b[39m\"\u001b[39m\n\u001b[0;32m    505\u001b[0m                      \u001b[39mf\u001b[39m\u001b[39m\"\u001b[39m\u001b[39mhave shapes \u001b[39m\u001b[39m{\u001b[39;00mx\u001b[39m.\u001b[39mshape\u001b[39m}\u001b[39;00m\u001b[39m and \u001b[39m\u001b[39m{\u001b[39;00my\u001b[39m.\u001b[39mshape\u001b[39m}\u001b[39;00m\u001b[39m\"\u001b[39m)\n\u001b[0;32m    506\u001b[0m \u001b[39mif\u001b[39;00m x\u001b[39m.\u001b[39mndim \u001b[39m>\u001b[39m \u001b[39m2\u001b[39m \u001b[39mor\u001b[39;00m y\u001b[39m.\u001b[39mndim \u001b[39m>\u001b[39m \u001b[39m2\u001b[39m:\n\u001b[0;32m    507\u001b[0m     \u001b[39mraise\u001b[39;00m \u001b[39mValueError\u001b[39;00m(\u001b[39mf\u001b[39m\u001b[39m\"\u001b[39m\u001b[39mx and y can be no greater than 2D, but have \u001b[39m\u001b[39m\"\u001b[39m\n\u001b[0;32m    508\u001b[0m                      \u001b[39mf\u001b[39m\u001b[39m\"\u001b[39m\u001b[39mshapes \u001b[39m\u001b[39m{\u001b[39;00mx\u001b[39m.\u001b[39mshape\u001b[39m}\u001b[39;00m\u001b[39m and \u001b[39m\u001b[39m{\u001b[39;00my\u001b[39m.\u001b[39mshape\u001b[39m}\u001b[39;00m\u001b[39m\"\u001b[39m)\n",
      "\u001b[1;31mValueError\u001b[0m: x and y must have same first dimension, but have shapes (99,) and (100,)"
     ]
    },
    {
     "data": {
      "image/png": "[encoded data removed]",
      "text/plain": [
       "<Figure size 640x480 with 1 Axes>"
      ]
     },
     "metadata": {},
     "output_type": "display_data"
    }
   ],
   "source": [
    "# 例: 長さ指定の配列を生成\n",
    "def generate_numbered_array(length):\n",
    "    return list(range(1, length+0))\n",
    "timestep_count = generate_numbered_array((episode_num+1))\n",
    "plt.xlabel(\"時間t\", fontname=\"MS Gothic\")\n",
    "plt.ylabel(\"報酬\", fontname=\"MS Gothic\")\n",
    "plt.grid()\n",
    "plt.title(\"合計報酬推移\", fontname=\"MS Gothic\")\n",
    "plt.plot(timestep_count, epi_reward_graph, linestyle='solid', label=\"reward\")\n",
    "plt.legend(prop={'family':'MS Gothic'})\n",
    "plt.show()"
   ]
  },
  {
   "cell_type": "code",
   "execution_count": null,
   "metadata": {},
   "outputs": [
    {
     "name": "stdout",
     "output_type": "stream",
     "text": [
      "[[ 0.     0.     0.   ]\n",
      " [ 0.     0.     0.001]\n",
      " [ 0.04   0.03   0.001]\n",
      " [ 0.04  -0.03   0.001]\n",
      " [-0.04   0.03   0.001]\n",
      " [-0.04  -0.03   0.001]\n",
      " [-0.027  0.     0.001]\n",
      " [ 0.027  0.     0.001]\n",
      " [ 0.     0.     0.   ]\n",
      " [ 0.     0.     0.   ]\n",
      " [ 0.     0.     0.   ]\n",
      " [ 0.     0.     0.   ]\n",
      " [ 0.     0.     0.   ]\n",
      " [ 0.     0.     0.   ]\n",
      " [ 0.     0.     0.   ]\n",
      " [ 0.     0.     0.   ]]\n"
     ]
    }
   ],
   "source": [
    "print(env.model.geom_pos)"
   ]
  },
  {
   "cell_type": "code",
   "execution_count": null,
   "metadata": {},
   "outputs": [
    {
     "ename": "TypeError",
     "evalue": "digitize() takes from 2 to 3 positional arguments but 4 were given",
     "output_type": "error",
     "traceback": [
      "\u001b[1;31m---------------------------------------------------------------------------\u001b[0m",
      "\u001b[1;31mTypeError\u001b[0m                                 Traceback (most recent call last)",
      "\u001b[1;32mc:\\myprojects\\iRL\\main\\RL_mouse.ipynb セル 10\u001b[0m line \u001b[0;36m3\n\u001b[0;32m      <a href='vscode-notebook-cell:/c%3A/myprojects/iRL/main/RL_mouse.ipynb#X12sZmlsZQ%3D%3D?line=0'>1</a>\u001b[0m \u001b[39mimport\u001b[39;00m \u001b[39mnumpy\u001b[39;00m \u001b[39mas\u001b[39;00m \u001b[39mnp\u001b[39;00m\n\u001b[0;32m      <a href='vscode-notebook-cell:/c%3A/myprojects/iRL/main/RL_mouse.ipynb#X12sZmlsZQ%3D%3D?line=1'>2</a>\u001b[0m ob1 \u001b[39m=\u001b[39m \u001b[39m0.7\u001b[39m\n\u001b[1;32m----> <a href='vscode-notebook-cell:/c%3A/myprojects/iRL/main/RL_mouse.ipynb#X12sZmlsZQ%3D%3D?line=2'>3</a>\u001b[0m obs\u001b[39m=\u001b[39mnp\u001b[39m.\u001b[39;49mdigitize(ob1, \u001b[39m0.0\u001b[39;49m, \u001b[39m0.18\u001b[39;49m, \u001b[39m10\u001b[39;49m)\u001b[39m*\u001b[39m\u001b[39m1000\u001b[39m\n",
      "File \u001b[1;32m<__array_function__ internals>:198\u001b[0m, in \u001b[0;36mdigitize\u001b[1;34m(*args, **kwargs)\u001b[0m\n",
      "\u001b[1;31mTypeError\u001b[0m: digitize() takes from 2 to 3 positional arguments but 4 were given"
     ]
    }
   ],
   "source": [
    "import numpy as np\n",
    "ob1 = 0.7\n",
    "obs=np.digitize(ob1, 0.0, 0.18, 10)*1000"
   ]
  },
  {
   "cell_type": "markdown",
   "metadata": {},
   "source": []
  },
  {
   "cell_type": "code",
   "execution_count": null,
   "metadata": {},
   "outputs": [],
   "source": []
  },
  {
   "cell_type": "markdown",
   "metadata": {},
   "source": [
    "# agt_netQ"
   ]
  },
  {
   "cell_type": "code",
   "execution_count": null,
   "metadata": {},
   "outputs": [
    {
     "ename": "AttributeError",
     "evalue": "partially initialized module 'charset_normalizer' has no attribute 'md__mypyc' (most likely due to a circular import)",
     "output_type": "error",
     "traceback": [
      "\u001b[1;31m---------------------------------------------------------------------------\u001b[0m",
      "\u001b[1;31mModuleNotFoundError\u001b[0m                       Traceback (most recent call last)",
      "File \u001b[1;32mc:\\Users\\atusi\\anaconda3\\envs\\env_iRL\\lib\\site-packages\\requests\\compat.py:11\u001b[0m\n\u001b[0;32m     10\u001b[0m \u001b[39mtry\u001b[39;00m:\n\u001b[1;32m---> 11\u001b[0m     \u001b[39mimport\u001b[39;00m \u001b[39mchardet\u001b[39;00m\n\u001b[0;32m     12\u001b[0m \u001b[39mexcept\u001b[39;00m \u001b[39mImportError\u001b[39;00m:\n",
      "\u001b[1;31mModuleNotFoundError\u001b[0m: No module named 'chardet'",
      "\nDuring handling of the above exception, another exception occurred:\n",
      "\u001b[1;31mAttributeError\u001b[0m                            Traceback (most recent call last)",
      "\u001b[1;32mc:\\myprojects\\iRL\\main\\RL_mouse.ipynb セル 6\u001b[0m line \u001b[0;36m1\n\u001b[0;32m      <a href='vscode-notebook-cell:/c%3A/myprojects/iRL/main/RL_mouse.ipynb#W5sZmlsZQ%3D%3D?line=5'>6</a>\u001b[0m \u001b[39mimport\u001b[39;00m \u001b[39mos\u001b[39;00m\n\u001b[0;32m      <a href='vscode-notebook-cell:/c%3A/myprojects/iRL/main/RL_mouse.ipynb#W5sZmlsZQ%3D%3D?line=6'>7</a>\u001b[0m \u001b[39m# import torch\u001b[39;00m\n\u001b[0;32m      <a href='vscode-notebook-cell:/c%3A/myprojects/iRL/main/RL_mouse.ipynb#W5sZmlsZQ%3D%3D?line=7'>8</a>\u001b[0m \u001b[39m# from torch import nn\u001b[39;00m\n\u001b[0;32m      <a href='vscode-notebook-cell:/c%3A/myprojects/iRL/main/RL_mouse.ipynb#W5sZmlsZQ%3D%3D?line=8'>9</a>\u001b[0m \n\u001b[0;32m     <a href='vscode-notebook-cell:/c%3A/myprojects/iRL/main/RL_mouse.ipynb#W5sZmlsZQ%3D%3D?line=9'>10</a>\u001b[0m \u001b[39m# import torch.optim as optim\u001b[39;00m\n\u001b[0;32m     <a href='vscode-notebook-cell:/c%3A/myprojects/iRL/main/RL_mouse.ipynb#W5sZmlsZQ%3D%3D?line=10'>11</a>\u001b[0m \u001b[39m# from torch.utils.data import DataLoader\u001b[39;00m\n\u001b[0;32m     <a href='vscode-notebook-cell:/c%3A/myprojects/iRL/main/RL_mouse.ipynb#W5sZmlsZQ%3D%3D?line=11'>12</a>\u001b[0m \u001b[39m# from torchvision import datasets, transforms\u001b[39;00m\n\u001b[1;32m---> <a href='vscode-notebook-cell:/c%3A/myprojects/iRL/main/RL_mouse.ipynb#W5sZmlsZQ%3D%3D?line=12'>13</a>\u001b[0m \u001b[39mfrom\u001b[39;00m \u001b[39mtensorflow\u001b[39;00m\u001b[39m.\u001b[39;00m\u001b[39mkeras\u001b[39;00m\u001b[39m.\u001b[39;00m\u001b[39mmodels\u001b[39;00m \u001b[39mimport\u001b[39;00m Sequential\n\u001b[0;32m     <a href='vscode-notebook-cell:/c%3A/myprojects/iRL/main/RL_mouse.ipynb#W5sZmlsZQ%3D%3D?line=13'>14</a>\u001b[0m \u001b[39mfrom\u001b[39;00m \u001b[39mtensorflow\u001b[39;00m\u001b[39m.\u001b[39;00m\u001b[39mkeras\u001b[39;00m\u001b[39m.\u001b[39;00m\u001b[39mlayers\u001b[39;00m \u001b[39mimport\u001b[39;00m Dense, Flatten\n\u001b[0;32m     <a href='vscode-notebook-cell:/c%3A/myprojects/iRL/main/RL_mouse.ipynb#W5sZmlsZQ%3D%3D?line=18'>19</a>\u001b[0m \u001b[39mimport\u001b[39;00m \u001b[39mmujoco\u001b[39;00m\n",
      "File \u001b[1;32mc:\\Users\\atusi\\anaconda3\\envs\\env_iRL\\lib\\site-packages\\tensorflow\\__init__.py:51\u001b[0m\n\u001b[0;32m     49\u001b[0m \u001b[39mfrom\u001b[39;00m \u001b[39m.\u001b[39;00m\u001b[39m_api\u001b[39;00m\u001b[39m.\u001b[39;00m\u001b[39mv2\u001b[39;00m \u001b[39mimport\u001b[39;00m autograph\n\u001b[0;32m     50\u001b[0m \u001b[39mfrom\u001b[39;00m \u001b[39m.\u001b[39;00m\u001b[39m_api\u001b[39;00m\u001b[39m.\u001b[39;00m\u001b[39mv2\u001b[39;00m \u001b[39mimport\u001b[39;00m bitwise\n\u001b[1;32m---> 51\u001b[0m \u001b[39mfrom\u001b[39;00m \u001b[39m.\u001b[39;00m\u001b[39m_api\u001b[39;00m\u001b[39m.\u001b[39;00m\u001b[39mv2\u001b[39;00m \u001b[39mimport\u001b[39;00m compat\n\u001b[0;32m     52\u001b[0m \u001b[39mfrom\u001b[39;00m \u001b[39m.\u001b[39;00m\u001b[39m_api\u001b[39;00m\u001b[39m.\u001b[39;00m\u001b[39mv2\u001b[39;00m \u001b[39mimport\u001b[39;00m config\n\u001b[0;32m     53\u001b[0m \u001b[39mfrom\u001b[39;00m \u001b[39m.\u001b[39;00m\u001b[39m_api\u001b[39;00m\u001b[39m.\u001b[39;00m\u001b[39mv2\u001b[39;00m \u001b[39mimport\u001b[39;00m data\n",
      "File \u001b[1;32mc:\\Users\\atusi\\anaconda3\\envs\\env_iRL\\lib\\site-packages\\tensorflow\\_api\\v2\\compat\\__init__.py:37\u001b[0m\n\u001b[0;32m      3\u001b[0m \u001b[39m\"\"\"Compatibility functions.\u001b[39;00m\n\u001b[0;32m      4\u001b[0m \n\u001b[0;32m      5\u001b[0m \u001b[39mThe `tf.compat` module contains two sets of compatibility functions.\u001b[39;00m\n\u001b[1;32m   (...)\u001b[0m\n\u001b[0;32m     32\u001b[0m \n\u001b[0;32m     33\u001b[0m \u001b[39m\"\"\"\u001b[39;00m\n\u001b[0;32m     35\u001b[0m \u001b[39mimport\u001b[39;00m \u001b[39msys\u001b[39;00m \u001b[39mas\u001b[39;00m \u001b[39m_sys\u001b[39;00m\n\u001b[1;32m---> 37\u001b[0m \u001b[39mfrom\u001b[39;00m \u001b[39m.\u001b[39;00m \u001b[39mimport\u001b[39;00m v1\n\u001b[0;32m     38\u001b[0m \u001b[39mfrom\u001b[39;00m \u001b[39m.\u001b[39;00m \u001b[39mimport\u001b[39;00m v2\n\u001b[0;32m     39\u001b[0m \u001b[39mfrom\u001b[39;00m \u001b[39mtensorflow\u001b[39;00m\u001b[39m.\u001b[39;00m\u001b[39mpython\u001b[39;00m\u001b[39m.\u001b[39;00m\u001b[39mcompat\u001b[39;00m\u001b[39m.\u001b[39;00m\u001b[39mcompat\u001b[39;00m \u001b[39mimport\u001b[39;00m forward_compatibility_horizon\n",
      "File \u001b[1;32mc:\\Users\\atusi\\anaconda3\\envs\\env_iRL\\lib\\site-packages\\tensorflow\\_api\\v2\\compat\\v1\\__init__.py:30\u001b[0m\n\u001b[0;32m     28\u001b[0m \u001b[39mfrom\u001b[39;00m \u001b[39m.\u001b[39;00m \u001b[39mimport\u001b[39;00m autograph\n\u001b[0;32m     29\u001b[0m \u001b[39mfrom\u001b[39;00m \u001b[39m.\u001b[39;00m \u001b[39mimport\u001b[39;00m bitwise\n\u001b[1;32m---> 30\u001b[0m \u001b[39mfrom\u001b[39;00m \u001b[39m.\u001b[39;00m \u001b[39mimport\u001b[39;00m compat\n\u001b[0;32m     31\u001b[0m \u001b[39mfrom\u001b[39;00m \u001b[39m.\u001b[39;00m \u001b[39mimport\u001b[39;00m config\n\u001b[0;32m     32\u001b[0m \u001b[39mfrom\u001b[39;00m \u001b[39m.\u001b[39;00m \u001b[39mimport\u001b[39;00m data\n",
      "File \u001b[1;32mc:\\Users\\atusi\\anaconda3\\envs\\env_iRL\\lib\\site-packages\\tensorflow\\_api\\v2\\compat\\v1\\compat\\__init__.py:38\u001b[0m\n\u001b[0;32m     35\u001b[0m \u001b[39mimport\u001b[39;00m \u001b[39msys\u001b[39;00m \u001b[39mas\u001b[39;00m \u001b[39m_sys\u001b[39;00m\n\u001b[0;32m     37\u001b[0m \u001b[39mfrom\u001b[39;00m \u001b[39m.\u001b[39;00m \u001b[39mimport\u001b[39;00m v1\n\u001b[1;32m---> 38\u001b[0m \u001b[39mfrom\u001b[39;00m \u001b[39m.\u001b[39;00m \u001b[39mimport\u001b[39;00m v2\n\u001b[0;32m     39\u001b[0m \u001b[39mfrom\u001b[39;00m \u001b[39mtensorflow\u001b[39;00m\u001b[39m.\u001b[39;00m\u001b[39mpython\u001b[39;00m\u001b[39m.\u001b[39;00m\u001b[39mcompat\u001b[39;00m\u001b[39m.\u001b[39;00m\u001b[39mcompat\u001b[39;00m \u001b[39mimport\u001b[39;00m forward_compatibility_horizon\n\u001b[0;32m     40\u001b[0m \u001b[39mfrom\u001b[39;00m \u001b[39mtensorflow\u001b[39;00m\u001b[39m.\u001b[39;00m\u001b[39mpython\u001b[39;00m\u001b[39m.\u001b[39;00m\u001b[39mcompat\u001b[39;00m\u001b[39m.\u001b[39;00m\u001b[39mcompat\u001b[39;00m \u001b[39mimport\u001b[39;00m forward_compatible\n",
      "File \u001b[1;32mc:\\Users\\atusi\\anaconda3\\envs\\env_iRL\\lib\\site-packages\\tensorflow\\_api\\v2\\compat\\v1\\compat\\v2\\__init__.py:28\u001b[0m\n\u001b[0;32m     25\u001b[0m \u001b[39m# pylint: disable=g-bad-import-order\u001b[39;00m\n\u001b[0;32m     27\u001b[0m \u001b[39mfrom\u001b[39;00m \u001b[39m.\u001b[39;00m \u001b[39mimport\u001b[39;00m compat\n\u001b[1;32m---> 28\u001b[0m \u001b[39mfrom\u001b[39;00m \u001b[39mtensorflow\u001b[39;00m\u001b[39m.\u001b[39;00m\u001b[39m_api\u001b[39;00m\u001b[39m.\u001b[39;00m\u001b[39mv2\u001b[39;00m\u001b[39m.\u001b[39;00m\u001b[39mcompat\u001b[39;00m\u001b[39m.\u001b[39;00m\u001b[39mv2\u001b[39;00m \u001b[39mimport\u001b[39;00m __internal__\n\u001b[0;32m     29\u001b[0m \u001b[39mfrom\u001b[39;00m \u001b[39mtensorflow\u001b[39;00m\u001b[39m.\u001b[39;00m\u001b[39m_api\u001b[39;00m\u001b[39m.\u001b[39;00m\u001b[39mv2\u001b[39;00m\u001b[39m.\u001b[39;00m\u001b[39mcompat\u001b[39;00m\u001b[39m.\u001b[39;00m\u001b[39mv2\u001b[39;00m \u001b[39mimport\u001b[39;00m __operators__\n\u001b[0;32m     30\u001b[0m \u001b[39mfrom\u001b[39;00m \u001b[39mtensorflow\u001b[39;00m\u001b[39m.\u001b[39;00m\u001b[39m_api\u001b[39;00m\u001b[39m.\u001b[39;00m\u001b[39mv2\u001b[39;00m\u001b[39m.\u001b[39;00m\u001b[39mcompat\u001b[39;00m\u001b[39m.\u001b[39;00m\u001b[39mv2\u001b[39;00m \u001b[39mimport\u001b[39;00m audio\n",
      "File \u001b[1;32mc:\\Users\\atusi\\anaconda3\\envs\\env_iRL\\lib\\site-packages\\tensorflow\\_api\\v2\\compat\\v2\\__init__.py:33\u001b[0m\n\u001b[0;32m     31\u001b[0m \u001b[39mfrom\u001b[39;00m \u001b[39m.\u001b[39;00m \u001b[39mimport\u001b[39;00m autograph\n\u001b[0;32m     32\u001b[0m \u001b[39mfrom\u001b[39;00m \u001b[39m.\u001b[39;00m \u001b[39mimport\u001b[39;00m bitwise\n\u001b[1;32m---> 33\u001b[0m \u001b[39mfrom\u001b[39;00m \u001b[39m.\u001b[39;00m \u001b[39mimport\u001b[39;00m compat\n\u001b[0;32m     34\u001b[0m \u001b[39mfrom\u001b[39;00m \u001b[39m.\u001b[39;00m \u001b[39mimport\u001b[39;00m config\n\u001b[0;32m     35\u001b[0m \u001b[39mfrom\u001b[39;00m \u001b[39m.\u001b[39;00m \u001b[39mimport\u001b[39;00m data\n",
      "File \u001b[1;32mc:\\Users\\atusi\\anaconda3\\envs\\env_iRL\\lib\\site-packages\\tensorflow\\_api\\v2\\compat\\v2\\compat\\__init__.py:38\u001b[0m\n\u001b[0;32m     35\u001b[0m \u001b[39mimport\u001b[39;00m \u001b[39msys\u001b[39;00m \u001b[39mas\u001b[39;00m \u001b[39m_sys\u001b[39;00m\n\u001b[0;32m     37\u001b[0m \u001b[39mfrom\u001b[39;00m \u001b[39m.\u001b[39;00m \u001b[39mimport\u001b[39;00m v1\n\u001b[1;32m---> 38\u001b[0m \u001b[39mfrom\u001b[39;00m \u001b[39m.\u001b[39;00m \u001b[39mimport\u001b[39;00m v2\n\u001b[0;32m     39\u001b[0m \u001b[39mfrom\u001b[39;00m \u001b[39mtensorflow\u001b[39;00m\u001b[39m.\u001b[39;00m\u001b[39mpython\u001b[39;00m\u001b[39m.\u001b[39;00m\u001b[39mcompat\u001b[39;00m\u001b[39m.\u001b[39;00m\u001b[39mcompat\u001b[39;00m \u001b[39mimport\u001b[39;00m forward_compatibility_horizon\n\u001b[0;32m     40\u001b[0m \u001b[39mfrom\u001b[39;00m \u001b[39mtensorflow\u001b[39;00m\u001b[39m.\u001b[39;00m\u001b[39mpython\u001b[39;00m\u001b[39m.\u001b[39;00m\u001b[39mcompat\u001b[39;00m\u001b[39m.\u001b[39;00m\u001b[39mcompat\u001b[39;00m \u001b[39mimport\u001b[39;00m forward_compatible\n",
      "File \u001b[1;32mc:\\Users\\atusi\\anaconda3\\envs\\env_iRL\\lib\\site-packages\\tensorflow\\_api\\v2\\compat\\v2\\compat\\v2\\__init__.py:37\u001b[0m\n\u001b[0;32m     35\u001b[0m \u001b[39mfrom\u001b[39;00m \u001b[39mtensorflow\u001b[39;00m\u001b[39m.\u001b[39;00m\u001b[39m_api\u001b[39;00m\u001b[39m.\u001b[39;00m\u001b[39mv2\u001b[39;00m\u001b[39m.\u001b[39;00m\u001b[39mcompat\u001b[39;00m\u001b[39m.\u001b[39;00m\u001b[39mv2\u001b[39;00m \u001b[39mimport\u001b[39;00m data\n\u001b[0;32m     36\u001b[0m \u001b[39mfrom\u001b[39;00m \u001b[39mtensorflow\u001b[39;00m\u001b[39m.\u001b[39;00m\u001b[39m_api\u001b[39;00m\u001b[39m.\u001b[39;00m\u001b[39mv2\u001b[39;00m\u001b[39m.\u001b[39;00m\u001b[39mcompat\u001b[39;00m\u001b[39m.\u001b[39;00m\u001b[39mv2\u001b[39;00m \u001b[39mimport\u001b[39;00m debugging\n\u001b[1;32m---> 37\u001b[0m \u001b[39mfrom\u001b[39;00m \u001b[39mtensorflow\u001b[39;00m\u001b[39m.\u001b[39;00m\u001b[39m_api\u001b[39;00m\u001b[39m.\u001b[39;00m\u001b[39mv2\u001b[39;00m\u001b[39m.\u001b[39;00m\u001b[39mcompat\u001b[39;00m\u001b[39m.\u001b[39;00m\u001b[39mv2\u001b[39;00m \u001b[39mimport\u001b[39;00m distribute\n\u001b[0;32m     38\u001b[0m \u001b[39mfrom\u001b[39;00m \u001b[39mtensorflow\u001b[39;00m\u001b[39m.\u001b[39;00m\u001b[39m_api\u001b[39;00m\u001b[39m.\u001b[39;00m\u001b[39mv2\u001b[39;00m\u001b[39m.\u001b[39;00m\u001b[39mcompat\u001b[39;00m\u001b[39m.\u001b[39;00m\u001b[39mv2\u001b[39;00m \u001b[39mimport\u001b[39;00m dtypes\n\u001b[0;32m     39\u001b[0m \u001b[39mfrom\u001b[39;00m \u001b[39mtensorflow\u001b[39;00m\u001b[39m.\u001b[39;00m\u001b[39m_api\u001b[39;00m\u001b[39m.\u001b[39;00m\u001b[39mv2\u001b[39;00m\u001b[39m.\u001b[39;00m\u001b[39mcompat\u001b[39;00m\u001b[39m.\u001b[39;00m\u001b[39mv2\u001b[39;00m \u001b[39mimport\u001b[39;00m errors\n",
      "File \u001b[1;32mc:\\Users\\atusi\\anaconda3\\envs\\env_iRL\\lib\\site-packages\\tensorflow\\_api\\v2\\compat\\v2\\distribute\\__init__.py:182\u001b[0m\n\u001b[0;32m    180\u001b[0m \u001b[39mfrom\u001b[39;00m \u001b[39m.\u001b[39;00m \u001b[39mimport\u001b[39;00m cluster_resolver\n\u001b[0;32m    181\u001b[0m \u001b[39mfrom\u001b[39;00m \u001b[39m.\u001b[39;00m \u001b[39mimport\u001b[39;00m coordinator\n\u001b[1;32m--> 182\u001b[0m \u001b[39mfrom\u001b[39;00m \u001b[39m.\u001b[39;00m \u001b[39mimport\u001b[39;00m experimental\n\u001b[0;32m    183\u001b[0m \u001b[39mfrom\u001b[39;00m \u001b[39mtensorflow\u001b[39;00m\u001b[39m.\u001b[39;00m\u001b[39mpython\u001b[39;00m\u001b[39m.\u001b[39;00m\u001b[39mdistribute\u001b[39;00m\u001b[39m.\u001b[39;00m\u001b[39mcollective_all_reduce_strategy\u001b[39;00m \u001b[39mimport\u001b[39;00m CollectiveAllReduceStrategy \u001b[39mas\u001b[39;00m MultiWorkerMirroredStrategy\n\u001b[0;32m    184\u001b[0m \u001b[39mfrom\u001b[39;00m \u001b[39mtensorflow\u001b[39;00m\u001b[39m.\u001b[39;00m\u001b[39mpython\u001b[39;00m\u001b[39m.\u001b[39;00m\u001b[39mdistribute\u001b[39;00m\u001b[39m.\u001b[39;00m\u001b[39mcross_device_ops\u001b[39;00m \u001b[39mimport\u001b[39;00m CrossDeviceOps\n",
      "File \u001b[1;32mc:\\Users\\atusi\\anaconda3\\envs\\env_iRL\\lib\\site-packages\\tensorflow\\_api\\v2\\compat\\v2\\distribute\\experimental\\__init__.py:10\u001b[0m\n\u001b[0;32m      8\u001b[0m \u001b[39mfrom\u001b[39;00m \u001b[39m.\u001b[39;00m \u001b[39mimport\u001b[39;00m coordinator\n\u001b[0;32m      9\u001b[0m \u001b[39mfrom\u001b[39;00m \u001b[39m.\u001b[39;00m \u001b[39mimport\u001b[39;00m partitioners\n\u001b[1;32m---> 10\u001b[0m \u001b[39mfrom\u001b[39;00m \u001b[39m.\u001b[39;00m \u001b[39mimport\u001b[39;00m rpc\n\u001b[0;32m     11\u001b[0m \u001b[39mfrom\u001b[39;00m \u001b[39mtensorflow\u001b[39;00m\u001b[39m.\u001b[39;00m\u001b[39mpython\u001b[39;00m\u001b[39m.\u001b[39;00m\u001b[39mdistribute\u001b[39;00m\u001b[39m.\u001b[39;00m\u001b[39mcentral_storage_strategy\u001b[39;00m \u001b[39mimport\u001b[39;00m CentralStorageStrategy\n\u001b[0;32m     12\u001b[0m \u001b[39mfrom\u001b[39;00m \u001b[39mtensorflow\u001b[39;00m\u001b[39m.\u001b[39;00m\u001b[39mpython\u001b[39;00m\u001b[39m.\u001b[39;00m\u001b[39mdistribute\u001b[39;00m\u001b[39m.\u001b[39;00m\u001b[39mcollective_all_reduce_strategy\u001b[39;00m \u001b[39mimport\u001b[39;00m _CollectiveAllReduceStrategyExperimental \u001b[39mas\u001b[39;00m MultiWorkerMirroredStrategy\n",
      "File \u001b[1;32mc:\\Users\\atusi\\anaconda3\\envs\\env_iRL\\lib\\site-packages\\tensorflow\\_api\\v2\\compat\\v2\\distribute\\experimental\\rpc\\__init__.py:8\u001b[0m\n\u001b[0;32m      3\u001b[0m \u001b[39m\"\"\"Public API for tf.distribute.experimental.rpc namespace.\u001b[39;00m\n\u001b[0;32m      4\u001b[0m \u001b[39m\"\"\"\u001b[39;00m\n\u001b[0;32m      6\u001b[0m \u001b[39mimport\u001b[39;00m \u001b[39msys\u001b[39;00m \u001b[39mas\u001b[39;00m \u001b[39m_sys\u001b[39;00m\n\u001b[1;32m----> 8\u001b[0m \u001b[39mfrom\u001b[39;00m \u001b[39mtensorflow\u001b[39;00m\u001b[39m.\u001b[39;00m\u001b[39mpython\u001b[39;00m\u001b[39m.\u001b[39;00m\u001b[39mdistribute\u001b[39;00m\u001b[39m.\u001b[39;00m\u001b[39mexperimental\u001b[39;00m\u001b[39m.\u001b[39;00m\u001b[39mrpc\u001b[39;00m\u001b[39m.\u001b[39;00m\u001b[39mrpc_ops\u001b[39;00m \u001b[39mimport\u001b[39;00m Client\n\u001b[0;32m      9\u001b[0m \u001b[39mfrom\u001b[39;00m \u001b[39mtensorflow\u001b[39;00m\u001b[39m.\u001b[39;00m\u001b[39mpython\u001b[39;00m\u001b[39m.\u001b[39;00m\u001b[39mdistribute\u001b[39;00m\u001b[39m.\u001b[39;00m\u001b[39mexperimental\u001b[39;00m\u001b[39m.\u001b[39;00m\u001b[39mrpc\u001b[39;00m\u001b[39m.\u001b[39;00m\u001b[39mrpc_ops\u001b[39;00m \u001b[39mimport\u001b[39;00m Server\n",
      "File \u001b[1;32mc:\\Users\\atusi\\anaconda3\\envs\\env_iRL\\lib\\site-packages\\tensorflow\\python\\distribute\\experimental\\__init__.py:22\u001b[0m\n\u001b[0;32m     20\u001b[0m \u001b[39mfrom\u001b[39;00m \u001b[39mtensorflow\u001b[39;00m\u001b[39m.\u001b[39;00m\u001b[39mpython\u001b[39;00m\u001b[39m.\u001b[39;00m\u001b[39mdistribute\u001b[39;00m \u001b[39mimport\u001b[39;00m parameter_server_strategy\n\u001b[0;32m     21\u001b[0m \u001b[39mfrom\u001b[39;00m \u001b[39mtensorflow\u001b[39;00m\u001b[39m.\u001b[39;00m\u001b[39mpython\u001b[39;00m\u001b[39m.\u001b[39;00m\u001b[39mdistribute\u001b[39;00m \u001b[39mimport\u001b[39;00m tpu_strategy\n\u001b[1;32m---> 22\u001b[0m \u001b[39mfrom\u001b[39;00m \u001b[39mtensorflow\u001b[39;00m\u001b[39m.\u001b[39;00m\u001b[39mpython\u001b[39;00m\u001b[39m.\u001b[39;00m\u001b[39mdistribute\u001b[39;00m\u001b[39m.\u001b[39;00m\u001b[39mfailure_handling\u001b[39;00m \u001b[39mimport\u001b[39;00m failure_handling\n\u001b[0;32m     23\u001b[0m \u001b[39m# pylint: enable=unused-import\u001b[39;00m\n",
      "File \u001b[1;32mc:\\Users\\atusi\\anaconda3\\envs\\env_iRL\\lib\\site-packages\\tensorflow\\python\\distribute\\failure_handling\\failure_handling.py:33\u001b[0m\n\u001b[0;32m     31\u001b[0m \u001b[39mfrom\u001b[39;00m \u001b[39mtensorflow\u001b[39;00m\u001b[39m.\u001b[39;00m\u001b[39mpython\u001b[39;00m\u001b[39m.\u001b[39;00m\u001b[39mcheckpoint\u001b[39;00m \u001b[39mimport\u001b[39;00m checkpoint_management\n\u001b[0;32m     32\u001b[0m \u001b[39mfrom\u001b[39;00m \u001b[39mtensorflow\u001b[39;00m\u001b[39m.\u001b[39;00m\u001b[39mpython\u001b[39;00m\u001b[39m.\u001b[39;00m\u001b[39mdistribute\u001b[39;00m \u001b[39mimport\u001b[39;00m multi_worker_util\n\u001b[1;32m---> 33\u001b[0m \u001b[39mfrom\u001b[39;00m \u001b[39mtensorflow\u001b[39;00m\u001b[39m.\u001b[39;00m\u001b[39mpython\u001b[39;00m\u001b[39m.\u001b[39;00m\u001b[39mdistribute\u001b[39;00m\u001b[39m.\u001b[39;00m\u001b[39mfailure_handling\u001b[39;00m \u001b[39mimport\u001b[39;00m gce_util\n\u001b[0;32m     34\u001b[0m \u001b[39mfrom\u001b[39;00m \u001b[39mtensorflow\u001b[39;00m\u001b[39m.\u001b[39;00m\u001b[39mpython\u001b[39;00m\u001b[39m.\u001b[39;00m\u001b[39meager\u001b[39;00m \u001b[39mimport\u001b[39;00m context\n\u001b[0;32m     35\u001b[0m \u001b[39mfrom\u001b[39;00m \u001b[39mtensorflow\u001b[39;00m\u001b[39m.\u001b[39;00m\u001b[39mpython\u001b[39;00m\u001b[39m.\u001b[39;00m\u001b[39mframework\u001b[39;00m \u001b[39mimport\u001b[39;00m constant_op\n",
      "File \u001b[1;32mc:\\Users\\atusi\\anaconda3\\envs\\env_iRL\\lib\\site-packages\\tensorflow\\python\\distribute\\failure_handling\\gce_util.py:20\u001b[0m\n\u001b[0;32m     17\u001b[0m \u001b[39mimport\u001b[39;00m \u001b[39mos\u001b[39;00m\n\u001b[0;32m     18\u001b[0m \u001b[39mimport\u001b[39;00m \u001b[39msys\u001b[39;00m\n\u001b[1;32m---> 20\u001b[0m \u001b[39mimport\u001b[39;00m \u001b[39mrequests\u001b[39;00m\n\u001b[0;32m     22\u001b[0m \u001b[39mfrom\u001b[39;00m \u001b[39msix\u001b[39;00m\u001b[39m.\u001b[39;00m\u001b[39mmoves\u001b[39;00m\u001b[39m.\u001b[39;00m\u001b[39murllib\u001b[39;00m \u001b[39mimport\u001b[39;00m request\n\u001b[0;32m     23\u001b[0m \u001b[39mfrom\u001b[39;00m \u001b[39mtensorflow\u001b[39;00m\u001b[39m.\u001b[39;00m\u001b[39mpython\u001b[39;00m\u001b[39m.\u001b[39;00m\u001b[39meager\u001b[39;00m \u001b[39mimport\u001b[39;00m context\n",
      "File \u001b[1;32mc:\\Users\\atusi\\anaconda3\\envs\\env_iRL\\lib\\site-packages\\requests\\__init__.py:45\u001b[0m\n\u001b[0;32m     41\u001b[0m \u001b[39mimport\u001b[39;00m \u001b[39mwarnings\u001b[39;00m\n\u001b[0;32m     43\u001b[0m \u001b[39mimport\u001b[39;00m \u001b[39murllib3\u001b[39;00m\n\u001b[1;32m---> 45\u001b[0m \u001b[39mfrom\u001b[39;00m \u001b[39m.\u001b[39;00m\u001b[39mexceptions\u001b[39;00m \u001b[39mimport\u001b[39;00m RequestsDependencyWarning\n\u001b[0;32m     47\u001b[0m \u001b[39mtry\u001b[39;00m:\n\u001b[0;32m     48\u001b[0m     \u001b[39mfrom\u001b[39;00m \u001b[39mcharset_normalizer\u001b[39;00m \u001b[39mimport\u001b[39;00m __version__ \u001b[39mas\u001b[39;00m charset_normalizer_version\n",
      "File \u001b[1;32mc:\\Users\\atusi\\anaconda3\\envs\\env_iRL\\lib\\site-packages\\requests\\exceptions.py:9\u001b[0m\n\u001b[0;32m      1\u001b[0m \u001b[39m\"\"\"\u001b[39;00m\n\u001b[0;32m      2\u001b[0m \u001b[39mrequests.exceptions\u001b[39;00m\n\u001b[0;32m      3\u001b[0m \u001b[39m~~~~~~~~~~~~~~~~~~~\u001b[39;00m\n\u001b[0;32m      4\u001b[0m \n\u001b[0;32m      5\u001b[0m \u001b[39mThis module contains the set of Requests' exceptions.\u001b[39;00m\n\u001b[0;32m      6\u001b[0m \u001b[39m\"\"\"\u001b[39;00m\n\u001b[0;32m      7\u001b[0m \u001b[39mfrom\u001b[39;00m \u001b[39murllib3\u001b[39;00m\u001b[39m.\u001b[39;00m\u001b[39mexceptions\u001b[39;00m \u001b[39mimport\u001b[39;00m HTTPError \u001b[39mas\u001b[39;00m BaseHTTPError\n\u001b[1;32m----> 9\u001b[0m \u001b[39mfrom\u001b[39;00m \u001b[39m.\u001b[39;00m\u001b[39mcompat\u001b[39;00m \u001b[39mimport\u001b[39;00m JSONDecodeError \u001b[39mas\u001b[39;00m CompatJSONDecodeError\n\u001b[0;32m     12\u001b[0m \u001b[39mclass\u001b[39;00m \u001b[39mRequestException\u001b[39;00m(\u001b[39mIOError\u001b[39;00m):\n\u001b[0;32m     13\u001b[0m \u001b[39m    \u001b[39m\u001b[39m\"\"\"There was an ambiguous exception that occurred while handling your\u001b[39;00m\n\u001b[0;32m     14\u001b[0m \u001b[39m    request.\u001b[39;00m\n\u001b[0;32m     15\u001b[0m \u001b[39m    \"\"\"\u001b[39;00m\n",
      "File \u001b[1;32mc:\\Users\\atusi\\anaconda3\\envs\\env_iRL\\lib\\site-packages\\requests\\compat.py:13\u001b[0m\n\u001b[0;32m     11\u001b[0m     \u001b[39mimport\u001b[39;00m \u001b[39mchardet\u001b[39;00m\n\u001b[0;32m     12\u001b[0m \u001b[39mexcept\u001b[39;00m \u001b[39mImportError\u001b[39;00m:\n\u001b[1;32m---> 13\u001b[0m     \u001b[39mimport\u001b[39;00m \u001b[39mcharset_normalizer\u001b[39;00m \u001b[39mas\u001b[39;00m \u001b[39mchardet\u001b[39;00m\n\u001b[0;32m     15\u001b[0m \u001b[39mimport\u001b[39;00m \u001b[39msys\u001b[39;00m\n\u001b[0;32m     17\u001b[0m \u001b[39m# -------\u001b[39;00m\n\u001b[0;32m     18\u001b[0m \u001b[39m# Pythons\u001b[39;00m\n\u001b[0;32m     19\u001b[0m \u001b[39m# -------\u001b[39;00m\n\u001b[0;32m     20\u001b[0m \n\u001b[0;32m     21\u001b[0m \u001b[39m# Syntax sugar.\u001b[39;00m\n",
      "File \u001b[1;32mc:\\Users\\atusi\\anaconda3\\envs\\env_iRL\\lib\\site-packages\\charset_normalizer\\__init__.py:23\u001b[0m\n\u001b[0;32m      1\u001b[0m \u001b[39m\"\"\"\u001b[39;00m\n\u001b[0;32m      2\u001b[0m \u001b[39mCharset-Normalizer\u001b[39;00m\n\u001b[0;32m      3\u001b[0m \u001b[39m~~~~~~~~~~~~~~\u001b[39;00m\n\u001b[1;32m   (...)\u001b[0m\n\u001b[0;32m     21\u001b[0m \u001b[39m:license: MIT, see LICENSE for more details.\u001b[39;00m\n\u001b[0;32m     22\u001b[0m \u001b[39m\"\"\"\u001b[39;00m\n\u001b[1;32m---> 23\u001b[0m \u001b[39mfrom\u001b[39;00m \u001b[39mcharset_normalizer\u001b[39;00m\u001b[39m.\u001b[39;00m\u001b[39mapi\u001b[39;00m \u001b[39mimport\u001b[39;00m from_fp, from_path, from_bytes, normalize\n\u001b[0;32m     24\u001b[0m \u001b[39mfrom\u001b[39;00m \u001b[39mcharset_normalizer\u001b[39;00m\u001b[39m.\u001b[39;00m\u001b[39mlegacy\u001b[39;00m \u001b[39mimport\u001b[39;00m detect\n\u001b[0;32m     25\u001b[0m \u001b[39mfrom\u001b[39;00m \u001b[39mcharset_normalizer\u001b[39;00m\u001b[39m.\u001b[39;00m\u001b[39mversion\u001b[39;00m \u001b[39mimport\u001b[39;00m __version__, VERSION\n",
      "File \u001b[1;32mc:\\Users\\atusi\\anaconda3\\envs\\env_iRL\\lib\\site-packages\\charset_normalizer\\api.py:10\u001b[0m\n\u001b[0;32m      7\u001b[0m     PathLike \u001b[39m=\u001b[39m Union[\u001b[39mstr\u001b[39m, \u001b[39m'\u001b[39m\u001b[39mos.PathLike[str]\u001b[39m\u001b[39m'\u001b[39m]  \u001b[39m# type: ignore\u001b[39;00m\n\u001b[0;32m      9\u001b[0m \u001b[39mfrom\u001b[39;00m \u001b[39mcharset_normalizer\u001b[39;00m\u001b[39m.\u001b[39;00m\u001b[39mconstant\u001b[39;00m \u001b[39mimport\u001b[39;00m TOO_SMALL_SEQUENCE, TOO_BIG_SEQUENCE, IANA_SUPPORTED\n\u001b[1;32m---> 10\u001b[0m \u001b[39mfrom\u001b[39;00m \u001b[39mcharset_normalizer\u001b[39;00m\u001b[39m.\u001b[39;00m\u001b[39mmd\u001b[39;00m \u001b[39mimport\u001b[39;00m mess_ratio\n\u001b[0;32m     11\u001b[0m \u001b[39mfrom\u001b[39;00m \u001b[39mcharset_normalizer\u001b[39;00m\u001b[39m.\u001b[39;00m\u001b[39mmodels\u001b[39;00m \u001b[39mimport\u001b[39;00m CharsetMatches, CharsetMatch\n\u001b[0;32m     12\u001b[0m \u001b[39mfrom\u001b[39;00m \u001b[39mwarnings\u001b[39;00m \u001b[39mimport\u001b[39;00m warn\n",
      "\u001b[1;31mAttributeError\u001b[0m: partially initialized module 'charset_normalizer' has no attribute 'md__mypyc' (most likely due to a circular import)"
     ]
    }
   ],
   "source": [
    "# \"\"\"\n",
    "# agt_netQ.py\n",
    "# ニューラルネット（Qネットワーク）を使ったQ学習アルゴリズム\n",
    "# \"\"\"\n",
    "# import numpy as np\n",
    "# import os\n",
    "# import torch\n",
    "# from torch import nn\n",
    "\n",
    "# import torch.optim as optim\n",
    "# from torch.utils.data import DataLoader\n",
    "# from torchvision import datasets, transforms\n",
    "# # from tensorflow.keras.models import Sequential\n",
    "# # from tensorflow.keras.layers import Dense, Flatten\n",
    "\n",
    "\n",
    "\n",
    "\n",
    "# import mujoco\n",
    "\n",
    "# # 自作モジュール\n",
    "# # import core\n"
   ]
  },
  {
   "cell_type": "code",
   "execution_count": null,
   "metadata": {},
   "outputs": [
    {
     "name": "stdout",
     "output_type": "stream",
     "text": [
      "SimpleNet(\n",
      "  (fc1): Linear(in_features=4, out_features=32, bias=True)\n",
      "  (fc2): Linear(in_features=32, out_features=2, bias=True)\n",
      "  (relu): ReLU()\n",
      ")\n"
     ]
    }
   ],
   "source": [
    "# # ネットワークの定義\n",
    "# class SimpleNet(nn.Module):\n",
    "#     def __init__(self):\n",
    "#         super(SimpleNet, self).__init__()\n",
    "#         self.fc1 = nn.Linear(4, 32)  # 入力層から中間層への結合\n",
    "#         self.fc2 = nn.Linear(32, 2)  # 中間層から出力層への結合\n",
    "\n",
    "#     def forward(self, x):\n",
    "#         x = torch.relu(self.fc1(x))  # 中間層でReLUを使用\n",
    "#         x = self.fc2(x)  # 出力層では活性化関数を使わない（恒等関数）\n",
    "#         return x\n",
    "\n",
    "# # ネットワークのインスタンス化\n",
    "# net = SimpleNet()\n",
    "\n",
    "# # オプティマイザの定義\n",
    "# optimizer = optim.Adam(net.parameters(), lr=0.01)\n",
    "\n",
    "# # ネットワークの構造を表示\n",
    "# print(net)\n",
    "\n"
   ]
  },
  {
   "cell_type": "code",
   "execution_count": null,
   "metadata": {},
   "outputs": [],
   "source": [
    "# class NetQAgt(coreAgt):\n",
    "#     \"\"\" Qネットワークを使ったQ学習エージェントクラス \"\"\"\n",
    "#     def __init__(               # 引数とデフォルト値の設定 (A)\n",
    "#             self,\n",
    "#             n_act=3,            # int: 行動の種類数（ネットワークの出力数）\n",
    "#             input_size=(4,),    # tuple of int: 入力サイズ\n",
    "#             n_dense=32,         # int: 中間層のニューロン数\n",
    "#             epsilon=0.1,        # float: 乱雑度\n",
    "#             gamma=0.9,          # float: 割引率\n",
    "#             filepath=None,      # str: 保存ファイル名\n",
    "#             ):\n",
    "#         \"\"\" 初期処理 \"\"\"\n",
    "#         # 引数の設定は適時編集\n",
    "#         self.epsilon = epsilon\n",
    "#         # ------------------------- 編集ここから\n",
    "\n",
    "#         # アトリビュートにパラメータを保存 (B)\n",
    "#         self.n_act = n_act\n",
    "#         self.input_size = input_size\n",
    "#         self.n_dense = n_dense\n",
    "#         self.gamma = gamma\n",
    "#         self.filepath = filepath\n",
    "\n",
    "#         # アトリビュートにモデルを保存 (C)\n",
    "#         self.model = self._build_Qnet()\n",
    "#         # ------------------------- ここまで\n",
    "\n",
    "#     def _build_Qnet(self):\n",
    "#         \"\"\" 指定したパラメータでQネットワークを構築 \"\"\"\n",
    "#         # Qネットワークの構築 (A)\n",
    "#         self.net = SimpleNet()\n",
    "#         # オプティマイザの定義\n",
    "#         self.optimizer = optim.Adam(net.parameters(), lr=0.01)\n",
    "#         # 損失関数の定義\n",
    "#         self.criterion = nn.CrossEntropyLoss()\n",
    "\n",
    "#         return net\n",
    "\n",
    "#     def select_action(self, obs):\n",
    "#         \"\"\"  観測に対して行動を出力 \"\"\"\n",
    "#     # ------------------------- 編集ここから\n",
    "#     # 確率的に処理を分岐 (A)\n",
    "#         if np.random.rand() < self.epsilon:\n",
    "#             # ランダム行動 (B)\n",
    "#             act = np.random.randint(0, self.n_act)\n",
    "#         else:\n",
    "#             # obsに対するQ値のリストを取得 (C)\n",
    "#             Q = self.get_Q(obs)\n",
    "\n",
    "#             # Qを最大にする行動\n",
    "#             act = np.argmax(Q)\n",
    "#         # ------------------------- ここまで\n",
    "#         return act\n",
    "\n",
    "#     def get_Q(self, obs):\n",
    "#         \"\"\" 観測に対するQ値を出力 \"\"\"\n",
    "#         # ------------------------- 編集ここから\n",
    "#         # 観測obsを入力し出力を得る (A)\n",
    "#         Q = self.model.predict(\n",
    "#             obs.reshape((1,) + self.input_size))[0, :]\n",
    "#         # ------------------------- ここまで\n",
    "#         return Q\n",
    "\n",
    "#     def learn(self, obs, act, rwd, done, next_obs):\n",
    "#         \"\"\" 学習 \"\"\"\n",
    "#         if rwd is None:\n",
    "#             return\n",
    "#         # ------------------------- 編集ここから\n",
    "\n",
    "#         # obs に対するQネットワークの出力yを得る (A)\n",
    "#         y = self.get_Q(obs)\n",
    "\n",
    "#         # target にyの内容をコピーする (B)\n",
    "#         target = y.copy()\n",
    "\n",
    "#         if done is False:\n",
    "#             # 最終状態でなかったら next_obsに対する next_yを得る(C)\n",
    "#             next_y = self.get_Q(next_obs)\n",
    "\n",
    "#             # Q[obs][act]のtarget_actを作成 (D)\n",
    "#             target_act = rwd + self.gamma * max(next_y)\n",
    "#         else:\n",
    "#             # 最終状態の場合は報酬だけでtarget_actを作成 (E)\n",
    "#             target_act = rwd\n",
    "\n",
    "#         # targetのactの要素だけtarget_actにする (F)\n",
    "#         target[act] = target_act\n",
    "\n",
    "#         # obsと target のペアを与えて学習 (G)\n",
    "\n",
    "#         # 学習のループ\n",
    "#         for epoch in range(1):  # 1エポックの例\n",
    "#             optimizer.zero_grad()  # 勾配をリセット\n",
    "#             output = net(obs)  # フォワードパス\n",
    "#             loss = self.criterion(output, target)  # 損失の計算\n",
    "#             loss.backward()  # バックワードパス（勾配の計算）\n",
    "#             optimizer.step()  # パラメータの更新\n",
    "#         # ------------------------- ここまで\n",
    "#         return \n",
    "\n",
    "#     # def save_weights(self, filepath=None):\n",
    "#     #     \"\"\" モデルの重みデータの保存 \"\"\"\n",
    "#     #     # ------------------------- 編集ここから\n",
    "#     #     if filepath is None:\n",
    "#     #         filepath = self.filepath\n",
    "#     #     self.model.save(filepath + '.h5', overwrite=True)\n",
    "#     #     # ------------------------- ここまで\n",
    "\n",
    "#     # def load_weights(self, filepath=None):\n",
    "#     #     \"\"\" モデルの重みデータの読み込み \"\"\"\n",
    "#     #     # ------------------------- 編集ここから\n",
    "#     #     if filepath is None:\n",
    "#     #         filepath = self.filepath\n",
    "#     #     self.model = tf.keras.models.load_model(filepath + '.h5')\n",
    "#     #     # ------------------------- ここまで\n",
    "\n",
    "    \n"
   ]
  },
  {
   "cell_type": "code",
   "execution_count": null,
   "metadata": {},
   "outputs": [],
   "source": [
    "\n"
   ]
  },
  {
   "cell_type": "code",
   "execution_count": null,
   "metadata": {},
   "outputs": [],
   "source": [
    "\n",
    "# if __name__ == '__main__':\n",
    "#     # エージェントのインスタンス生成 (A)\n",
    "#     agt = NetQAgt(n_act=3, input_size=(5,))\n",
    "\n",
    "#     # 行動選択 (B)\n",
    "#     obs = np.array([[1, 1, 1, 1, 1]])\n",
    "#     act = agt.select_action(obs)\n",
    "#     print('act', act)\n",
    "\n",
    "#     # 学習 (C)\n",
    "#     rwd = 1\n",
    "#     done = False\n",
    "#     next_obs = np.array([[1, 1, 1, 1, 2]])\n",
    "#     agt.learn(obs, act, rwd, done, next_obs)\n",
    "\n",
    "#     # モデル構造の表示 (D)\n",
    "#     print('モデルの構造')\n",
    "#     agt.model.summary()\n",
    "\n",
    "#     # 重みパラメータの保存 (E)\n",
    "#     agt.save_weights('agt_data/test')\n",
    "\n",
    "#     # 重みパラメータの読み込み (F)\n",
    "#     agt.load_weights('agt_data/test')\n",
    "\n",
    "#     # モデルへの観測の入力 (G)\n",
    "#     y = agt.model.predict(obs)\n",
    "#     print('モデルの出力 y', y.reshape(-1))\n"
   ]
  },
  {
   "cell_type": "code",
   "execution_count": null,
   "metadata": {},
   "outputs": [
    {
     "name": "stdout",
     "output_type": "stream",
     "text": [
      "mujocoで学習開始!!!\n"
     ]
    },
    {
     "ename": "AttributeError",
     "evalue": "'SimpleNet' object has no attribute 'predict'",
     "output_type": "error",
     "traceback": [
      "\u001b[1;31m---------------------------------------------------------------------------\u001b[0m",
      "\u001b[1;31mAttributeError\u001b[0m                            Traceback (most recent call last)",
      "\u001b[1;32mc:\\myprojects\\iRL\\main\\RL_mouse.ipynb セル 11\u001b[0m line \u001b[0;36m1\n\u001b[0;32m      <a href='vscode-notebook-cell:/c%3A/myprojects/iRL/main/RL_mouse.ipynb#W6sZmlsZQ%3D%3D?line=8'>9</a>\u001b[0m obs \u001b[39m=\u001b[39m env\u001b[39m.\u001b[39mreset()\n\u001b[0;32m     <a href='vscode-notebook-cell:/c%3A/myprojects/iRL/main/RL_mouse.ipynb#W6sZmlsZQ%3D%3D?line=9'>10</a>\u001b[0m \u001b[39mfor\u001b[39;00m t \u001b[39min\u001b[39;00m \u001b[39mrange\u001b[39m(\u001b[39m100\u001b[39m):\n\u001b[1;32m---> <a href='vscode-notebook-cell:/c%3A/myprojects/iRL/main/RL_mouse.ipynb#W6sZmlsZQ%3D%3D?line=10'>11</a>\u001b[0m     act \u001b[39m=\u001b[39m agt\u001b[39m.\u001b[39;49mselect_action(obs) \u001b[39m#たまにQ値最適の行動を選ぶ　グリーディほう\u001b[39;00m\n\u001b[0;32m     <a href='vscode-notebook-cell:/c%3A/myprojects/iRL/main/RL_mouse.ipynb#W6sZmlsZQ%3D%3D?line=11'>12</a>\u001b[0m     rwd, done, next_obs \u001b[39m=\u001b[39m env\u001b[39m.\u001b[39mstep(act) \n\u001b[0;32m     <a href='vscode-notebook-cell:/c%3A/myprojects/iRL/main/RL_mouse.ipynb#W6sZmlsZQ%3D%3D?line=12'>13</a>\u001b[0m     reward_for_graph\u001b[39m.\u001b[39mappend(rwd)\n",
      "\u001b[1;32mc:\\myprojects\\iRL\\main\\RL_mouse.ipynb セル 11\u001b[0m line \u001b[0;36m4\n\u001b[0;32m     <a href='vscode-notebook-cell:/c%3A/myprojects/iRL/main/RL_mouse.ipynb#W6sZmlsZQ%3D%3D?line=45'>46</a>\u001b[0m     act \u001b[39m=\u001b[39m np\u001b[39m.\u001b[39mrandom\u001b[39m.\u001b[39mrandint(\u001b[39m0\u001b[39m, \u001b[39mself\u001b[39m\u001b[39m.\u001b[39mn_act)\n\u001b[0;32m     <a href='vscode-notebook-cell:/c%3A/myprojects/iRL/main/RL_mouse.ipynb#W6sZmlsZQ%3D%3D?line=46'>47</a>\u001b[0m \u001b[39melse\u001b[39;00m:\n\u001b[0;32m     <a href='vscode-notebook-cell:/c%3A/myprojects/iRL/main/RL_mouse.ipynb#W6sZmlsZQ%3D%3D?line=47'>48</a>\u001b[0m     \u001b[39m# obsに対するQ値のリストを取得 (C)\u001b[39;00m\n\u001b[1;32m---> <a href='vscode-notebook-cell:/c%3A/myprojects/iRL/main/RL_mouse.ipynb#W6sZmlsZQ%3D%3D?line=48'>49</a>\u001b[0m     Q \u001b[39m=\u001b[39m \u001b[39mself\u001b[39;49m\u001b[39m.\u001b[39;49mget_Q(obs)\n\u001b[0;32m     <a href='vscode-notebook-cell:/c%3A/myprojects/iRL/main/RL_mouse.ipynb#W6sZmlsZQ%3D%3D?line=50'>51</a>\u001b[0m     \u001b[39m# Qを最大にする行動\u001b[39;00m\n\u001b[0;32m     <a href='vscode-notebook-cell:/c%3A/myprojects/iRL/main/RL_mouse.ipynb#W6sZmlsZQ%3D%3D?line=51'>52</a>\u001b[0m     act \u001b[39m=\u001b[39m np\u001b[39m.\u001b[39margmax(Q)\n",
      "\u001b[1;32mc:\\myprojects\\iRL\\main\\RL_mouse.ipynb セル 11\u001b[0m line \u001b[0;36m6\n\u001b[0;32m     <a href='vscode-notebook-cell:/c%3A/myprojects/iRL/main/RL_mouse.ipynb#W6sZmlsZQ%3D%3D?line=56'>57</a>\u001b[0m \u001b[39m\u001b[39m\u001b[39m\"\"\" 観測に対するQ値を出力 \"\"\"\u001b[39;00m\n\u001b[0;32m     <a href='vscode-notebook-cell:/c%3A/myprojects/iRL/main/RL_mouse.ipynb#W6sZmlsZQ%3D%3D?line=57'>58</a>\u001b[0m \u001b[39m# ------------------------- 編集ここから\u001b[39;00m\n\u001b[0;32m     <a href='vscode-notebook-cell:/c%3A/myprojects/iRL/main/RL_mouse.ipynb#W6sZmlsZQ%3D%3D?line=58'>59</a>\u001b[0m \u001b[39m# 観測obsを入力し出力を得る (A)\u001b[39;00m\n\u001b[1;32m---> <a href='vscode-notebook-cell:/c%3A/myprojects/iRL/main/RL_mouse.ipynb#W6sZmlsZQ%3D%3D?line=59'>60</a>\u001b[0m Q \u001b[39m=\u001b[39m \u001b[39mself\u001b[39;49m\u001b[39m.\u001b[39;49mmodel\u001b[39m.\u001b[39;49mpredict(\n\u001b[0;32m     <a href='vscode-notebook-cell:/c%3A/myprojects/iRL/main/RL_mouse.ipynb#W6sZmlsZQ%3D%3D?line=60'>61</a>\u001b[0m     obs\u001b[39m.\u001b[39mreshape((\u001b[39m1\u001b[39m,) \u001b[39m+\u001b[39m \u001b[39mself\u001b[39m\u001b[39m.\u001b[39minput_size))[\u001b[39m0\u001b[39m, :]\n\u001b[0;32m     <a href='vscode-notebook-cell:/c%3A/myprojects/iRL/main/RL_mouse.ipynb#W6sZmlsZQ%3D%3D?line=61'>62</a>\u001b[0m \u001b[39m# ------------------------- ここまで\u001b[39;00m\n\u001b[0;32m     <a href='vscode-notebook-cell:/c%3A/myprojects/iRL/main/RL_mouse.ipynb#W6sZmlsZQ%3D%3D?line=62'>63</a>\u001b[0m \u001b[39mreturn\u001b[39;00m Q\n",
      "File \u001b[1;32mc:\\Users\\atusi\\anaconda3\\envs\\takara\\lib\\site-packages\\torch\\nn\\modules\\module.py:1614\u001b[0m, in \u001b[0;36mModule.__getattr__\u001b[1;34m(self, name)\u001b[0m\n\u001b[0;32m   1612\u001b[0m     \u001b[39mif\u001b[39;00m name \u001b[39min\u001b[39;00m modules:\n\u001b[0;32m   1613\u001b[0m         \u001b[39mreturn\u001b[39;00m modules[name]\n\u001b[1;32m-> 1614\u001b[0m \u001b[39mraise\u001b[39;00m \u001b[39mAttributeError\u001b[39;00m(\u001b[39m\"\u001b[39m\u001b[39m'\u001b[39m\u001b[39m{}\u001b[39;00m\u001b[39m'\u001b[39m\u001b[39m object has no attribute \u001b[39m\u001b[39m'\u001b[39m\u001b[39m{}\u001b[39;00m\u001b[39m'\u001b[39m\u001b[39m\"\u001b[39m\u001b[39m.\u001b[39mformat(\n\u001b[0;32m   1615\u001b[0m     \u001b[39mtype\u001b[39m(\u001b[39mself\u001b[39m)\u001b[39m.\u001b[39m\u001b[39m__name__\u001b[39m, name))\n",
      "\u001b[1;31mAttributeError\u001b[0m: 'SimpleNet' object has no attribute 'predict'"
     ]
    }
   ],
   "source": [
    "# from tqdm import trange\n",
    "# print('mujocoで学習開始!!!')\n",
    "# reward_for_graph = []\n",
    "\n",
    "# env=MyEnv()\n",
    "\n",
    "# agt= NetQAgt(2,4,32,0.1,0.9,)\n",
    "\n",
    "# obs = env.reset()\n",
    "# for t in range(100):\n",
    "#     act = agt.select_action(obs) #たまにQ値最適の行動を選ぶ　グリーディほう\n",
    "#     rwd, done, next_obs = env.step(act) \n",
    "#     reward_for_graph.append(rwd)\n",
    "\n",
    "#     agt.learn(obs, act, rwd, done, next_obs)\n",
    "\n",
    "#     obs = next_obs\n",
    "\n",
    "\n"
   ]
  },
  {
   "cell_type": "code",
   "execution_count": null,
   "metadata": {},
   "outputs": [
    {
     "name": "stdout",
     "output_type": "stream",
     "text": [
      "^C\n"
     ]
    }
   ],
   "source": [
    "!pip uninstall tensorflow"
   ]
  },
  {
   "cell_type": "code",
   "execution_count": null,
   "metadata": {},
   "outputs": [
    {
     "ename": "AttributeError",
     "evalue": "module 'tensorflow' has no attribute 'keras'",
     "output_type": "error",
     "traceback": [
      "\u001b[1;31m---------------------------------------------------------------------------\u001b[0m",
      "\u001b[1;31mAttributeError\u001b[0m                            Traceback (most recent call last)",
      "\u001b[1;32mc:\\myprojects\\iRL\\main\\RL_mouse.ipynb セル 9\u001b[0m line \u001b[0;36m1\n\u001b[1;32m----> <a href='vscode-notebook-cell:/c%3A/myprojects/iRL/main/RL_mouse.ipynb#X11sZmlsZQ%3D%3D?line=0'>1</a>\u001b[0m fashion_mnist \u001b[39m=\u001b[39m tf\u001b[39m.\u001b[39;49mkeras\u001b[39m.\u001b[39mdatasets\u001b[39m.\u001b[39mfashion_mnist\n",
      "\u001b[1;31mAttributeError\u001b[0m: module 'tensorflow' has no attribute 'keras'"
     ]
    }
   ],
   "source": [
    "fashion_mnist = tf.keras.datasets.fashion_mnist"
   ]
  },
  {
   "cell_type": "code",
   "execution_count": null,
   "metadata": {},
   "outputs": [],
   "source": []
  },
  {
   "cell_type": "markdown",
   "metadata": {},
   "source": [
    "# 離散化コード"
   ]
  },
  {
   "cell_type": "code",
   "execution_count": null,
   "metadata": {},
   "outputs": [],
   "source": [
    "def discretize(value):\n",
    "    # 0から0.18の範囲を10段階に分割\n",
    "    if value == -1:\n",
    "        value = 0.18\n",
    "    discrete_value = int(value / 0.018)\n",
    "    return min(discrete_value, 9)  # 最大値が10段階目になるように調整 9以上にならないようにしている\n",
    "\n",
    "def discretize_values(ob1, ob2, ob3, ob4):\n",
    "    # 各値を離散化\n",
    "    discrete_ob1 = discretize(ob1)\n",
    "    discrete_ob2 = discretize(ob2)\n",
    "    discrete_ob3 = discretize(ob3)\n",
    "    discrete_ob4 = discretize(ob4)\n",
    "    sum = discrete_ob1*1000 + discrete_ob2*100 + discrete_ob3*10 + discrete_ob4*1\n",
    "\n",
    "    return discrete_ob1, discrete_ob2, discrete_ob3, discrete_ob4, sum\n",
    "\n",
    "# 例: ob1=0.05, ob2=0.10, ob3=0.15, ob4=0.18 の場合\n",
    "ob1 = 0.14\n",
    "ob2 = 0.10\n",
    "ob3 = 0.15\n",
    "ob4 = 0.18\n",
    "\n",
    "discrete_ob1, discrete_ob2, discrete_ob3, discrete_ob4, sum = discretize_values(ob1, ob2, ob3, ob4)\n",
    "\n",
    "print(f\"Discretized Values: {discrete_ob1}, {discrete_ob2}, {discrete_ob3}, {discrete_ob4}, {sum}\")"
   ]
  }
 ],
 "metadata": {
  "kernelspec": {
   "display_name": "env_iRL",
   "language": "python",
   "name": "python3"
  },
  "language_info": {
   "codemirror_mode": {
    "name": "ipython",
    "version": 3
   },
   "file_extension": ".py",
   "mimetype": "text/x-python",
   "name": "python",
   "nbconvert_exporter": "python",
   "pygments_lexer": "ipython3",
   "version": "3.9.16"
  }
 },
 "nbformat": 4,
 "nbformat_minor": 2
}
